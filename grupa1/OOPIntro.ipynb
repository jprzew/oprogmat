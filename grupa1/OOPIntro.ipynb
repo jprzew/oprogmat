{
 "cells": [
  {
   "cell_type": "markdown",
   "id": "61f954e6",
   "metadata": {},
   "source": [
    "# Wstęp do programowania zorientowanego obiektowo"
   ]
  },
  {
   "cell_type": "markdown",
   "id": "afa23d24",
   "metadata": {},
   "source": [
    "Symulacja populacji stworzeń biologicznych"
   ]
  },
  {
   "cell_type": "code",
   "execution_count": 119,
   "id": "e104446b",
   "metadata": {},
   "outputs": [],
   "source": [
    "import random\n",
    "import matplotlib.pyplot as plt"
   ]
  },
  {
   "cell_type": "code",
   "execution_count": 120,
   "id": "7a8c2746",
   "metadata": {},
   "outputs": [],
   "source": [
    "class Creature:\n",
    "    alive = True\n",
    "\n",
    "    def __init__(self, p_death=0.1, p_reproduce=0.1):\n",
    "        self.p_death = p_death\n",
    "        self.p_reproduce = p_reproduce\n",
    "    \n",
    "    def natural_selection(self):\n",
    "        if random.random() < self.p_death:\n",
    "            self.alive = False\n",
    "            \n",
    "    def reproduce(self):\n",
    "        if (random.random() < self.p_reproduce) and self.alive:\n",
    "            return Creature(self.p_death + random.normalvariate(0, 0.001),\n",
    "                            self.p_reproduce)"
   ]
  },
  {
   "cell_type": "code",
   "execution_count": 121,
   "id": "de052993",
   "metadata": {},
   "outputs": [],
   "source": [
    "def make_population(n, p_death=0.1, p_reproduce=0.1):\n",
    "    \"\"\"Creates population of n creatures\"\"\"\n",
    "    \n",
    "    return {Creature(p_death, p_reproduce) for _ in range(n)}\n",
    "\n",
    "def count_alive(population):\n",
    "    return len({creature for creature in population if creature.alive})\n",
    "\n",
    "def natural_selection(population):\n",
    "    {creature.natural_selection() for creature in population}\n",
    "    \n",
    "def reproduce(population):\n",
    "    return {creature.reproduce() for creature in population} - {None}"
   ]
  },
  {
   "cell_type": "code",
   "execution_count": 122,
   "id": "cdc56c4b",
   "metadata": {},
   "outputs": [],
   "source": [
    "population = make_population(100)"
   ]
  },
  {
   "cell_type": "code",
   "execution_count": 123,
   "id": "4343ff83",
   "metadata": {},
   "outputs": [
    {
     "data": {
      "text/plain": [
       "(array([  0.,   0.,   0.,   0.,   0., 100.,   0.,   0.,   0.,   0.]),\n",
       " array([-0.4, -0.3, -0.2, -0.1,  0. ,  0.1,  0.2,  0.3,  0.4,  0.5,  0.6]),\n",
       " <BarContainer object of 10 artists>)"
      ]
     },
     "execution_count": 123,
     "metadata": {},
     "output_type": "execute_result"
    },
    {
     "data": {
      "image/png": "[encoded data removed]",
      "text/plain": [
       "<Figure size 432x288 with 1 Axes>"
      ]
     },
     "metadata": {
      "needs_background": "light"
     },
     "output_type": "display_data"
    }
   ],
   "source": [
    "plt.hist([creature.p_death for creature in population])"
   ]
  },
  {
   "cell_type": "code",
   "execution_count": 124,
   "id": "8fd0a8b7",
   "metadata": {},
   "outputs": [],
   "source": [
    "alive = [count_alive(population)]\n",
    "for _ in range(1000):\n",
    "    newborns = reproduce(population)\n",
    "    natural_selection(population)\n",
    "    population = population | newborns\n",
    "    alive.append(count_alive(population))"
   ]
  },
  {
   "cell_type": "code",
   "execution_count": 125,
   "id": "d3fa8368",
   "metadata": {},
   "outputs": [
    {
     "data": {
      "text/plain": [
       "[<matplotlib.lines.Line2D at 0x7f6dfebd9c18>]"
      ]
     },
     "execution_count": 125,
     "metadata": {},
     "output_type": "execute_result"
    },
    {
     "data": {
      "image/png": "[encoded data removed]",
      "text/plain": [
       "<Figure size 432x288 with 1 Axes>"
      ]
     },
     "metadata": {
      "needs_background": "light"
     },
     "output_type": "display_data"
    }
   ],
   "source": [
    "plt.plot(alive)"
   ]
  },
  {
   "cell_type": "code",
   "execution_count": 126,
   "id": "9de7efdf",
   "metadata": {},
   "outputs": [
    {
     "data": {
      "text/plain": [
       "(array([  47.,  121.,  389., 1916., 3447., 3452., 2606., 1124.,  297.,\n",
       "          78.]),\n",
       " array([0.06270458, 0.06635084, 0.0699971 , 0.07364337, 0.07728963,\n",
       "        0.08093589, 0.08458215, 0.08822842, 0.09187468, 0.09552094,\n",
       "        0.09916721]),\n",
       " <BarContainer object of 10 artists>)"
      ]
     },
     "execution_count": 126,
     "metadata": {},
     "output_type": "execute_result"
    },
    {
     "data": {
      "image/png": "[encoded data removed]",
      "text/plain": [
       "<Figure size 432x288 with 1 Axes>"
      ]
     },
     "metadata": {
      "needs_background": "light"
     },
     "output_type": "display_data"
    }
   ],
   "source": [
    "plt.hist([creature.p_death for creature in population if creature.alive])"
   ]
  },
  {
   "cell_type": "code",
   "execution_count": null,
   "id": "beedd9a5",
   "metadata": {},
   "outputs": [],
   "source": []
  }
 ],
 "metadata": {
  "kernelspec": {
   "display_name": "Python 3",
   "language": "python",
   "name": "python3"
  },
  "language_info": {
   "codemirror_mode": {
    "name": "ipython",
    "version": 3
   },
   "file_extension": ".py",
   "mimetype": "text/x-python",
   "name": "python",
   "nbconvert_exporter": "python",
   "pygments_lexer": "ipython3",
   "version": "3.6.9"
  }
 },
 "nbformat": 4,
 "nbformat_minor": 5
}
