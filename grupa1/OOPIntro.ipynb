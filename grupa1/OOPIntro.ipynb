{
 "cells": [
  {
   "cell_type": "markdown",
   "id": "61f954e6",
   "metadata": {},
   "source": [
    "# Wstęp do programowania zorientowanego obiektowo"
   ]
  },
  {
   "cell_type": "markdown",
   "id": "afa23d24",
   "metadata": {},
   "source": [
    "Symulacja populacji stworzeń biologicznych"
   ]
  },
  {
   "cell_type": "code",
   "execution_count": 1,
   "id": "7a8c2746",
   "metadata": {},
   "outputs": [],
   "source": [
    "class Creature:\n",
    "    alive = True  # atrybut\n"
   ]
  },
  {
   "cell_type": "code",
   "execution_count": 26,
   "id": "de052993",
   "metadata": {},
   "outputs": [],
   "source": [
    "def make_population(n):\n",
    "    \"\"\"Creates population of n creatures\"\"\"\n",
    "    \n",
    "    return {Creature() for _ in range(n)}\n",
    "\n",
    "def count_alive(population):\n",
    "    return len({creature for creature in population if creature.alive})"
   ]
  },
  {
   "cell_type": "code",
   "execution_count": 24,
   "id": "cdc56c4b",
   "metadata": {},
   "outputs": [],
   "source": [
    "population = make_population(100)"
   ]
  },
  {
   "cell_type": "code",
   "execution_count": 27,
   "id": "d93f92db",
   "metadata": {},
   "outputs": [
    {
     "data": {
      "text/plain": [
       "100"
      ]
     },
     "execution_count": 27,
     "metadata": {},
     "output_type": "execute_result"
    }
   ],
   "source": [
    "count_alive(population)"
   ]
  },
  {
   "cell_type": "code",
   "execution_count": null,
   "id": "8fd0a8b7",
   "metadata": {},
   "outputs": [],
   "source": []
  }
 ],
 "metadata": {
  "kernelspec": {
   "display_name": "Python 3",
   "language": "python",
   "name": "python3"
  },
  "language_info": {
   "codemirror_mode": {
    "name": "ipython",
    "version": 3
   },
   "file_extension": ".py",
   "mimetype": "text/x-python",
   "name": "python",
   "nbconvert_exporter": "python",
   "pygments_lexer": "ipython3",
   "version": "3.6.9"
  }
 },
 "nbformat": 4,
 "nbformat_minor": 5
}
