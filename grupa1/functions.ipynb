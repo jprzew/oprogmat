{
 "cells": [
  {
   "cell_type": "markdown",
   "id": "759fda3a",
   "metadata": {},
   "source": [
    "# Zadanie 13"
   ]
  },
  {
   "cell_type": "code",
   "execution_count": 53,
   "id": "8e81af01",
   "metadata": {},
   "outputs": [],
   "source": [
    "def f(elements, x):\n",
    "    elements.append(x)  # działa\n",
    "    elements = elements + [x]  # nie działa???"
   ]
  },
  {
   "cell_type": "code",
   "execution_count": 54,
   "id": "af17e091",
   "metadata": {},
   "outputs": [],
   "source": [
    "my_list = [1, 2, 3]"
   ]
  },
  {
   "cell_type": "code",
   "execution_count": 55,
   "id": "313524d3",
   "metadata": {},
   "outputs": [
    {
     "data": {
      "text/plain": [
       "[1, 2, 3]"
      ]
     },
     "execution_count": 55,
     "metadata": {},
     "output_type": "execute_result"
    }
   ],
   "source": [
    "my_list"
   ]
  },
  {
   "cell_type": "code",
   "execution_count": 70,
   "id": "af4dd621",
   "metadata": {},
   "outputs": [],
   "source": [
    "f(my_list, 666)"
   ]
  },
  {
   "cell_type": "code",
   "execution_count": 72,
   "id": "2c0291b7",
   "metadata": {},
   "outputs": [],
   "source": [
    "my_list = my_list + [777]"
   ]
  },
  {
   "cell_type": "code",
   "execution_count": 73,
   "id": "3f4a2e0f",
   "metadata": {},
   "outputs": [
    {
     "data": {
      "text/plain": [
       "[1, 2, 3, 777]"
      ]
     },
     "execution_count": 73,
     "metadata": {},
     "output_type": "execute_result"
    }
   ],
   "source": [
    "my_list"
   ]
  },
  {
   "cell_type": "code",
   "execution_count": null,
   "id": "3b4a7bbb",
   "metadata": {},
   "outputs": [],
   "source": []
  }
 ],
 "metadata": {
  "kernelspec": {
   "display_name": "Python 3",
   "language": "python",
   "name": "python3"
  },
  "language_info": {
   "codemirror_mode": {
    "name": "ipython",
    "version": 3
   },
   "file_extension": ".py",
   "mimetype": "text/x-python",
   "name": "python",
   "nbconvert_exporter": "python",
   "pygments_lexer": "ipython3",
   "version": "3.6.9"
  }
 },
 "nbformat": 4,
 "nbformat_minor": 5
}
