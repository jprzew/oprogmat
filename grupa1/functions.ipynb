{
 "cells": [
  {
   "cell_type": "markdown",
   "id": "759fda3a",
   "metadata": {},
   "source": [
    "# Zadanie 13"
   ]
  },
  {
   "cell_type": "markdown",
   "id": "cdfdd4fe",
   "metadata": {},
   "source": [
    "**Wersja iteracyjna**"
   ]
  },
  {
   "cell_type": "code",
   "execution_count": 31,
   "id": "8e81af01",
   "metadata": {},
   "outputs": [],
   "source": [
    "def factorial1(n):\n",
    "    \"\"\"Calculates factorial (iteratively)\n",
    "    \n",
    "    Args:\n",
    "        n: int - natural number (including zero)\n",
    "        \n",
    "    Returns:\n",
    "        Factorial of n \n",
    "    \"\"\"\n",
    "    \n",
    "    result = 1\n",
    "    for k in range(1, n+1):\n",
    "        result *= k\n",
    "        \n",
    "    return result\n"
   ]
  },
  {
   "cell_type": "code",
   "execution_count": 28,
   "id": "976a5516",
   "metadata": {},
   "outputs": [
    {
     "data": {
      "text/plain": [
       "[1, 1, 2, 6, 24, 120, 720, 5040, 40320, 362880]"
      ]
     },
     "execution_count": 28,
     "metadata": {},
     "output_type": "execute_result"
    }
   ],
   "source": [
    "[factorial1(m) for m in range(10)]"
   ]
  },
  {
   "cell_type": "markdown",
   "id": "2a52b9e3",
   "metadata": {},
   "source": [
    "**Wersja rekurencyjna**"
   ]
  },
  {
   "cell_type": "code",
   "execution_count": 32,
   "id": "b4782db7",
   "metadata": {},
   "outputs": [],
   "source": [
    "def factorial2(n):\n",
    "    \"\"\"Calculates factorial (recursively)\n",
    "    \n",
    "    Args:\n",
    "        n: int - natural number (including zero)\n",
    "        \n",
    "    Returns:\n",
    "        Factorial of n \n",
    "    \"\"\"\n",
    "\n",
    "    if n == 0:\n",
    "        return 1\n",
    "\n",
    "    return factorial2(n-1) * n"
   ]
  },
  {
   "cell_type": "code",
   "execution_count": 30,
   "id": "60244abd",
   "metadata": {},
   "outputs": [
    {
     "data": {
      "text/plain": [
       "[1, 1, 2, 6, 24, 120, 720, 5040, 40320, 362880]"
      ]
     },
     "execution_count": 30,
     "metadata": {},
     "output_type": "execute_result"
    }
   ],
   "source": [
    "[factorial2(m) for m in range(10)]"
   ]
  },
  {
   "cell_type": "code",
   "execution_count": 34,
   "id": "bc8e5ad7",
   "metadata": {},
   "outputs": [
    {
     "name": "stdout",
     "output_type": "stream",
     "text": [
      "print(value, ..., sep=' ', end='\\n', file=sys.stdout, flush=False)\n",
      "\n",
      "Prints the values to a stream, or to sys.stdout by default.\n",
      "Optional keyword arguments:\n",
      "file:  a file-like object (stream); defaults to the current sys.stdout.\n",
      "sep:   string inserted between values, default a space.\n",
      "end:   string appended after the last value, default a newline.\n",
      "flush: whether to forcibly flush the stream.\n"
     ]
    }
   ],
   "source": [
    "print(print.__doc__)"
   ]
  },
  {
   "cell_type": "code",
   "execution_count": 35,
   "id": "c0e1de01",
   "metadata": {},
   "outputs": [],
   "source": [
    "print?"
   ]
  },
  {
   "cell_type": "code",
   "execution_count": 36,
   "id": "5914b002",
   "metadata": {},
   "outputs": [],
   "source": [
    "factorial1?"
   ]
  },
  {
   "cell_type": "markdown",
   "id": "d85991a0",
   "metadata": {},
   "source": [
    "# Zadanie 14"
   ]
  },
  {
   "cell_type": "markdown",
   "id": "7b429e7d",
   "metadata": {},
   "source": [
    "**Wersja rekurencyjne**"
   ]
  },
  {
   "cell_type": "code",
   "execution_count": 60,
   "id": "490c0c0d",
   "metadata": {},
   "outputs": [],
   "source": [
    "def fibonacci1(n):\n",
    "    \"\"\"Calculates n-th Fibonacci number (recursively)\n",
    "    \n",
    "    Args:\n",
    "        n: int - natural number (including zero)\n",
    "        \n",
    "    Returns:\n",
    "        n-th Fibonacci number\n",
    "    \"\"\"\n",
    "    \n",
    "    if n == 0:\n",
    "        return 0\n",
    "    if n == 1:\n",
    "        return 1\n",
    "    \n",
    "    return fibonacci1(n-1) + fibonacci1(n-2)"
   ]
  },
  {
   "cell_type": "code",
   "execution_count": 66,
   "id": "5d76521e",
   "metadata": {},
   "outputs": [
    {
     "data": {
      "text/plain": [
       "[0, 1, 1, 2, 3, 5, 8, 13, 21, 34, 55, 89, 144, 233, 377]"
      ]
     },
     "execution_count": 66,
     "metadata": {},
     "output_type": "execute_result"
    }
   ],
   "source": [
    "[fibonacci1(m) for m in range(15)]"
   ]
  },
  {
   "cell_type": "markdown",
   "id": "95a695f0",
   "metadata": {},
   "source": [
    "**Wersja iteracyjna**"
   ]
  },
  {
   "cell_type": "code",
   "execution_count": 68,
   "id": "fda41da1",
   "metadata": {},
   "outputs": [],
   "source": [
    "def fibonacci2(n):\n",
    "    \"\"\"Calculates n-th Fibonacci number (iteratively)\n",
    "    \n",
    "    Args:\n",
    "        n: int - natural number (including zero)\n",
    "        \n",
    "    Returns:\n",
    "        n-th Fibonacci number\n",
    "    \"\"\"    \n",
    "    \n",
    "    if n == 0:\n",
    "        return 0\n",
    "    \n",
    "    calculated = [0, 1]\n",
    "    for k in range(2, n+1):\n",
    "        calculated.append(calculated[-1] + calculated[-2])\n",
    "\n",
    "    return calculated[-1]"
   ]
  },
  {
   "cell_type": "code",
   "execution_count": 69,
   "id": "311b90a1",
   "metadata": {},
   "outputs": [
    {
     "data": {
      "text/plain": [
       "[0, 1, 1, 2, 3, 5, 8, 13, 21, 34, 55, 89, 144, 233, 377]"
      ]
     },
     "execution_count": 69,
     "metadata": {},
     "output_type": "execute_result"
    }
   ],
   "source": [
    "[fibonacci2(m) for m in range(15)]"
   ]
  },
  {
   "cell_type": "code",
   "execution_count": null,
   "id": "32bd233a",
   "metadata": {},
   "outputs": [],
   "source": []
  }
 ],
 "metadata": {
  "kernelspec": {
   "display_name": "Python 3",
   "language": "python",
   "name": "python3"
  },
  "language_info": {
   "codemirror_mode": {
    "name": "ipython",
    "version": 3
   },
   "file_extension": ".py",
   "mimetype": "text/x-python",
   "name": "python",
   "nbconvert_exporter": "python",
   "pygments_lexer": "ipython3",
   "version": "3.6.9"
  }
 },
 "nbformat": 4,
 "nbformat_minor": 5
}
