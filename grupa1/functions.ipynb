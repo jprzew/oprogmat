{
 "cells": [
  {
   "cell_type": "markdown",
   "id": "759fda3a",
   "metadata": {},
   "source": [
    "# Zadanie 13"
   ]
  },
  {
   "cell_type": "markdown",
   "id": "cdfdd4fe",
   "metadata": {},
   "source": [
    "**Wersja iteracyjna**"
   ]
  },
  {
   "cell_type": "code",
   "execution_count": 35,
   "id": "8e81af01",
   "metadata": {},
   "outputs": [],
   "source": [
    "def factorial1(n):\n",
    "    \"\"\"Calculates factorial (iteratively)\n",
    "    \n",
    "    Args:\n",
    "        n: int - natural number (including zero)\n",
    "        \n",
    "    Returns:\n",
    "        Factorial of n \n",
    "    \"\"\"\n",
    "    \n",
    "    result = 1\n",
    "    for k in range(1, n+1):\n",
    "        result *= k\n",
    "        \n",
    "    return result\n"
   ]
  },
  {
   "cell_type": "code",
   "execution_count": 28,
   "id": "976a5516",
   "metadata": {},
   "outputs": [
    {
     "data": {
      "text/plain": [
       "[1, 1, 2, 6, 24, 120, 720, 5040, 40320, 362880]"
      ]
     },
     "execution_count": 28,
     "metadata": {},
     "output_type": "execute_result"
    }
   ],
   "source": [
    "[factorial1(m) for m in range(10)]"
   ]
  },
  {
   "cell_type": "markdown",
   "id": "2a52b9e3",
   "metadata": {},
   "source": [
    "**Wersja rekurencyjna**"
   ]
  },
  {
   "cell_type": "code",
   "execution_count": 32,
   "id": "b4782db7",
   "metadata": {},
   "outputs": [],
   "source": [
    "def factorial2(n):\n",
    "    \"\"\"Calculates factorial (recursively)\n",
    "    \n",
    "    Args:\n",
    "        n: int - natural number (including zero)\n",
    "        \n",
    "    Returns:\n",
    "        Factorial of n \n",
    "    \"\"\"\n",
    "\n",
    "    if n == 0:\n",
    "        return 1\n",
    "\n",
    "    return factorial2(n-1) * n"
   ]
  },
  {
   "cell_type": "code",
   "execution_count": 30,
   "id": "60244abd",
   "metadata": {},
   "outputs": [
    {
     "data": {
      "text/plain": [
       "[1, 1, 2, 6, 24, 120, 720, 5040, 40320, 362880]"
      ]
     },
     "execution_count": 30,
     "metadata": {},
     "output_type": "execute_result"
    }
   ],
   "source": [
    "[factorial2(m) for m in range(10)]"
   ]
  },
  {
   "cell_type": "code",
   "execution_count": 34,
   "id": "bc8e5ad7",
   "metadata": {},
   "outputs": [
    {
     "name": "stdout",
     "output_type": "stream",
     "text": [
      "print(value, ..., sep=' ', end='\\n', file=sys.stdout, flush=False)\n",
      "\n",
      "Prints the values to a stream, or to sys.stdout by default.\n",
      "Optional keyword arguments:\n",
      "file:  a file-like object (stream); defaults to the current sys.stdout.\n",
      "sep:   string inserted between values, default a space.\n",
      "end:   string appended after the last value, default a newline.\n",
      "flush: whether to forcibly flush the stream.\n"
     ]
    }
   ],
   "source": [
    "print(print.__doc__)"
   ]
  },
  {
   "cell_type": "code",
   "execution_count": 34,
   "id": "c0e1de01",
   "metadata": {},
   "outputs": [],
   "source": [
    "print?"
   ]
  },
  {
   "cell_type": "code",
   "execution_count": 36,
   "id": "5914b002",
   "metadata": {},
   "outputs": [],
   "source": [
    "factorial1?"
   ]
  },
  {
   "cell_type": "markdown",
   "id": "d85991a0",
   "metadata": {},
   "source": [
    "# Zadanie 14"
   ]
  },
  {
   "cell_type": "markdown",
   "id": "7b429e7d",
   "metadata": {},
   "source": [
    "**Wersja rekurencyjna**"
   ]
  },
  {
   "cell_type": "code",
   "execution_count": 10,
   "id": "490c0c0d",
   "metadata": {},
   "outputs": [],
   "source": [
    "def fibonacci1(n):\n",
    "    \"\"\"Calculates n-th Fibonacci number (recursively)\n",
    "    \n",
    "    Args:\n",
    "        n: int - natural number (including zero)\n",
    "        \n",
    "    Returns:\n",
    "        n-th Fibonacci number\n",
    "    \"\"\"\n",
    "    \n",
    "    if n == 0:\n",
    "        return 0\n",
    "    if n == 1:\n",
    "        return 1\n",
    "    \n",
    "    return fibonacci1(n-1) + fibonacci1(n-2)"
   ]
  },
  {
   "cell_type": "code",
   "execution_count": 11,
   "id": "5d76521e",
   "metadata": {},
   "outputs": [
    {
     "data": {
      "text/plain": [
       "[0, 1, 1, 2, 3, 5, 8, 13, 21, 34, 55, 89, 144, 233, 377]"
      ]
     },
     "execution_count": 11,
     "metadata": {},
     "output_type": "execute_result"
    }
   ],
   "source": [
    "[fibonacci1(m) for m in range(15)]"
   ]
  },
  {
   "cell_type": "markdown",
   "id": "95a695f0",
   "metadata": {},
   "source": [
    "**Wersja iteracyjna**"
   ]
  },
  {
   "cell_type": "code",
   "execution_count": 12,
   "id": "fda41da1",
   "metadata": {},
   "outputs": [],
   "source": [
    "def fibonacci2(n):\n",
    "    \"\"\"Calculates n-th Fibonacci number (iteratively)\n",
    "    \n",
    "    Args:\n",
    "        n: int - natural number (including zero)\n",
    "        \n",
    "    Returns:\n",
    "        n-th Fibonacci number\n",
    "    \"\"\"    \n",
    "    \n",
    "    if n == 0:\n",
    "        return 0\n",
    "    \n",
    "    calculated = [0, 1]\n",
    "    for _ in range(2, n+1):\n",
    "        calculated.append(calculated[-1] + calculated[-2])\n",
    "\n",
    "    return calculated[-1]"
   ]
  },
  {
   "cell_type": "code",
   "execution_count": 13,
   "id": "311b90a1",
   "metadata": {},
   "outputs": [
    {
     "data": {
      "text/plain": [
       "[0, 1, 1, 2, 3, 5, 8, 13, 21, 34, 55, 89, 144, 233, 377]"
      ]
     },
     "execution_count": 13,
     "metadata": {},
     "output_type": "execute_result"
    }
   ],
   "source": [
    "[fibonacci2(m) for m in range(15)]"
   ]
  },
  {
   "cell_type": "markdown",
   "id": "f4a9ee17",
   "metadata": {},
   "source": [
    "**Analityczna**"
   ]
  },
  {
   "cell_type": "code",
   "execution_count": 14,
   "id": "c877ad63",
   "metadata": {},
   "outputs": [],
   "source": [
    "def fibonacci3(n):\n",
    "    \"\"\"Calculates n-th Fibonacci number (analiticaly)\n",
    "    \n",
    "    Args:\n",
    "        n: int - natural number (including zero)\n",
    "        \n",
    "    Returns:\n",
    "        n-th Fibonacci number\n",
    "    \"\"\" \n",
    "    phi = (1 + 5**0.5) / 2\n",
    "    psi = 1 - phi\n",
    "    \n",
    "    return int((phi**n - psi**n) / 5**0.5)"
   ]
  },
  {
   "cell_type": "code",
   "execution_count": 15,
   "id": "81c40810",
   "metadata": {},
   "outputs": [
    {
     "data": {
      "text/plain": [
       "[0, 1, 1, 2, 3, 5, 8, 13, 21, 34, 55, 89, 144, 233, 377]"
      ]
     },
     "execution_count": 15,
     "metadata": {},
     "output_type": "execute_result"
    }
   ],
   "source": [
    "[fibonacci3(m) for m in range(15)]"
   ]
  },
  {
   "cell_type": "code",
   "execution_count": 30,
   "id": "2a4c89ad",
   "metadata": {},
   "outputs": [],
   "source": [
    "n = 30"
   ]
  },
  {
   "cell_type": "markdown",
   "id": "d9cdf00b",
   "metadata": {},
   "source": [
    "**Najszybsza**"
   ]
  },
  {
   "cell_type": "code",
   "execution_count": 31,
   "id": "82d6ffe3",
   "metadata": {},
   "outputs": [
    {
     "name": "stdout",
     "output_type": "stream",
     "text": [
      "The slowest run took 5.20 times longer than the fastest. This could mean that an intermediate result is being cached.\n",
      "1000000 loops, best of 3: 1.21 µs per loop\n"
     ]
    }
   ],
   "source": [
    "%timeit fibonacci3(n)"
   ]
  },
  {
   "cell_type": "markdown",
   "id": "1fcd8bd1",
   "metadata": {},
   "source": [
    "**Wolniejsza**"
   ]
  },
  {
   "cell_type": "code",
   "execution_count": 32,
   "id": "7364a4cb",
   "metadata": {},
   "outputs": [
    {
     "name": "stdout",
     "output_type": "stream",
     "text": [
      "100000 loops, best of 3: 13.7 µs per loop\n"
     ]
    }
   ],
   "source": [
    "%timeit fibonacci2(n)"
   ]
  },
  {
   "cell_type": "markdown",
   "id": "776712e0",
   "metadata": {},
   "source": [
    "**Najwolniejsza**"
   ]
  },
  {
   "cell_type": "code",
   "execution_count": 33,
   "id": "89b5a897",
   "metadata": {},
   "outputs": [
    {
     "name": "stdout",
     "output_type": "stream",
     "text": [
      "1 loop, best of 3: 1.08 s per loop\n"
     ]
    }
   ],
   "source": [
    "%timeit fibonacci1(n)"
   ]
  },
  {
   "cell_type": "markdown",
   "id": "e3b7a2cd",
   "metadata": {},
   "source": [
    "## Zadanie 15"
   ]
  },
  {
   "cell_type": "code",
   "execution_count": 40,
   "id": "e5192220",
   "metadata": {},
   "outputs": [],
   "source": [
    "def print_docstring(function):\n",
    "    \"\"\"Prints docstring of a given function\n",
    "    \n",
    "    Args:\n",
    "        function: function - a function to print a docstring of\n",
    "    \"\"\" \n",
    "    print(function.__doc__)"
   ]
  },
  {
   "cell_type": "code",
   "execution_count": 38,
   "id": "fe68a763",
   "metadata": {},
   "outputs": [
    {
     "name": "stdout",
     "output_type": "stream",
     "text": [
      "print(value, ..., sep=' ', end='\\n', file=sys.stdout, flush=False)\n",
      "\n",
      "Prints the values to a stream, or to sys.stdout by default.\n",
      "Optional keyword arguments:\n",
      "file:  a file-like object (stream); defaults to the current sys.stdout.\n",
      "sep:   string inserted between values, default a space.\n",
      "end:   string appended after the last value, default a newline.\n",
      "flush: whether to forcibly flush the stream.\n"
     ]
    }
   ],
   "source": [
    "print_docstring(print)"
   ]
  },
  {
   "cell_type": "code",
   "execution_count": 39,
   "id": "05790ab3",
   "metadata": {},
   "outputs": [
    {
     "name": "stdout",
     "output_type": "stream",
     "text": [
      "Calculates n-th Fibonacci number (recursively)\n",
      "    \n",
      "    Args:\n",
      "        n: int - natural number (including zero)\n",
      "        \n",
      "    Returns:\n",
      "        n-th Fibonacci number\n",
      "    \n"
     ]
    }
   ],
   "source": [
    "print_docstring(fibonacci1)"
   ]
  },
  {
   "cell_type": "code",
   "execution_count": 41,
   "id": "7221534b",
   "metadata": {},
   "outputs": [
    {
     "name": "stdout",
     "output_type": "stream",
     "text": [
      "Prints docstring of a given function\n",
      "    \n",
      "    Args:\n",
      "        function: function - a function to print a docstring of\n",
      "    \n"
     ]
    }
   ],
   "source": [
    "print_docstring(print_docstring)"
   ]
  },
  {
   "cell_type": "code",
   "execution_count": 42,
   "id": "fee335eb",
   "metadata": {},
   "outputs": [
    {
     "name": "stdout",
     "output_type": "stream",
     "text": [
      "max(iterable, *[, default=obj, key=func]) -> value\n",
      "max(arg1, arg2, *args, *[, key=func]) -> value\n",
      "\n",
      "With a single iterable argument, return its biggest item. The\n",
      "default keyword-only argument specifies an object to return if\n",
      "the provided iterable is empty.\n",
      "With two or more arguments, return the largest argument.\n"
     ]
    }
   ],
   "source": [
    "print_docstring(max)"
   ]
  },
  {
   "cell_type": "markdown",
   "id": "8b43e9fe",
   "metadata": {},
   "source": [
    "# Zadanie 17"
   ]
  },
  {
   "cell_type": "code",
   "execution_count": 12,
   "id": "1b001444",
   "metadata": {},
   "outputs": [],
   "source": [
    "def is_prime(n) :\n",
    "    \"\"\"Checks if n is a prime number\n",
    "    \n",
    "    Args:\n",
    "        n: int - natural number (including zero)\n",
    "        \n",
    "    Returns:\n",
    "        True if n is prime; otherwise False\n",
    "    \"\"\"\n",
    "    primes = [2]\n",
    "    for k in range(3,n+1):\n",
    "        for divisor in primes:\n",
    "            if k % divisor == 0:\n",
    "                break\n",
    "        else:\n",
    "            primes.append(k)\n",
    "\n",
    "    if n in primes:\n",
    "        return True\n",
    "    else:\n",
    "        return False"
   ]
  },
  {
   "cell_type": "code",
   "execution_count": 16,
   "id": "996e1be5",
   "metadata": {},
   "outputs": [],
   "source": [
    "def is_prime2(n) :\n",
    "    \"\"\"Checks if n is a prime number\n",
    "    \n",
    "    Args:\n",
    "        n: int - natural number (including zero)\n",
    "        \n",
    "    Returns:\n",
    "        True if n is prime; otherwise False\n",
    "    \"\"\"\n",
    "    \n",
    "    if n in {0, 1}:\n",
    "        return False\n",
    "    \n",
    "    for divisor in range(2, int(n**0.5) + 1):\n",
    "        if n % divisor == 0:\n",
    "            return False\n",
    "\n",
    "    return True\n",
    "    "
   ]
  },
  {
   "cell_type": "code",
   "execution_count": 17,
   "id": "fc04afc4",
   "metadata": {},
   "outputs": [
    {
     "data": {
      "text/plain": [
       "{0: False,\n",
       " 1: False,\n",
       " 2: True,\n",
       " 3: True,\n",
       " 4: False,\n",
       " 5: True,\n",
       " 6: False,\n",
       " 7: True,\n",
       " 8: False,\n",
       " 9: False,\n",
       " 10: False,\n",
       " 11: True,\n",
       " 12: False,\n",
       " 13: True,\n",
       " 14: False,\n",
       " 15: False,\n",
       " 16: False,\n",
       " 17: True,\n",
       " 18: False,\n",
       " 19: True,\n",
       " 20: False,\n",
       " 21: False,\n",
       " 22: False,\n",
       " 23: True,\n",
       " 24: False,\n",
       " 25: False,\n",
       " 26: False,\n",
       " 27: False,\n",
       " 28: False,\n",
       " 29: True,\n",
       " 30: False,\n",
       " 31: True,\n",
       " 32: False,\n",
       " 33: False,\n",
       " 34: False,\n",
       " 35: False,\n",
       " 36: False,\n",
       " 37: True,\n",
       " 38: False,\n",
       " 39: False,\n",
       " 40: False,\n",
       " 41: True,\n",
       " 42: False,\n",
       " 43: True,\n",
       " 44: False,\n",
       " 45: False,\n",
       " 46: False,\n",
       " 47: True,\n",
       " 48: False,\n",
       " 49: False,\n",
       " 50: False,\n",
       " 51: False,\n",
       " 52: False,\n",
       " 53: True,\n",
       " 54: False,\n",
       " 55: False,\n",
       " 56: False,\n",
       " 57: False,\n",
       " 58: False,\n",
       " 59: True,\n",
       " 60: False,\n",
       " 61: True,\n",
       " 62: False,\n",
       " 63: False,\n",
       " 64: False,\n",
       " 65: False,\n",
       " 66: False,\n",
       " 67: True,\n",
       " 68: False,\n",
       " 69: False,\n",
       " 70: False,\n",
       " 71: True,\n",
       " 72: False,\n",
       " 73: True,\n",
       " 74: False,\n",
       " 75: False,\n",
       " 76: False,\n",
       " 77: False,\n",
       " 78: False,\n",
       " 79: True,\n",
       " 80: False,\n",
       " 81: False,\n",
       " 82: False,\n",
       " 83: True,\n",
       " 84: False,\n",
       " 85: False,\n",
       " 86: False,\n",
       " 87: False,\n",
       " 88: False,\n",
       " 89: True,\n",
       " 90: False,\n",
       " 91: False,\n",
       " 92: False,\n",
       " 93: False,\n",
       " 94: False,\n",
       " 95: False,\n",
       " 96: False,\n",
       " 97: True,\n",
       " 98: False,\n",
       " 99: False}"
      ]
     },
     "execution_count": 17,
     "metadata": {},
     "output_type": "execute_result"
    }
   ],
   "source": [
    "{n: is_prime2(n) for n in range(100)}"
   ]
  },
  {
   "cell_type": "code",
   "execution_count": 18,
   "id": "3c531777",
   "metadata": {},
   "outputs": [
    {
     "data": {
      "text/plain": [
       "True"
      ]
     },
     "execution_count": 18,
     "metadata": {},
     "output_type": "execute_result"
    }
   ],
   "source": [
    "{n: is_prime2(n) for n in range(100)} == {n: is_prime(n) for n in range(100)}"
   ]
  },
  {
   "cell_type": "code",
   "execution_count": 19,
   "id": "8e972b1a",
   "metadata": {},
   "outputs": [
    {
     "name": "stdout",
     "output_type": "stream",
     "text": [
      "100 loops, best of 3: 3.41 ms per loop\n"
     ]
    }
   ],
   "source": [
    "%timeit is_prime(1000)"
   ]
  },
  {
   "cell_type": "code",
   "execution_count": 20,
   "id": "1860dd0c",
   "metadata": {},
   "outputs": [
    {
     "name": "stdout",
     "output_type": "stream",
     "text": [
      "1000000 loops, best of 3: 1.72 µs per loop\n"
     ]
    }
   ],
   "source": [
    "%timeit is_prime2(1000)"
   ]
  },
  {
   "cell_type": "markdown",
   "id": "14265262",
   "metadata": {},
   "source": [
    "# Zadanie 18"
   ]
  },
  {
   "cell_type": "code",
   "execution_count": 26,
   "id": "bcc31f5f",
   "metadata": {},
   "outputs": [],
   "source": [
    "def print_primes(lower, upper):\n",
    "    \"\"\"Prints primes in the given interval\n",
    "    \n",
    "    Args:\n",
    "        lower: int - lower bondary of the interval\n",
    "        uppper: int - upper boundary of the interval\n",
    "    \n",
    "    \"\"\"\n",
    "    \n",
    "    print([number for number in range(lower, upper) if is_prime(number)])\n",
    "    "
   ]
  },
  {
   "cell_type": "code",
   "execution_count": 27,
   "id": "35ab2bdb",
   "metadata": {},
   "outputs": [
    {
     "name": "stdout",
     "output_type": "stream",
     "text": [
      "[2, 3, 5, 7, 11, 13, 17, 19, 23, 29, 31, 37, 41, 43, 47, 53, 59, 61, 67, 71, 73, 79, 83, 89, 97]\n"
     ]
    }
   ],
   "source": [
    "print_primes(1, 100)"
   ]
  },
  {
   "cell_type": "code",
   "execution_count": null,
   "id": "f8830e99",
   "metadata": {},
   "outputs": [],
   "source": []
  }
 ],
 "metadata": {
  "kernelspec": {
   "display_name": "Python 3",
   "language": "python",
   "name": "python3"
  },
  "language_info": {
   "codemirror_mode": {
    "name": "ipython",
    "version": 3
   },
   "file_extension": ".py",
   "mimetype": "text/x-python",
   "name": "python",
   "nbconvert_exporter": "python",
   "pygments_lexer": "ipython3",
   "version": "3.6.9"
  }
 },
 "nbformat": 4,
 "nbformat_minor": 5
}
