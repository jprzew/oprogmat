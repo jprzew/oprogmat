{
 "cells": [
  {
   "cell_type": "code",
   "execution_count": 1,
   "id": "5ddaebd5",
   "metadata": {},
   "outputs": [],
   "source": [
    "from mymath.linalg import Vect"
   ]
  },
  {
   "cell_type": "code",
   "execution_count": 2,
   "id": "9ab648ea",
   "metadata": {},
   "outputs": [],
   "source": [
    "v1 = Vect([1, 0, 0, 1])"
   ]
  },
  {
   "cell_type": "code",
   "execution_count": 3,
   "id": "0f416ffa",
   "metadata": {},
   "outputs": [
    {
     "data": {
      "text/plain": [
       "Vector([1, 0, 0, 1])"
      ]
     },
     "execution_count": 3,
     "metadata": {},
     "output_type": "execute_result"
    }
   ],
   "source": [
    "v1"
   ]
  },
  {
   "cell_type": "code",
   "execution_count": 4,
   "id": "bc0ee8fa",
   "metadata": {},
   "outputs": [],
   "source": [
    "v2 = Vect([1, -1, 2])"
   ]
  },
  {
   "cell_type": "code",
   "execution_count": 8,
   "id": "f4d0de57",
   "metadata": {},
   "outputs": [
    {
     "data": {
      "text/plain": [
       "Vector([0, 0, 0])"
      ]
     },
     "execution_count": 8,
     "metadata": {},
     "output_type": "execute_result"
    }
   ],
   "source": [
    "v2 * False"
   ]
  },
  {
   "cell_type": "code",
   "execution_count": null,
   "id": "e7652f6d",
   "metadata": {},
   "outputs": [],
   "source": []
  }
 ],
 "metadata": {
  "kernelspec": {
   "display_name": "Python 3",
   "language": "python",
   "name": "python3"
  },
  "language_info": {
   "codemirror_mode": {
    "name": "ipython",
    "version": 3
   },
   "file_extension": ".py",
   "mimetype": "text/x-python",
   "name": "python",
   "nbconvert_exporter": "python",
   "pygments_lexer": "ipython3",
   "version": "3.6.9"
  }
 },
 "nbformat": 4,
 "nbformat_minor": 5
}
