{
 "cells": [
  {
   "cell_type": "code",
   "execution_count": 1,
   "id": "5ddaebd5",
   "metadata": {},
   "outputs": [],
   "source": [
    "from mymath.linalg import Vect"
   ]
  },
  {
   "cell_type": "code",
   "execution_count": 2,
   "id": "9ab648ea",
   "metadata": {},
   "outputs": [],
   "source": [
    "v1 = Vect([1, 0, 0, 1])"
   ]
  },
  {
   "cell_type": "code",
   "execution_count": 3,
   "id": "0f416ffa",
   "metadata": {},
   "outputs": [
    {
     "data": {
      "text/plain": [
       "Vector([1, 0, 0, 1])"
      ]
     },
     "execution_count": 3,
     "metadata": {},
     "output_type": "execute_result"
    }
   ],
   "source": [
    "v1"
   ]
  },
  {
   "cell_type": "code",
   "execution_count": 4,
   "id": "bc0ee8fa",
   "metadata": {},
   "outputs": [],
   "source": [
    "v2 = Vect([1, -1, 2])"
   ]
  },
  {
   "cell_type": "code",
   "execution_count": 5,
   "id": "f4d0de57",
   "metadata": {},
   "outputs": [
    {
     "data": {
      "text/plain": [
       "Vector([0, 0, 0])"
      ]
     },
     "execution_count": 5,
     "metadata": {},
     "output_type": "execute_result"
    }
   ],
   "source": [
    "v2 * False"
   ]
  },
  {
   "cell_type": "code",
   "execution_count": 6,
   "id": "e7652f6d",
   "metadata": {},
   "outputs": [
    {
     "data": {
      "text/plain": [
       "Vector([2, 1, 2, 2])"
      ]
     },
     "execution_count": 6,
     "metadata": {},
     "output_type": "execute_result"
    }
   ],
   "source": [
    "Vect([1, 0, 0, 1]) + Vect([1, 1, 2, 1])"
   ]
  },
  {
   "cell_type": "code",
   "execution_count": 7,
   "id": "88cfda18",
   "metadata": {},
   "outputs": [
    {
     "data": {
      "text/plain": [
       "Vector([5, -5, 10])"
      ]
     },
     "execution_count": 7,
     "metadata": {},
     "output_type": "execute_result"
    }
   ],
   "source": [
    "Vect([1, -1, 2]) * 5"
   ]
  },
  {
   "cell_type": "markdown",
   "id": "043ca9df",
   "metadata": {},
   "source": [
    "## Norma"
   ]
  },
  {
   "cell_type": "markdown",
   "id": "7b0a431f",
   "metadata": {},
   "source": [
    "Normę wektora liczymy tak:\n",
    "$$\\sqrt{ x_1^2 + x_2^2 + ... + x_n^2} $$"
   ]
  },
  {
   "cell_type": "code",
   "execution_count": 8,
   "id": "8f1cc58e",
   "metadata": {},
   "outputs": [
    {
     "data": {
      "text/plain": [
       "1.0"
      ]
     },
     "execution_count": 8,
     "metadata": {},
     "output_type": "execute_result"
    }
   ],
   "source": [
    "Vect([1, 0, 0, 0]).norm()"
   ]
  },
  {
   "cell_type": "code",
   "execution_count": 9,
   "id": "5d00be66",
   "metadata": {},
   "outputs": [
    {
     "data": {
      "text/plain": [
       "1.4142135623730951"
      ]
     },
     "execution_count": 9,
     "metadata": {},
     "output_type": "execute_result"
    }
   ],
   "source": [
    "Vect([1, -1, 0, 0]).norm()"
   ]
  },
  {
   "cell_type": "code",
   "execution_count": 10,
   "id": "09cb70a4",
   "metadata": {},
   "outputs": [
    {
     "data": {
      "text/plain": [
       "1.4142135623730951"
      ]
     },
     "execution_count": 10,
     "metadata": {},
     "output_type": "execute_result"
    }
   ],
   "source": [
    "2 ** 0.5"
   ]
  },
  {
   "cell_type": "code",
   "execution_count": 11,
   "id": "6f3bb492",
   "metadata": {},
   "outputs": [
    {
     "data": {
      "text/plain": [
       "39.68626966596886"
      ]
     },
     "execution_count": 11,
     "metadata": {},
     "output_type": "execute_result"
    }
   ],
   "source": [
    "(Vect([2, 1, 3, 7])*5).norm()"
   ]
  },
  {
   "cell_type": "code",
   "execution_count": 12,
   "id": "e209d547",
   "metadata": {},
   "outputs": [
    {
     "data": {
      "text/plain": [
       "39.68626966596886"
      ]
     },
     "execution_count": 12,
     "metadata": {},
     "output_type": "execute_result"
    }
   ],
   "source": [
    "Vect([2, 1, 3, 7]).norm() * 5"
   ]
  },
  {
   "cell_type": "markdown",
   "id": "badde763",
   "metadata": {},
   "source": [
    "**Problem!!!**"
   ]
  },
  {
   "cell_type": "code",
   "execution_count": 13,
   "id": "0ec20e84",
   "metadata": {},
   "outputs": [
    {
     "data": {
      "text/plain": [
       "Vector([10, 5, 15, 35])"
      ]
     },
     "execution_count": 13,
     "metadata": {},
     "output_type": "execute_result"
    }
   ],
   "source": [
    "5 * Vect([2, 1, 3, 7])"
   ]
  },
  {
   "cell_type": "markdown",
   "id": "b9be5cc2",
   "metadata": {},
   "source": [
    "## Kolejny problem"
   ]
  },
  {
   "cell_type": "code",
   "execution_count": 14,
   "id": "a13b2842",
   "metadata": {},
   "outputs": [],
   "source": [
    "v = Vect([2, 1, 3, 7])"
   ]
  },
  {
   "cell_type": "code",
   "execution_count": 15,
   "id": "fce585e2",
   "metadata": {},
   "outputs": [],
   "source": [
    "v.n = 3"
   ]
  },
  {
   "cell_type": "code",
   "execution_count": 16,
   "id": "3535a6cd",
   "metadata": {},
   "outputs": [
    {
     "data": {
      "text/plain": [
       "Vector([2, 1, 3])"
      ]
     },
     "execution_count": 16,
     "metadata": {},
     "output_type": "execute_result"
    }
   ],
   "source": [
    "v"
   ]
  },
  {
   "cell_type": "code",
   "execution_count": 17,
   "id": "41981c74",
   "metadata": {},
   "outputs": [],
   "source": [
    "v.n = 10"
   ]
  },
  {
   "cell_type": "code",
   "execution_count": 19,
   "id": "04f625c5",
   "metadata": {},
   "outputs": [
    {
     "data": {
      "text/plain": [
       "10"
      ]
     },
     "execution_count": 19,
     "metadata": {},
     "output_type": "execute_result"
    }
   ],
   "source": [
    "v.n"
   ]
  },
  {
   "cell_type": "code",
   "execution_count": 20,
   "id": "f293435e",
   "metadata": {},
   "outputs": [
    {
     "data": {
      "text/plain": [
       "Vector([2, 1, 3, 0, 0, 0, 0, 0, 0, 0])"
      ]
     },
     "execution_count": 20,
     "metadata": {},
     "output_type": "execute_result"
    }
   ],
   "source": [
    "v"
   ]
  },
  {
   "cell_type": "code",
   "execution_count": null,
   "id": "21492c6e",
   "metadata": {},
   "outputs": [],
   "source": []
  }
 ],
 "metadata": {
  "kernelspec": {
   "display_name": "Python 3",
   "language": "python",
   "name": "python3"
  },
  "language_info": {
   "codemirror_mode": {
    "name": "ipython",
    "version": 3
   },
   "file_extension": ".py",
   "mimetype": "text/x-python",
   "name": "python",
   "nbconvert_exporter": "python",
   "pygments_lexer": "ipython3",
   "version": "3.6.9"
  }
 },
 "nbformat": 4,
 "nbformat_minor": 5
}
