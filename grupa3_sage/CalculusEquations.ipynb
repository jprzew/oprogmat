{
 "cells": [
  {
   "cell_type": "markdown",
   "metadata": {},
   "source": [
    "# Zadanie 1.1"
   ]
  },
  {
   "cell_type": "code",
   "execution_count": 67,
   "metadata": {},
   "outputs": [
    {
     "data": {
      "text/html": [
       "<html><script type=\"math/tex; mode=display\">\\newcommand{\\Bold}[1]{\\mathbf{#1}}\\left[x = -\\frac{1}{2} \\, \\sqrt{21} - \\frac{9}{2}, x = \\frac{1}{2} \\, \\sqrt{21} - \\frac{9}{2}\\right]</script></html>"
      ],
      "text/latex": [
       "\\begin{math}\n",
       "\\newcommand{\\Bold}[1]{\\mathbf{#1}}\\left[x = -\\frac{1}{2} \\, \\sqrt{21} - \\frac{9}{2}, x = \\frac{1}{2} \\, \\sqrt{21} - \\frac{9}{2}\\right]\n",
       "\\end{math}"
      ],
      "text/plain": [
       "[x == -1/2*sqrt(21) - 9/2, x == 1/2*sqrt(21) - 9/2]"
      ]
     },
     "metadata": {},
     "output_type": "display_data"
    }
   ],
   "source": [
    "x = var(\"x\")\n",
    "show(solve(x^2+9*x+15, x))"
   ]
  },
  {
   "cell_type": "markdown",
   "metadata": {},
   "source": [
    "# Zadanie 1.2"
   ]
  },
  {
   "cell_type": "code",
   "execution_count": 70,
   "metadata": {},
   "outputs": [
    {
     "data": {
      "text/html": [
       "<html><script type=\"math/tex; mode=display\">\\newcommand{\\Bold}[1]{\\mathbf{#1}}\\left[x = -\\frac{b + \\sqrt{b^{2} - 4 \\, a c}}{2 \\, a}, x = -\\frac{b - \\sqrt{b^{2} - 4 \\, a c}}{2 \\, a}\\right]</script></html>"
      ],
      "text/latex": [
       "\\begin{math}\n",
       "\\newcommand{\\Bold}[1]{\\mathbf{#1}}\\left[x = -\\frac{b + \\sqrt{b^{2} - 4 \\, a c}}{2 \\, a}, x = -\\frac{b - \\sqrt{b^{2} - 4 \\, a c}}{2 \\, a}\\right]\n",
       "\\end{math}"
      ],
      "text/plain": [
       "[x == -1/2*(b + sqrt(b^2 - 4*a*c))/a, x == -1/2*(b - sqrt(b^2 - 4*a*c))/a]"
      ]
     },
     "metadata": {},
     "output_type": "display_data"
    }
   ],
   "source": [
    "x, a, b, c = var('x a b c')\n",
    "res = (a*x^2 + b*x +c == 0)\n",
    "solutions = solve(res,x)\n",
    "show(solutions)"
   ]
  },
  {
   "cell_type": "code",
   "execution_count": 72,
   "metadata": {},
   "outputs": [
    {
     "data": {
      "text/plain": [
       "[x == -1, x == 1]"
      ]
     },
     "execution_count": 72,
     "metadata": {},
     "output_type": "execute_result"
    }
   ],
   "source": [
    "[solution.substitute(a=1, b=0, c=-1)\n",
    " for solution in solutions]"
   ]
  },
  {
   "cell_type": "markdown",
   "metadata": {},
   "source": [
    "# Zadanie 1.3"
   ]
  },
  {
   "cell_type": "code",
   "execution_count": 73,
   "metadata": {},
   "outputs": [],
   "source": [
    "theta = var('theta', latex_name=r'\\theta')"
   ]
  },
  {
   "cell_type": "code",
   "execution_count": 76,
   "metadata": {},
   "outputs": [
    {
     "data": {
      "text/html": [
       "<html><script type=\"math/tex; mode=display\">\\newcommand{\\Bold}[1]{\\mathbf{#1}}\\left[{\\theta} = \\frac{1}{6} \\, \\pi\\right]</script></html>"
      ],
      "text/latex": [
       "\\begin{math}\n",
       "\\newcommand{\\Bold}[1]{\\mathbf{#1}}\\left[{\\theta} = \\frac{1}{6} \\, \\pi\\right]\n",
       "\\end{math}"
      ],
      "text/plain": [
       "[theta == 1/6*pi]"
      ]
     },
     "metadata": {},
     "output_type": "display_data"
    }
   ],
   "source": [
    "show(solve(sin(theta) == 1/2, theta))"
   ]
  },
  {
   "cell_type": "markdown",
   "metadata": {},
   "source": [
    "# Zadanie 1.4"
   ]
  },
  {
   "cell_type": "code",
   "execution_count": 78,
   "metadata": {},
   "outputs": [
    {
     "data": {
      "text/plain": [
       "[[x == 5, b == 1]]"
      ]
     },
     "execution_count": 78,
     "metadata": {},
     "output_type": "execute_result"
    }
   ],
   "source": [
    "x, b = var('x, b')\n",
    "eq2 = (x+b==6)\n",
    "eq3 = (x-b==4)\n",
    "solve([eq2, eq3], x, b)"
   ]
  },
  {
   "cell_type": "markdown",
   "metadata": {},
   "source": [
    "# Zadanie 1.5"
   ]
  },
  {
   "cell_type": "code",
   "execution_count": 79,
   "metadata": {},
   "outputs": [
    {
     "data": {
      "text/plain": [
       "[[a == 4, b == -3, c == 5]]"
      ]
     },
     "execution_count": 79,
     "metadata": {},
     "output_type": "execute_result"
    }
   ],
   "source": [
    "eq4 = (9*a+3*b+c == 32)\n",
    "eq5 = (4*a+2*b+c == 15)\n",
    "eq6 = (a+b+c == 6)\n",
    "solve([eq4, eq5, eq6], a, b, c)"
   ]
  },
  {
   "cell_type": "code",
   "execution_count": 81,
   "metadata": {},
   "outputs": [
    {
     "data": {
      "text/html": [
       "<html><script type=\"math/tex; mode=display\">\\newcommand{\\Bold}[1]{\\mathbf{#1}}\\left[\\left[x = -\\frac{4}{7} \\, \\sqrt{7}, y = -\\frac{3}{7} \\, \\sqrt{7}\\right], \\left[x = -\\frac{4}{7} \\, \\sqrt{7}, y = \\frac{3}{7} \\, \\sqrt{7}\\right], \\left[x = \\frac{4}{7} \\, \\sqrt{7}, y = -\\frac{3}{7} \\, \\sqrt{7}\\right], \\left[x = \\frac{4}{7} \\, \\sqrt{7}, y = \\frac{3}{7} \\, \\sqrt{7}\\right]\\right]</script></html>"
      ],
      "text/latex": [
       "\\begin{math}\n",
       "\\newcommand{\\Bold}[1]{\\mathbf{#1}}\\left[\\left[x = -\\frac{4}{7} \\, \\sqrt{7}, y = -\\frac{3}{7} \\, \\sqrt{7}\\right], \\left[x = -\\frac{4}{7} \\, \\sqrt{7}, y = \\frac{3}{7} \\, \\sqrt{7}\\right], \\left[x = \\frac{4}{7} \\, \\sqrt{7}, y = -\\frac{3}{7} \\, \\sqrt{7}\\right], \\left[x = \\frac{4}{7} \\, \\sqrt{7}, y = \\frac{3}{7} \\, \\sqrt{7}\\right]\\right]\n",
       "\\end{math}"
      ],
      "text/plain": [
       "[[x == -4/7*sqrt(7), y == -3/7*sqrt(7)], [x == -4/7*sqrt(7), y == 3/7*sqrt(7)], [x == 4/7*sqrt(7), y == -3/7*sqrt(7)], [x == 4/7*sqrt(7), y == 3/7*sqrt(7)]]"
      ]
     },
     "metadata": {},
     "output_type": "display_data"
    }
   ],
   "source": [
    "x, y = var('x y')\n",
    "e1 = (x^2)/4 + (y^2)/3\n",
    "e2 = x^2 - y^2\n",
    "show(solve([e1 == 1, e2 == 1], x ,y))"
   ]
  },
  {
   "cell_type": "markdown",
   "metadata": {},
   "source": [
    "# Zadanie 1.7"
   ]
  },
  {
   "cell_type": "code",
   "execution_count": 83,
   "metadata": {},
   "outputs": [
    {
     "data": {
      "text/plain": [
       "[0 == x^5 + x^4 + x^3 - x^2 + x - 1]"
      ]
     },
     "execution_count": 83,
     "metadata": {},
     "output_type": "execute_result"
    }
   ],
   "source": [
    "solve(x^5 + x^4 + x^3 - x^2 + x - 1 == 0, x)"
   ]
  },
  {
   "cell_type": "code",
   "execution_count": 84,
   "metadata": {},
   "outputs": [
    {
     "data": {
      "text/plain": [
       "0.7104342557869125"
      ]
     },
     "execution_count": 84,
     "metadata": {},
     "output_type": "execute_result"
    }
   ],
   "source": [
    "(x^5 + x^4 + x^3 - x^2 + x - 1).find_root(0, 2)"
   ]
  },
  {
   "cell_type": "code",
   "execution_count": 87,
   "metadata": {},
   "outputs": [
    {
     "data": {
      "image/png": "[encoded data removed]",
      "text/plain": [
       "Graphics object consisting of 1 graphics primitive"
      ]
     },
     "execution_count": 87,
     "metadata": {},
     "output_type": "execute_result"
    }
   ],
   "source": [
    "plot(x^5 + x^4 + x^3 - x^2 + x - 1, x, -100, 100)"
   ]
  },
  {
   "cell_type": "code",
   "execution_count": 95,
   "metadata": {},
   "outputs": [
    {
     "data": {
      "text/plain": [
       "False"
      ]
     },
     "execution_count": 95,
     "metadata": {},
     "output_type": "execute_result"
    }
   ],
   "source": [
    "assume(x, 'real')\n",
    "bool(diff(x^5 + x^4 + x^3 - x^2 + x - 1, x) >= 0)"
   ]
  },
  {
   "cell_type": "code",
   "execution_count": 96,
   "metadata": {},
   "outputs": [
    {
     "data": {
      "text/plain": [
       "[]"
      ]
     },
     "execution_count": 96,
     "metadata": {},
     "output_type": "execute_result"
    }
   ],
   "source": [
    "solve(diff(x^5 + x^4 + x^3 - x^2 + x - 1, x) == 0, x)"
   ]
  },
  {
   "cell_type": "markdown",
   "metadata": {},
   "source": [
    "# Całki i pochodne"
   ]
  },
  {
   "cell_type": "code",
   "execution_count": 1,
   "metadata": {},
   "outputs": [],
   "source": [
    "f(x) = x^2"
   ]
  },
  {
   "cell_type": "code",
   "execution_count": 2,
   "metadata": {},
   "outputs": [
    {
     "data": {
      "text/html": [
       "<html><script type=\"math/tex; mode=display\">\\newcommand{\\Bold}[1]{\\mathbf{#1}}x \\ {\\mapsto}\\ 2 \\, x</script></html>"
      ],
      "text/latex": [
       "\\begin{math}\n",
       "\\newcommand{\\Bold}[1]{\\mathbf{#1}}x \\ {\\mapsto}\\ 2 \\, x\n",
       "\\end{math}"
      ],
      "text/plain": [
       "x |--> 2*x"
      ]
     },
     "metadata": {},
     "output_type": "display_data"
    }
   ],
   "source": [
    "show(f.derivative())"
   ]
  },
  {
   "cell_type": "code",
   "execution_count": 3,
   "metadata": {},
   "outputs": [
    {
     "data": {
      "text/html": [
       "<html><script type=\"math/tex; mode=display\">\\newcommand{\\Bold}[1]{\\mathbf{#1}}3 \\, x^{2} + 4 \\, x - 1</script></html>"
      ],
      "text/latex": [
       "\\begin{math}\n",
       "\\newcommand{\\Bold}[1]{\\mathbf{#1}}3 \\, x^{2} + 4 \\, x - 1\n",
       "\\end{math}"
      ],
      "text/plain": [
       "3*x^2 + 4*x - 1"
      ]
     },
     "metadata": {},
     "output_type": "display_data"
    }
   ],
   "source": [
    "show(diff(x^3 + 2 * x^2 - x +7, x))"
   ]
  },
  {
   "cell_type": "code",
   "execution_count": 4,
   "metadata": {},
   "outputs": [
    {
     "data": {
      "text/html": [
       "<html><script type=\"math/tex; mode=display\">\\newcommand{\\Bold}[1]{\\mathbf{#1}}4 \\, a x^{3} + 3 \\, b x^{2} + 2 \\, c x + d</script></html>"
      ],
      "text/latex": [
       "\\begin{math}\n",
       "\\newcommand{\\Bold}[1]{\\mathbf{#1}}4 \\, a x^{3} + 3 \\, b x^{2} + 2 \\, c x + d\n",
       "\\end{math}"
      ],
      "text/plain": [
       "4*a*x^3 + 3*b*x^2 + 2*c*x + d"
      ]
     },
     "metadata": {},
     "output_type": "display_data"
    }
   ],
   "source": [
    "a, b, c, d, e = var('a, b, c, d, e')\n",
    "show(diff(a*x^4 + b*x^3 + c*x^2 + d*x + e, x))"
   ]
  },
  {
   "cell_type": "code",
   "execution_count": 5,
   "metadata": {},
   "outputs": [
    {
     "data": {
      "text/html": [
       "<html><script type=\"math/tex; mode=display\">\\newcommand{\\Bold}[1]{\\mathbf{#1}}12 \\, a x^{2} + 6 \\, b x + 2 \\, c</script></html>"
      ],
      "text/latex": [
       "\\begin{math}\n",
       "\\newcommand{\\Bold}[1]{\\mathbf{#1}}12 \\, a x^{2} + 6 \\, b x + 2 \\, c\n",
       "\\end{math}"
      ],
      "text/plain": [
       "12*a*x^2 + 6*b*x + 2*c"
      ]
     },
     "metadata": {},
     "output_type": "display_data"
    }
   ],
   "source": [
    "show(diff(a*x^4 + b*x^3 + c*x^2 + d*x + e, x, 2))"
   ]
  },
  {
   "cell_type": "code",
   "execution_count": 6,
   "metadata": {},
   "outputs": [
    {
     "data": {
      "text/html": [
       "<html><script type=\"math/tex; mode=display\">\\newcommand{\\Bold}[1]{\\mathbf{#1}}24 \\, a x + 6 \\, b</script></html>"
      ],
      "text/latex": [
       "\\begin{math}\n",
       "\\newcommand{\\Bold}[1]{\\mathbf{#1}}24 \\, a x + 6 \\, b\n",
       "\\end{math}"
      ],
      "text/plain": [
       "24*a*x + 6*b"
      ]
     },
     "metadata": {},
     "output_type": "display_data"
    }
   ],
   "source": [
    "show(diff(a*x^4 + b*x^3 + c*x^2 + d*x + e, x, 3))"
   ]
  },
  {
   "cell_type": "code",
   "execution_count": 7,
   "metadata": {},
   "outputs": [
    {
     "data": {
      "text/html": [
       "<html><script type=\"math/tex; mode=display\">\\newcommand{\\Bold}[1]{\\mathbf{#1}}24 \\, a</script></html>"
      ],
      "text/latex": [
       "\\begin{math}\n",
       "\\newcommand{\\Bold}[1]{\\mathbf{#1}}24 \\, a\n",
       "\\end{math}"
      ],
      "text/plain": [
       "24*a"
      ]
     },
     "metadata": {},
     "output_type": "display_data"
    }
   ],
   "source": [
    "show(diff(a*x^4 + b*x^3 + c*x^2 + d*x + e, x, 4))"
   ]
  },
  {
   "cell_type": "code",
   "execution_count": 8,
   "metadata": {},
   "outputs": [
    {
     "data": {
      "text/html": [
       "<html><script type=\"math/tex; mode=display\">\\newcommand{\\Bold}[1]{\\mathbf{#1}}0</script></html>"
      ],
      "text/latex": [
       "\\begin{math}\n",
       "\\newcommand{\\Bold}[1]{\\mathbf{#1}}0\n",
       "\\end{math}"
      ],
      "text/plain": [
       "0"
      ]
     },
     "metadata": {},
     "output_type": "display_data"
    }
   ],
   "source": [
    "show(diff(a*x^4 + b*x^3 + c*x^2 + d*x + e, x, 5))"
   ]
  },
  {
   "cell_type": "code",
   "execution_count": 9,
   "metadata": {},
   "outputs": [],
   "source": [
    "f(x) = sin(x^2)"
   ]
  },
  {
   "cell_type": "markdown",
   "metadata": {},
   "source": [
    "Moim zdaniem będzie: $2 x \\cos(x^2)$"
   ]
  },
  {
   "cell_type": "code",
   "execution_count": 10,
   "metadata": {},
   "outputs": [
    {
     "data": {
      "text/html": [
       "<html><script type=\"math/tex; mode=display\">\\newcommand{\\Bold}[1]{\\mathbf{#1}}x \\ {\\mapsto}\\ 2 \\, x \\cos\\left(x^{2}\\right)</script></html>"
      ],
      "text/latex": [
       "\\begin{math}\n",
       "\\newcommand{\\Bold}[1]{\\mathbf{#1}}x \\ {\\mapsto}\\ 2 \\, x \\cos\\left(x^{2}\\right)\n",
       "\\end{math}"
      ],
      "text/plain": [
       "x |--> 2*x*cos(x^2)"
      ]
     },
     "metadata": {},
     "output_type": "display_data"
    }
   ],
   "source": [
    "show(diff(f, x))"
   ]
  },
  {
   "cell_type": "markdown",
   "metadata": {},
   "source": [
    "# Zadanie 2"
   ]
  },
  {
   "cell_type": "code",
   "execution_count": 11,
   "metadata": {},
   "outputs": [],
   "source": [
    "f(x) = exp(-x^2)"
   ]
  },
  {
   "cell_type": "code",
   "execution_count": 12,
   "metadata": {},
   "outputs": [
    {
     "data": {
      "image/png": "[encoded data removed]",
      "text/plain": [
       "Graphics object consisting of 1 graphics primitive"
      ]
     },
     "execution_count": 12,
     "metadata": {},
     "output_type": "execute_result"
    }
   ],
   "source": [
    "plot(f, (x, -5, 5))"
   ]
  },
  {
   "cell_type": "code",
   "execution_count": 13,
   "metadata": {},
   "outputs": [
    {
     "data": {
      "text/plain": [
       "[x |--> -2*x*e^(-x^2),\n",
       " x |--> 4*x^2*e^(-x^2) - 2*e^(-x^2),\n",
       " x |--> -8*x^3*e^(-x^2) + 12*x*e^(-x^2),\n",
       " x |--> 16*x^4*e^(-x^2) - 48*x^2*e^(-x^2) + 12*e^(-x^2),\n",
       " x |--> -32*x^5*e^(-x^2) + 160*x^3*e^(-x^2) - 120*x*e^(-x^2),\n",
       " x |--> 64*x^6*e^(-x^2) - 480*x^4*e^(-x^2) + 720*x^2*e^(-x^2) - 120*e^(-x^2),\n",
       " x |--> -128*x^7*e^(-x^2) + 1344*x^5*e^(-x^2) - 3360*x^3*e^(-x^2) + 1680*x*e^(-x^2),\n",
       " x |--> 256*x^8*e^(-x^2) - 3584*x^6*e^(-x^2) + 13440*x^4*e^(-x^2) - 13440*x^2*e^(-x^2) + 1680*e^(-x^2),\n",
       " x |--> -512*x^9*e^(-x^2) + 9216*x^7*e^(-x^2) - 48384*x^5*e^(-x^2) + 80640*x^3*e^(-x^2) - 30240*x*e^(-x^2),\n",
       " x |--> 1024*x^10*e^(-x^2) - 23040*x^8*e^(-x^2) + 161280*x^6*e^(-x^2) - 403200*x^4*e^(-x^2) + 302400*x^2*e^(-x^2) - 30240*e^(-x^2)]"
      ]
     },
     "execution_count": 13,
     "metadata": {},
     "output_type": "execute_result"
    }
   ],
   "source": [
    "[diff(f, x, n) for n in range(1, 11)]"
   ]
  },
  {
   "cell_type": "markdown",
   "metadata": {},
   "source": [
    "# Zadanie 2.3"
   ]
  },
  {
   "cell_type": "code",
   "execution_count": 14,
   "metadata": {},
   "outputs": [],
   "source": [
    "f(x) = (x^3 - x + 1)* exp(x)"
   ]
  },
  {
   "cell_type": "code",
   "execution_count": 15,
   "metadata": {},
   "outputs": [
    {
     "data": {
      "text/html": [
       "<html><script type=\"math/tex; mode=display\">\\newcommand{\\Bold}[1]{\\mathbf{#1}}x \\ {\\mapsto}\\ {\\left(x^{3} - x + 1\\right)} e^{x} + 10 \\, {\\left(3 \\, x^{2} - 1\\right)} e^{x} + 270 \\, x e^{x} + 720 \\, e^{x} = 0</script></html>"
      ],
      "text/latex": [
       "\\begin{math}\n",
       "\\newcommand{\\Bold}[1]{\\mathbf{#1}}x \\ {\\mapsto}\\ {\\left(x^{3} - x + 1\\right)} e^{x} + 10 \\, {\\left(3 \\, x^{2} - 1\\right)} e^{x} + 270 \\, x e^{x} + 720 \\, e^{x} = 0\n",
       "\\end{math}"
      ],
      "text/plain": [
       "x |--> (x^3 - x + 1)*e^x + 10*(3*x^2 - 1)*e^x + 270*x*e^x + 720*e^x == 0"
      ]
     },
     "metadata": {},
     "output_type": "display_data"
    }
   ],
   "source": [
    "show(diff(f, x, 10) == 0)"
   ]
  },
  {
   "cell_type": "code",
   "execution_count": 16,
   "metadata": {},
   "outputs": [],
   "source": [
    "equation = diff(f, x, 10) == 0"
   ]
  },
  {
   "cell_type": "code",
   "execution_count": 17,
   "metadata": {},
   "outputs": [
    {
     "data": {
      "text/html": [
       "<html><script type=\"math/tex; mode=display\">\\newcommand{\\Bold}[1]{\\mathbf{#1}}\\left[x = -\\frac{1}{2} \\, {\\left(\\frac{1}{18} i \\, \\sqrt{107257} \\sqrt{3} - \\frac{21}{2}\\right)}^{\\frac{1}{3}} {\\left(i \\, \\sqrt{3} + 1\\right)} - \\frac{31 \\, {\\left(-i \\, \\sqrt{3} + 1\\right)}}{6 \\, {\\left(\\frac{1}{18} i \\, \\sqrt{107257} \\sqrt{3} - \\frac{21}{2}\\right)}^{\\frac{1}{3}}} - 10, x = -\\frac{1}{2} \\, {\\left(\\frac{1}{18} i \\, \\sqrt{107257} \\sqrt{3} - \\frac{21}{2}\\right)}^{\\frac{1}{3}} {\\left(-i \\, \\sqrt{3} + 1\\right)} - \\frac{31 \\, {\\left(i \\, \\sqrt{3} + 1\\right)}}{6 \\, {\\left(\\frac{1}{18} i \\, \\sqrt{107257} \\sqrt{3} - \\frac{21}{2}\\right)}^{\\frac{1}{3}}} - 10, x = {\\left(\\frac{1}{18} i \\, \\sqrt{107257} \\sqrt{3} - \\frac{21}{2}\\right)}^{\\frac{1}{3}} + \\frac{31}{3 \\, {\\left(\\frac{1}{18} i \\, \\sqrt{107257} \\sqrt{3} - \\frac{21}{2}\\right)}^{\\frac{1}{3}}} - 10\\right]</script></html>"
      ],
      "text/latex": [
       "\\begin{math}\n",
       "\\newcommand{\\Bold}[1]{\\mathbf{#1}}\\left[x = -\\frac{1}{2} \\, {\\left(\\frac{1}{18} i \\, \\sqrt{107257} \\sqrt{3} - \\frac{21}{2}\\right)}^{\\frac{1}{3}} {\\left(i \\, \\sqrt{3} + 1\\right)} - \\frac{31 \\, {\\left(-i \\, \\sqrt{3} + 1\\right)}}{6 \\, {\\left(\\frac{1}{18} i \\, \\sqrt{107257} \\sqrt{3} - \\frac{21}{2}\\right)}^{\\frac{1}{3}}} - 10, x = -\\frac{1}{2} \\, {\\left(\\frac{1}{18} i \\, \\sqrt{107257} \\sqrt{3} - \\frac{21}{2}\\right)}^{\\frac{1}{3}} {\\left(-i \\, \\sqrt{3} + 1\\right)} - \\frac{31 \\, {\\left(i \\, \\sqrt{3} + 1\\right)}}{6 \\, {\\left(\\frac{1}{18} i \\, \\sqrt{107257} \\sqrt{3} - \\frac{21}{2}\\right)}^{\\frac{1}{3}}} - 10, x = {\\left(\\frac{1}{18} i \\, \\sqrt{107257} \\sqrt{3} - \\frac{21}{2}\\right)}^{\\frac{1}{3}} + \\frac{31}{3 \\, {\\left(\\frac{1}{18} i \\, \\sqrt{107257} \\sqrt{3} - \\frac{21}{2}\\right)}^{\\frac{1}{3}}} - 10\\right]\n",
       "\\end{math}"
      ],
      "text/plain": [
       "[x == -1/2*(1/18*I*sqrt(107257)*sqrt(3) - 21/2)^(1/3)*(I*sqrt(3) + 1) - 31/6*(-I*sqrt(3) + 1)/(1/18*I*sqrt(107257)*sqrt(3) - 21/2)^(1/3) - 10, x == -1/2*(1/18*I*sqrt(107257)*sqrt(3) - 21/2)^(1/3)*(-I*sqrt(3) + 1) - 31/6*(I*sqrt(3) + 1)/(1/18*I*sqrt(107257)*sqrt(3) - 21/2)^(1/3) - 10, x == (1/18*I*sqrt(107257)*sqrt(3) - 21/2)^(1/3) + 31/3/(1/18*I*sqrt(107257)*sqrt(3) - 21/2)^(1/3) - 10]"
      ]
     },
     "metadata": {},
     "output_type": "display_data"
    }
   ],
   "source": [
    "show(solve(equation, x))"
   ]
  },
  {
   "cell_type": "code",
   "execution_count": 18,
   "metadata": {},
   "outputs": [],
   "source": [
    "solution1 = solve(equation, x)[0].right_hand_side()"
   ]
  },
  {
   "cell_type": "code",
   "execution_count": 19,
   "metadata": {},
   "outputs": [
    {
     "data": {
      "text/html": [
       "<html><script type=\"math/tex; mode=display\">\\newcommand{\\Bold}[1]{\\mathbf{#1}}-\\frac{1}{2} \\, \\sqrt{3} {\\left| \\frac{1}{18} i \\, \\sqrt{107257} \\sqrt{3} - \\frac{21}{2} \\right|}^{\\frac{1}{3}} \\cos\\left(\\frac{1}{3} \\, \\pi - \\frac{1}{3} \\, \\arctan\\left(\\frac{1}{189} \\, \\sqrt{107257} \\sqrt{3}\\right)\\right) - \\frac{1}{2} \\, {\\left| \\frac{1}{18} i \\, \\sqrt{107257} \\sqrt{3} - \\frac{21}{2} \\right|}^{\\frac{1}{3}} \\sin\\left(\\frac{1}{3} \\, \\pi - \\frac{1}{3} \\, \\arctan\\left(\\frac{1}{189} \\, \\sqrt{107257} \\sqrt{3}\\right)\\right) + \\frac{31 \\, \\sqrt{3} \\cos\\left(-\\frac{1}{3} \\, \\pi + \\frac{1}{3} \\, \\arctan\\left(\\frac{1}{189} \\, \\sqrt{107257} \\sqrt{3}\\right)\\right)}{6 \\, {\\left| \\frac{1}{18} i \\, \\sqrt{107257} \\sqrt{3} - \\frac{21}{2} \\right|}^{\\frac{1}{3}}} - \\frac{31 \\, \\sin\\left(-\\frac{1}{3} \\, \\pi + \\frac{1}{3} \\, \\arctan\\left(\\frac{1}{189} \\, \\sqrt{107257} \\sqrt{3}\\right)\\right)}{6 \\, {\\left| \\frac{1}{18} i \\, \\sqrt{107257} \\sqrt{3} - \\frac{21}{2} \\right|}^{\\frac{1}{3}}}</script></html>"
      ],
      "text/latex": [
       "\\begin{math}\n",
       "\\newcommand{\\Bold}[1]{\\mathbf{#1}}-\\frac{1}{2} \\, \\sqrt{3} {\\left| \\frac{1}{18} i \\, \\sqrt{107257} \\sqrt{3} - \\frac{21}{2} \\right|}^{\\frac{1}{3}} \\cos\\left(\\frac{1}{3} \\, \\pi - \\frac{1}{3} \\, \\arctan\\left(\\frac{1}{189} \\, \\sqrt{107257} \\sqrt{3}\\right)\\right) - \\frac{1}{2} \\, {\\left| \\frac{1}{18} i \\, \\sqrt{107257} \\sqrt{3} - \\frac{21}{2} \\right|}^{\\frac{1}{3}} \\sin\\left(\\frac{1}{3} \\, \\pi - \\frac{1}{3} \\, \\arctan\\left(\\frac{1}{189} \\, \\sqrt{107257} \\sqrt{3}\\right)\\right) + \\frac{31 \\, \\sqrt{3} \\cos\\left(-\\frac{1}{3} \\, \\pi + \\frac{1}{3} \\, \\arctan\\left(\\frac{1}{189} \\, \\sqrt{107257} \\sqrt{3}\\right)\\right)}{6 \\, {\\left| \\frac{1}{18} i \\, \\sqrt{107257} \\sqrt{3} - \\frac{21}{2} \\right|}^{\\frac{1}{3}}} - \\frac{31 \\, \\sin\\left(-\\frac{1}{3} \\, \\pi + \\frac{1}{3} \\, \\arctan\\left(\\frac{1}{189} \\, \\sqrt{107257} \\sqrt{3}\\right)\\right)}{6 \\, {\\left| \\frac{1}{18} i \\, \\sqrt{107257} \\sqrt{3} - \\frac{21}{2} \\right|}^{\\frac{1}{3}}}\n",
       "\\end{math}"
      ],
      "text/plain": [
       "-1/2*sqrt(3)*abs(1/18*I*sqrt(107257)*sqrt(3) - 21/2)^(1/3)*cos(1/3*pi - 1/3*arctan(1/189*sqrt(107257)*sqrt(3))) - 1/2*abs(1/18*I*sqrt(107257)*sqrt(3) - 21/2)^(1/3)*sin(1/3*pi - 1/3*arctan(1/189*sqrt(107257)*sqrt(3))) + 31/6*sqrt(3)*cos(-1/3*pi + 1/3*arctan(1/189*sqrt(107257)*sqrt(3)))/abs(1/18*I*sqrt(107257)*sqrt(3) - 21/2)^(1/3) - 31/6*sin(-1/3*pi + 1/3*arctan(1/189*sqrt(107257)*sqrt(3)))/abs(1/18*I*sqrt(107257)*sqrt(3) - 21/2)^(1/3)"
      ]
     },
     "metadata": {},
     "output_type": "display_data"
    }
   ],
   "source": [
    "show(solution1.imag())"
   ]
  },
  {
   "cell_type": "code",
   "execution_count": 20,
   "metadata": {},
   "outputs": [
    {
     "data": {
      "text/plain": [
       "False"
      ]
     },
     "execution_count": 20,
     "metadata": {},
     "output_type": "execute_result"
    }
   ],
   "source": [
    "bool(solution1.imag() == 0)"
   ]
  },
  {
   "cell_type": "code",
   "execution_count": 23,
   "metadata": {},
   "outputs": [
    {
     "data": {
      "text/html": [
       "<html><script type=\"math/tex; mode=display\">\\newcommand{\\Bold}[1]{\\mathbf{#1}}4.44089209850063 \\times 10^{-16}</script></html>"
      ],
      "text/latex": [
       "\\begin{math}\n",
       "\\newcommand{\\Bold}[1]{\\mathbf{#1}}4.44089209850063 \\times 10^{-16}\n",
       "\\end{math}"
      ],
      "text/plain": [
       "4.44089209850063e-16"
      ]
     },
     "metadata": {},
     "output_type": "display_data"
    }
   ],
   "source": [
    "show(solution1.imag().n())"
   ]
  },
  {
   "cell_type": "markdown",
   "metadata": {},
   "source": [
    "# Zadanie 2.4"
   ]
  },
  {
   "cell_type": "code",
   "execution_count": 30,
   "metadata": {},
   "outputs": [
    {
     "data": {
      "text/plain": [
       "[1/2*x^2, 1/3*x^3, 1/4*x^4, 1/5*x^5, 1/6*x^6]"
      ]
     },
     "execution_count": 30,
     "metadata": {},
     "output_type": "execute_result"
    }
   ],
   "source": [
    "[integral(x^n, x) for n in range(1, 6)]"
   ]
  },
  {
   "cell_type": "markdown",
   "metadata": {},
   "source": [
    "# Zadanie 2.5"
   ]
  },
  {
   "cell_type": "code",
   "execution_count": 35,
   "metadata": {},
   "outputs": [
    {
     "data": {
      "text/plain": [
       "x^a"
      ]
     },
     "execution_count": 35,
     "metadata": {},
     "output_type": "execute_result"
    }
   ],
   "source": [
    "a = var('a')\n",
    "diff((1/(a+1)) * x^(a+1), x)"
   ]
  },
  {
   "cell_type": "code",
   "execution_count": 37,
   "metadata": {
    "scrolled": true
   },
   "outputs": [
    {
     "data": {
      "text/plain": [
       "x^(a + 1)/(a + 1)"
      ]
     },
     "execution_count": 37,
     "metadata": {},
     "output_type": "execute_result"
    }
   ],
   "source": [
    "assume(a != -1)\n",
    "integral(x^a, x)"
   ]
  },
  {
   "cell_type": "markdown",
   "metadata": {},
   "source": [
    "# Zadanie 2.6"
   ]
  },
  {
   "cell_type": "code",
   "execution_count": 43,
   "metadata": {},
   "outputs": [
    {
     "data": {
      "text/plain": [
       "0"
      ]
     },
     "execution_count": 43,
     "metadata": {},
     "output_type": "execute_result"
    }
   ],
   "source": [
    "integral(sin(x), x, 0, 2 * pi)"
   ]
  },
  {
   "cell_type": "code",
   "execution_count": 44,
   "metadata": {},
   "outputs": [
    {
     "data": {
      "text/plain": [
       "-2"
      ]
     },
     "execution_count": 44,
     "metadata": {},
     "output_type": "execute_result"
    }
   ],
   "source": [
    "integral(sin(x), x, pi, 2 * pi)"
   ]
  },
  {
   "cell_type": "markdown",
   "metadata": {},
   "source": [
    "# Zadanie 2.7"
   ]
  },
  {
   "cell_type": "code",
   "execution_count": 45,
   "metadata": {},
   "outputs": [],
   "source": [
    "f(x) = (x^3 - 3*x^2 + 7*x + 2) / (x^2 - 7*x + 1)"
   ]
  },
  {
   "cell_type": "code",
   "execution_count": 58,
   "metadata": {},
   "outputs": [
    {
     "data": {
      "text/plain": [
       "-1.29357539426012"
      ]
     },
     "execution_count": 58,
     "metadata": {},
     "output_type": "execute_result"
    }
   ],
   "source": [
    "integral(f(x), x, 1, 2).n()"
   ]
  },
  {
   "cell_type": "markdown",
   "metadata": {},
   "source": [
    "Liczymy całkę nieoznaczoną"
   ]
  },
  {
   "cell_type": "code",
   "execution_count": 52,
   "metadata": {},
   "outputs": [],
   "source": [
    "F(x) = integral(f, x)"
   ]
  },
  {
   "cell_type": "code",
   "execution_count": 53,
   "metadata": {},
   "outputs": [
    {
     "data": {
      "text/plain": [
       "x |--> 1/2*x^2 + 39/5*sqrt(5)*log((2*x - 3*sqrt(5) - 7)/(2*x + 3*sqrt(5) - 7)) + 4*x + 17*log(x^2 - 7*x + 1)"
      ]
     },
     "execution_count": 53,
     "metadata": {},
     "output_type": "execute_result"
    }
   ],
   "source": [
    "F"
   ]
  },
  {
   "cell_type": "code",
   "execution_count": 56,
   "metadata": {},
   "outputs": [
    {
     "data": {
      "text/plain": [
       "True"
      ]
     },
     "execution_count": 56,
     "metadata": {},
     "output_type": "execute_result"
    }
   ],
   "source": [
    "bool(diff(F, x) == f)"
   ]
  },
  {
   "cell_type": "code",
   "execution_count": 59,
   "metadata": {},
   "outputs": [
    {
     "data": {
      "text/plain": [
       "-1.29357539426013"
      ]
     },
     "execution_count": 59,
     "metadata": {},
     "output_type": "execute_result"
    }
   ],
   "source": [
    "(F(2) - F(1)).n()"
   ]
  },
  {
   "cell_type": "markdown",
   "metadata": {},
   "source": [
    "# Jeszcze jeden przykład"
   ]
  },
  {
   "cell_type": "code",
   "execution_count": 2,
   "metadata": {},
   "outputs": [],
   "source": [
    "f(x) = sin(x)"
   ]
  },
  {
   "cell_type": "code",
   "execution_count": 3,
   "metadata": {},
   "outputs": [
    {
     "data": {
      "text/plain": [
       "-cos(x)"
      ]
     },
     "execution_count": 3,
     "metadata": {},
     "output_type": "execute_result"
    }
   ],
   "source": [
    "integral(f(x), x)"
   ]
  },
  {
   "cell_type": "code",
   "execution_count": 6,
   "metadata": {},
   "outputs": [
    {
     "data": {
      "text/plain": [
       "2"
      ]
     },
     "execution_count": 6,
     "metadata": {},
     "output_type": "execute_result"
    }
   ],
   "source": [
    "integral(sin(x), x, 0, pi)"
   ]
  },
  {
   "cell_type": "code",
   "execution_count": 9,
   "metadata": {},
   "outputs": [],
   "source": [
    "F(x) = integral(sin(x), x)"
   ]
  },
  {
   "cell_type": "code",
   "execution_count": 10,
   "metadata": {},
   "outputs": [
    {
     "data": {
      "text/plain": [
       "-cos(x)"
      ]
     },
     "execution_count": 10,
     "metadata": {},
     "output_type": "execute_result"
    }
   ],
   "source": [
    "F(x)"
   ]
  },
  {
   "cell_type": "code",
   "execution_count": 11,
   "metadata": {},
   "outputs": [
    {
     "data": {
      "text/plain": [
       "2"
      ]
     },
     "execution_count": 11,
     "metadata": {},
     "output_type": "execute_result"
    }
   ],
   "source": [
    "F(pi) - F(0)"
   ]
  },
  {
   "cell_type": "code",
   "execution_count": 14,
   "metadata": {},
   "outputs": [
    {
     "data": {
      "text/plain": [
       "0"
      ]
     },
     "execution_count": 14,
     "metadata": {},
     "output_type": "execute_result"
    }
   ],
   "source": [
    "F(2*pi) - F(0)"
   ]
  },
  {
   "cell_type": "code",
   "execution_count": 15,
   "metadata": {},
   "outputs": [
    {
     "data": {
      "text/plain": [
       "1"
      ]
     },
     "execution_count": 15,
     "metadata": {},
     "output_type": "execute_result"
    }
   ],
   "source": [
    "F(pi/2) - F(0)"
   ]
  },
  {
   "cell_type": "code",
   "execution_count": null,
   "metadata": {},
   "outputs": [],
   "source": []
  }
 ],
 "metadata": {
  "kernelspec": {
   "display_name": "SageMath 9.2",
   "language": "sage",
   "name": "sagemath"
  },
  "language_info": {
   "codemirror_mode": {
    "name": "ipython",
    "version": 3
   },
   "file_extension": ".py",
   "mimetype": "text/x-python",
   "name": "python",
   "nbconvert_exporter": "python",
   "pygments_lexer": "ipython3",
   "version": "3.8.6"
  }
 },
 "nbformat": 4,
 "nbformat_minor": 4
}
