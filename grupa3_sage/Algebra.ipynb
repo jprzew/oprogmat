{
 "cells": [
  {
   "cell_type": "code",
   "execution_count": 9,
   "metadata": {},
   "outputs": [
    {
     "data": {
      "text/html": [
       "<html><script type=\"math/tex; mode=display\">\\newcommand{\\Bold}[1]{\\mathbf{#1}}\\left(\\begin{array}{rrrr}\n",
       "1 & -1 & 0 & 7 \\\\\n",
       "1 & 1 & -3 & 1 \\\\\n",
       "-1 & -3 & 3 & 2 \\\\\n",
       "-4 & 0 & 1 & -1\n",
       "\\end{array}\\right)</script></html>"
      ],
      "text/latex": [
       "\\begin{math}\n",
       "\\newcommand{\\Bold}[1]{\\mathbf{#1}}\\left(\\begin{array}{rrrr}\n",
       "1 & -1 & 0 & 7 \\\\\n",
       "1 & 1 & -3 & 1 \\\\\n",
       "-1 & -3 & 3 & 2 \\\\\n",
       "-4 & 0 & 1 & -1\n",
       "\\end{array}\\right)\n",
       "\\end{math}"
      ],
      "text/plain": [
       "[ 1 -1  0  7]\n",
       "[ 1  1 -3  1]\n",
       "[-1 -3  3  2]\n",
       "[-4  0  1 -1]"
      ]
     },
     "metadata": {},
     "output_type": "display_data"
    }
   ],
   "source": [
    "A = matrix([[1, -1, 0, 7], [1, 1, -3, 1], [-1, -3, 3, 2], [-4, 0, 1, -1]])\n",
    "show(A)"
   ]
  },
  {
   "cell_type": "code",
   "execution_count": 8,
   "metadata": {},
   "outputs": [
    {
     "data": {
      "text/html": [
       "<html><script type=\"math/tex; mode=display\">\\newcommand{\\Bold}[1]{\\mathbf{#1}}\\left(\\begin{array}{rrrr}\n",
       "1 & 0 & 0 & 0 \\\\\n",
       "0 & 1 & 0 & 0 \\\\\n",
       "0 & 0 & 1 & 0 \\\\\n",
       "0 & 0 & 0 & 1\n",
       "\\end{array}\\right)</script></html>"
      ],
      "text/latex": [
       "\\begin{math}\n",
       "\\newcommand{\\Bold}[1]{\\mathbf{#1}}\\left(\\begin{array}{rrrr}\n",
       "1 & 0 & 0 & 0 \\\\\n",
       "0 & 1 & 0 & 0 \\\\\n",
       "0 & 0 & 1 & 0 \\\\\n",
       "0 & 0 & 0 & 1\n",
       "\\end{array}\\right)\n",
       "\\end{math}"
      ],
      "text/plain": [
       "[1 0 0 0]\n",
       "[0 1 0 0]\n",
       "[0 0 1 0]\n",
       "[0 0 0 1]"
      ]
     },
     "metadata": {},
     "output_type": "display_data"
    }
   ],
   "source": [
    "B = matrix.identity(4)\n",
    "show(B)"
   ]
  },
  {
   "cell_type": "code",
   "execution_count": 3,
   "metadata": {},
   "outputs": [
    {
     "data": {
      "text/html": [
       "<html><script type=\"math/tex; mode=display\">\\newcommand{\\Bold}[1]{\\mathbf{#1}}\\left(\\begin{array}{rrrr}\n",
       "-\\frac{1}{120} & -\\frac{2}{15} & -\\frac{1}{24} & -\\frac{11}{40} \\\\\n",
       "\\frac{11}{40} & -\\frac{3}{5} & -\\frac{5}{8} & \\frac{3}{40} \\\\\n",
       "\\frac{3}{20} & -\\frac{3}{5} & -\\frac{1}{4} & -\\frac{1}{20} \\\\\n",
       "\\frac{11}{60} & -\\frac{1}{15} & -\\frac{1}{12} & \\frac{1}{20}\n",
       "\\end{array}\\right)</script></html>"
      ],
      "text/latex": [
       "\\begin{math}\n",
       "\\newcommand{\\Bold}[1]{\\mathbf{#1}}\\left(\\begin{array}{rrrr}\n",
       "-\\frac{1}{120} & -\\frac{2}{15} & -\\frac{1}{24} & -\\frac{11}{40} \\\\\n",
       "\\frac{11}{40} & -\\frac{3}{5} & -\\frac{5}{8} & \\frac{3}{40} \\\\\n",
       "\\frac{3}{20} & -\\frac{3}{5} & -\\frac{1}{4} & -\\frac{1}{20} \\\\\n",
       "\\frac{11}{60} & -\\frac{1}{15} & -\\frac{1}{12} & \\frac{1}{20}\n",
       "\\end{array}\\right)\n",
       "\\end{math}"
      ],
      "text/plain": [
       "[-1/120  -2/15  -1/24 -11/40]\n",
       "[ 11/40   -3/5   -5/8   3/40]\n",
       "[  3/20   -3/5   -1/4  -1/20]\n",
       "[ 11/60  -1/15  -1/12   1/20]"
      ]
     },
     "metadata": {},
     "output_type": "display_data"
    }
   ],
   "source": [
    "show(A.solve_right(B))"
   ]
  },
  {
   "cell_type": "code",
   "execution_count": 4,
   "metadata": {},
   "outputs": [
    {
     "data": {
      "text/html": [
       "<html><script type=\"math/tex; mode=display\">\\newcommand{\\Bold}[1]{\\mathbf{#1}}\\left(\\begin{array}{rrrr}\n",
       "-\\frac{1}{120} & -\\frac{2}{15} & -\\frac{1}{24} & -\\frac{11}{40} \\\\\n",
       "\\frac{11}{40} & -\\frac{3}{5} & -\\frac{5}{8} & \\frac{3}{40} \\\\\n",
       "\\frac{3}{20} & -\\frac{3}{5} & -\\frac{1}{4} & -\\frac{1}{20} \\\\\n",
       "\\frac{11}{60} & -\\frac{1}{15} & -\\frac{1}{12} & \\frac{1}{20}\n",
       "\\end{array}\\right)</script></html>"
      ],
      "text/latex": [
       "\\begin{math}\n",
       "\\newcommand{\\Bold}[1]{\\mathbf{#1}}\\left(\\begin{array}{rrrr}\n",
       "-\\frac{1}{120} & -\\frac{2}{15} & -\\frac{1}{24} & -\\frac{11}{40} \\\\\n",
       "\\frac{11}{40} & -\\frac{3}{5} & -\\frac{5}{8} & \\frac{3}{40} \\\\\n",
       "\\frac{3}{20} & -\\frac{3}{5} & -\\frac{1}{4} & -\\frac{1}{20} \\\\\n",
       "\\frac{11}{60} & -\\frac{1}{15} & -\\frac{1}{12} & \\frac{1}{20}\n",
       "\\end{array}\\right)\n",
       "\\end{math}"
      ],
      "text/plain": [
       "[-1/120  -2/15  -1/24 -11/40]\n",
       "[ 11/40   -3/5   -5/8   3/40]\n",
       "[  3/20   -3/5   -1/4  -1/20]\n",
       "[ 11/60  -1/15  -1/12   1/20]"
      ]
     },
     "metadata": {},
     "output_type": "display_data"
    }
   ],
   "source": [
    "show(A.inverse())"
   ]
  },
  {
   "cell_type": "code",
   "execution_count": 5,
   "metadata": {},
   "outputs": [],
   "source": [
    "A = matrix([[1, 1], [1, -2]])\n",
    "b = vector([4, 6])"
   ]
  },
  {
   "cell_type": "code",
   "execution_count": 6,
   "metadata": {},
   "outputs": [
    {
     "data": {
      "text/plain": [
       "(14/3, -2/3)"
      ]
     },
     "execution_count": 6,
     "metadata": {},
     "output_type": "execute_result"
    }
   ],
   "source": [
    "A.solve_right(b)"
   ]
  },
  {
   "cell_type": "markdown",
   "metadata": {},
   "source": [
    "# Zadanie 0.4"
   ]
  },
  {
   "cell_type": "code",
   "execution_count": 15,
   "metadata": {},
   "outputs": [],
   "source": [
    "C = block_matrix(QQ, [A,B], ncols=2)\n"
   ]
  },
  {
   "cell_type": "code",
   "execution_count": 16,
   "metadata": {},
   "outputs": [
    {
     "data": {
      "text/html": [
       "<html><script type=\"math/tex; mode=display\">\\newcommand{\\Bold}[1]{\\mathbf{#1}}\\left(\\begin{array}{rrrr|rrrr}\n",
       "1 & -1 & 0 & 7 & 1 & 0 & 0 & 0 \\\\\n",
       "1 & 1 & -3 & 1 & 0 & 1 & 0 & 0 \\\\\n",
       "-1 & -3 & 3 & 2 & 0 & 0 & 1 & 0 \\\\\n",
       "-4 & 0 & 1 & -1 & 0 & 0 & 0 & 1\n",
       "\\end{array}\\right)</script></html>"
      ],
      "text/latex": [
       "\\begin{math}\n",
       "\\newcommand{\\Bold}[1]{\\mathbf{#1}}\\left(\\begin{array}{rrrr|rrrr}\n",
       "1 & -1 & 0 & 7 & 1 & 0 & 0 & 0 \\\\\n",
       "1 & 1 & -3 & 1 & 0 & 1 & 0 & 0 \\\\\n",
       "-1 & -3 & 3 & 2 & 0 & 0 & 1 & 0 \\\\\n",
       "-4 & 0 & 1 & -1 & 0 & 0 & 0 & 1\n",
       "\\end{array}\\right)\n",
       "\\end{math}"
      ],
      "text/plain": [
       "[ 1 -1  0  7| 1  0  0  0]\n",
       "[ 1  1 -3  1| 0  1  0  0]\n",
       "[-1 -3  3  2| 0  0  1  0]\n",
       "[-4  0  1 -1| 0  0  0  1]"
      ]
     },
     "metadata": {},
     "output_type": "display_data"
    }
   ],
   "source": [
    "show(C)"
   ]
  },
  {
   "cell_type": "code",
   "execution_count": 17,
   "metadata": {},
   "outputs": [
    {
     "data": {
      "text/plain": [
       "[     1      0      0      0|-1/120  -2/15  -1/24 -11/40]\n",
       "[     0      1      0      0| 11/40   -3/5   -5/8   3/40]\n",
       "[     0      0      1      0|  3/20   -3/5   -1/4  -1/20]\n",
       "[     0      0      0      1| 11/60  -1/15  -1/12   1/20]"
      ]
     },
     "execution_count": 17,
     "metadata": {},
     "output_type": "execute_result"
    }
   ],
   "source": [
    "C.rref()"
   ]
  },
  {
   "cell_type": "code",
   "execution_count": 18,
   "metadata": {},
   "outputs": [
    {
     "data": {
      "text/plain": [
       "[     1      0      0      0|-1/120  -2/15  -1/24 -11/40]\n",
       "[     0      1      0      0| 11/40   -3/5   -5/8   3/40]\n",
       "[     0      0      1      0|  3/20   -3/5   -1/4  -1/20]\n",
       "[     0      0      0      1| 11/60  -1/15  -1/12   1/20]"
      ]
     },
     "execution_count": 18,
     "metadata": {},
     "output_type": "execute_result"
    }
   ],
   "source": [
    "C.echelon_form()"
   ]
  },
  {
   "cell_type": "markdown",
   "metadata": {},
   "source": [
    "# Zadanie 0.8"
   ]
  },
  {
   "cell_type": "code",
   "execution_count": 20,
   "metadata": {},
   "outputs": [
    {
     "data": {
      "text/plain": [
       "[\n",
       "(1, 0, 0, -1/3, -4/21),\n",
       "(0, 1, 0, 16, -11/7),\n",
       "(0, 0, 1, 4/3, 76/21)\n",
       "]"
      ]
     },
     "execution_count": 20,
     "metadata": {},
     "output_type": "execute_result"
    }
   ],
   "source": [
    "V = VectorSpace(QQ, 5)\n",
    "S = V.subspace([V([-2, 0, 1, 2, 4]),\n",
    "                V([-73, -1, -4, 3, 1]),\n",
    "                V([58, 1, 1, -2, -9])])\n",
    "S.basis()"
   ]
  },
  {
   "cell_type": "markdown",
   "metadata": {},
   "source": [
    "# Zadanie 0.9"
   ]
  },
  {
   "cell_type": "code",
   "execution_count": 21,
   "metadata": {},
   "outputs": [],
   "source": [
    "v1 = V([-2, -7, 2, 1, 41])\n",
    "v2 = V([-7, -114, 0, 35, 21])\n",
    "v3 = V([-1, -1, -40, -69, -143])"
   ]
  },
  {
   "cell_type": "code",
   "execution_count": 22,
   "metadata": {},
   "outputs": [
    {
     "data": {
      "text/plain": [
       "False"
      ]
     },
     "execution_count": 22,
     "metadata": {},
     "output_type": "execute_result"
    }
   ],
   "source": [
    "v1 in S"
   ]
  },
  {
   "cell_type": "code",
   "execution_count": 23,
   "metadata": {},
   "outputs": [
    {
     "data": {
      "text/plain": [
       "False"
      ]
     },
     "execution_count": 23,
     "metadata": {},
     "output_type": "execute_result"
    }
   ],
   "source": [
    "v2 in S"
   ]
  },
  {
   "cell_type": "code",
   "execution_count": 24,
   "metadata": {},
   "outputs": [
    {
     "data": {
      "text/plain": [
       "True"
      ]
     },
     "execution_count": 24,
     "metadata": {},
     "output_type": "execute_result"
    }
   ],
   "source": [
    "v3 in S"
   ]
  },
  {
   "cell_type": "markdown",
   "metadata": {},
   "source": [
    "## Zadanie 0.10"
   ]
  },
  {
   "cell_type": "code",
   "execution_count": 25,
   "metadata": {},
   "outputs": [],
   "source": [
    "v1 = V([0, 1, 30, 56, 107])\n",
    "v2 = V([0, -2, -18, -56, -62])\n",
    "v3 = V([3, -1, 0, -17, 1])"
   ]
  },
  {
   "cell_type": "code",
   "execution_count": 29,
   "metadata": {},
   "outputs": [
    {
     "data": {
      "text/plain": [
       "(True, True, True)"
      ]
     },
     "execution_count": 29,
     "metadata": {},
     "output_type": "execute_result"
    }
   ],
   "source": [
    "v1 in S, v2 in S, v3 in S"
   ]
  },
  {
   "cell_type": "code",
   "execution_count": 31,
   "metadata": {},
   "outputs": [
    {
     "data": {
      "text/plain": [
       "True"
      ]
     },
     "execution_count": 31,
     "metadata": {},
     "output_type": "execute_result"
    }
   ],
   "source": [
    "V.subspace([v1, v2, v3]) == S"
   ]
  },
  {
   "cell_type": "code",
   "execution_count": 32,
   "metadata": {},
   "outputs": [],
   "source": [
    "w1 = V([-3, 2, 9, 45, 30])\n",
    "w2 = V([-1, 0, 74, 99, 268])\n",
    "w3 = V([-13, 4, 536, 783, 1936])"
   ]
  },
  {
   "cell_type": "code",
   "execution_count": 35,
   "metadata": {},
   "outputs": [
    {
     "data": {
      "text/plain": [
       "Vector space of degree 5 and dimension 2 over Rational Field\n",
       "Basis matrix:\n",
       "[     1      0    -74    -99   -268]\n",
       "[     0      1 -213/2   -126   -387]"
      ]
     },
     "execution_count": 35,
     "metadata": {},
     "output_type": "execute_result"
    }
   ],
   "source": [
    "V.subspace([w1, w2, w3])"
   ]
  },
  {
   "cell_type": "code",
   "execution_count": 36,
   "metadata": {},
   "outputs": [],
   "source": [
    "A = matrix([[-3, 2, 9, 45, 30],\n",
    "            [-1, 0, 74, 99, 268],\n",
    "            [-13, 4, 536, 783, 1936]])"
   ]
  },
  {
   "cell_type": "code",
   "execution_count": 40,
   "metadata": {},
   "outputs": [
    {
     "data": {
      "text/plain": [
       "Free module of degree 3 and rank 1 over Integer Ring\n",
       "Echelon basis matrix:\n",
       "[ 2  7 -1]"
      ]
     },
     "execution_count": 40,
     "metadata": {},
     "output_type": "execute_result"
    }
   ],
   "source": [
    "A.left_kernel()"
   ]
  },
  {
   "cell_type": "code",
   "execution_count": 42,
   "metadata": {},
   "outputs": [
    {
     "data": {
      "text/plain": [
       "(0, 0, 0, 0, 0)"
      ]
     },
     "execution_count": 42,
     "metadata": {},
     "output_type": "execute_result"
    }
   ],
   "source": [
    "2*w1 + 7*w2 - w3"
   ]
  },
  {
   "cell_type": "code",
   "execution_count": null,
   "metadata": {},
   "outputs": [],
   "source": []
  }
 ],
 "metadata": {
  "kernelspec": {
   "display_name": "SageMath 9.2",
   "language": "sage",
   "name": "sagemath"
  },
  "language_info": {
   "codemirror_mode": {
    "name": "ipython",
    "version": 3
   },
   "file_extension": ".py",
   "mimetype": "text/x-python",
   "name": "python",
   "nbconvert_exporter": "python",
   "pygments_lexer": "ipython3",
   "version": "3.8.6"
  }
 },
 "nbformat": 4,
 "nbformat_minor": 4
}
