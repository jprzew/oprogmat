{
 "cells": [
  {
   "cell_type": "markdown",
   "id": "7eb02afe",
   "metadata": {},
   "source": [
    "# Zadanie 13"
   ]
  },
  {
   "cell_type": "markdown",
   "id": "98ace814",
   "metadata": {},
   "source": [
    "**Iteracyjnie**"
   ]
  },
  {
   "cell_type": "code",
   "execution_count": 43,
   "id": "77418a1f",
   "metadata": {},
   "outputs": [],
   "source": [
    "def factorial1(number):\n",
    "    \"\"\"Calculates factorial (iteratively)\n",
    "    \n",
    "    Args:\n",
    "        number(int): natural number (including zero)\n",
    "    \n",
    "    Returns:\n",
    "        Value of factorial for the first parameter\n",
    "    \"\"\"\n",
    "    \n",
    "    result = 1\n",
    "    for k in range(1, number+1):\n",
    "        result = result * k\n",
    "        \n",
    "    return result\n"
   ]
  },
  {
   "cell_type": "code",
   "execution_count": 40,
   "id": "7077c7bc",
   "metadata": {},
   "outputs": [
    {
     "data": {
      "text/plain": [
       "[1, 1, 2, 6, 24, 120, 720, 5040, 40320, 362880]"
      ]
     },
     "execution_count": 40,
     "metadata": {},
     "output_type": "execute_result"
    }
   ],
   "source": [
    "[factorial1(n) for n in range(10)]"
   ]
  },
  {
   "cell_type": "markdown",
   "id": "4be79fe4",
   "metadata": {},
   "source": [
    "**Rekurencyjna**"
   ]
  },
  {
   "cell_type": "code",
   "execution_count": 44,
   "id": "1e87cd34",
   "metadata": {},
   "outputs": [],
   "source": [
    "def factorial2(number):\n",
    "    \"\"\"Calculates factorial (recursively)\n",
    "    \n",
    "    Args:\n",
    "        number(int): natural number (including zero)\n",
    "    \n",
    "    Returns:\n",
    "        Value of factorial for the first parameter\n",
    "    \"\"\"\n",
    "    if number == 0:\n",
    "        return 1\n",
    "    \n",
    "    return factorial2(number-1) * number"
   ]
  },
  {
   "cell_type": "code",
   "execution_count": 42,
   "id": "c97156a5",
   "metadata": {},
   "outputs": [
    {
     "data": {
      "text/plain": [
       "[1, 1, 2, 6, 24, 120, 720, 5040, 40320, 362880]"
      ]
     },
     "execution_count": 42,
     "metadata": {},
     "output_type": "execute_result"
    }
   ],
   "source": [
    "[factorial2(n) for n in range(10)]"
   ]
  },
  {
   "cell_type": "code",
   "execution_count": 46,
   "id": "20c1fe77",
   "metadata": {},
   "outputs": [
    {
     "name": "stdout",
     "output_type": "stream",
     "text": [
      "print(value, ..., sep=' ', end='\\n', file=sys.stdout, flush=False)\n",
      "\n",
      "Prints the values to a stream, or to sys.stdout by default.\n",
      "Optional keyword arguments:\n",
      "file:  a file-like object (stream); defaults to the current sys.stdout.\n",
      "sep:   string inserted between values, default a space.\n",
      "end:   string appended after the last value, default a newline.\n",
      "flush: whether to forcibly flush the stream.\n"
     ]
    }
   ],
   "source": [
    "print(print.__doc__)"
   ]
  },
  {
   "cell_type": "code",
   "execution_count": 47,
   "id": "341d3798",
   "metadata": {},
   "outputs": [],
   "source": [
    "print?"
   ]
  },
  {
   "cell_type": "code",
   "execution_count": 48,
   "id": "df5dc6bc",
   "metadata": {},
   "outputs": [],
   "source": [
    "factorial1?"
   ]
  },
  {
   "cell_type": "markdown",
   "id": "4476760e",
   "metadata": {},
   "source": [
    "# Zadanie 14"
   ]
  },
  {
   "cell_type": "markdown",
   "id": "a766da41",
   "metadata": {},
   "source": [
    "**Rekurencyjna**"
   ]
  },
  {
   "cell_type": "code",
   "execution_count": 50,
   "id": "d00be7c3",
   "metadata": {},
   "outputs": [],
   "source": [
    "def fibonacci1(number):\n",
    "    if number in {0, 1}:\n",
    "        return 1\n",
    "    \n",
    "    return fibonacci1(number-2) + fibonacci1(number-1)"
   ]
  },
  {
   "cell_type": "code",
   "execution_count": 51,
   "id": "e608148a",
   "metadata": {},
   "outputs": [
    {
     "data": {
      "text/plain": [
       "[1, 1, 2, 3, 5, 8, 13, 21, 34, 55, 89, 144, 233, 377, 610]"
      ]
     },
     "execution_count": 51,
     "metadata": {},
     "output_type": "execute_result"
    }
   ],
   "source": [
    "[fibonacci1(n) for n in range(15)]"
   ]
  },
  {
   "cell_type": "markdown",
   "id": "e299da51",
   "metadata": {},
   "source": [
    "**Iteracyjna**"
   ]
  },
  {
   "cell_type": "markdown",
   "id": "9e1a329c",
   "metadata": {},
   "source": [
    "**Analityczna**"
   ]
  },
  {
   "cell_type": "code",
   "execution_count": null,
   "id": "4992303d",
   "metadata": {},
   "outputs": [],
   "source": []
  }
 ],
 "metadata": {
  "kernelspec": {
   "display_name": "Python 3",
   "language": "python",
   "name": "python3"
  },
  "language_info": {
   "codemirror_mode": {
    "name": "ipython",
    "version": 3
   },
   "file_extension": ".py",
   "mimetype": "text/x-python",
   "name": "python",
   "nbconvert_exporter": "python",
   "pygments_lexer": "ipython3",
   "version": "3.6.9"
  }
 },
 "nbformat": 4,
 "nbformat_minor": 5
}
