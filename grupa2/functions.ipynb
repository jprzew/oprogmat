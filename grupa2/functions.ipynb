{
 "cells": [
  {
   "cell_type": "markdown",
   "id": "7eb02afe",
   "metadata": {},
   "source": [
    "# Zadanie 13"
   ]
  },
  {
   "cell_type": "markdown",
   "id": "98ace814",
   "metadata": {},
   "source": [
    "**Iteracyjnie**"
   ]
  },
  {
   "cell_type": "code",
   "execution_count": 20,
   "id": "77418a1f",
   "metadata": {},
   "outputs": [],
   "source": [
    "def factorial1(number):\n",
    "    \"\"\"Calculates factorial (iteratively)\n",
    "    \n",
    "    Args:\n",
    "        number(int): natural number (including zero)\n",
    "    \n",
    "    Returns:\n",
    "        Value of factorial for the first parameter\n",
    "    \"\"\"\n",
    "    \n",
    "    result = 1\n",
    "    for k in range(1, number+1):\n",
    "        result = result * k\n",
    "        \n",
    "    return result\n"
   ]
  },
  {
   "cell_type": "code",
   "execution_count": 21,
   "id": "7077c7bc",
   "metadata": {},
   "outputs": [
    {
     "data": {
      "text/plain": [
       "[1, 1, 2, 6, 24, 120, 720, 5040, 40320, 362880]"
      ]
     },
     "execution_count": 21,
     "metadata": {},
     "output_type": "execute_result"
    }
   ],
   "source": [
    "[factorial1(n) for n in range(10)]"
   ]
  },
  {
   "cell_type": "markdown",
   "id": "4be79fe4",
   "metadata": {},
   "source": [
    "**Rekurencyjna**"
   ]
  },
  {
   "cell_type": "code",
   "execution_count": 22,
   "id": "1e87cd34",
   "metadata": {},
   "outputs": [],
   "source": [
    "def factorial2(number):\n",
    "    \"\"\"Calculates factorial (recursively)\n",
    "    \n",
    "    Args:\n",
    "        number(int): natural number (including zero)\n",
    "    \n",
    "    Returns:\n",
    "        Value of factorial for the first parameter\n",
    "    \"\"\"\n",
    "    if number == 0:\n",
    "        return 1\n",
    "    \n",
    "    return factorial2(number-1) * number"
   ]
  },
  {
   "cell_type": "code",
   "execution_count": 23,
   "id": "c97156a5",
   "metadata": {},
   "outputs": [
    {
     "data": {
      "text/plain": [
       "[1, 1, 2, 6, 24, 120, 720, 5040, 40320, 362880]"
      ]
     },
     "execution_count": 23,
     "metadata": {},
     "output_type": "execute_result"
    }
   ],
   "source": [
    "[factorial2(n) for n in range(10)]"
   ]
  },
  {
   "cell_type": "code",
   "execution_count": 46,
   "id": "20c1fe77",
   "metadata": {},
   "outputs": [
    {
     "name": "stdout",
     "output_type": "stream",
     "text": [
      "print(value, ..., sep=' ', end='\\n', file=sys.stdout, flush=False)\n",
      "\n",
      "Prints the values to a stream, or to sys.stdout by default.\n",
      "Optional keyword arguments:\n",
      "file:  a file-like object (stream); defaults to the current sys.stdout.\n",
      "sep:   string inserted between values, default a space.\n",
      "end:   string appended after the last value, default a newline.\n",
      "flush: whether to forcibly flush the stream.\n"
     ]
    }
   ],
   "source": [
    "print(print.__doc__)"
   ]
  },
  {
   "cell_type": "code",
   "execution_count": 29,
   "id": "341d3798",
   "metadata": {},
   "outputs": [],
   "source": [
    "print?"
   ]
  },
  {
   "cell_type": "code",
   "execution_count": 48,
   "id": "df5dc6bc",
   "metadata": {},
   "outputs": [],
   "source": [
    "factorial1?"
   ]
  },
  {
   "cell_type": "code",
   "execution_count": 26,
   "id": "eb5046ef",
   "metadata": {},
   "outputs": [
    {
     "name": "stdout",
     "output_type": "stream",
     "text": [
      "100000 loops, best of 3: 3.17 µs per loop\n"
     ]
    }
   ],
   "source": [
    "%timeit factorial1(10)"
   ]
  },
  {
   "cell_type": "code",
   "execution_count": 27,
   "id": "77d8f276",
   "metadata": {},
   "outputs": [
    {
     "name": "stdout",
     "output_type": "stream",
     "text": [
      "100000 loops, best of 3: 4.42 µs per loop\n"
     ]
    }
   ],
   "source": [
    "%timeit factorial2(10)"
   ]
  },
  {
   "cell_type": "markdown",
   "id": "4476760e",
   "metadata": {},
   "source": [
    "# Zadanie 14"
   ]
  },
  {
   "cell_type": "markdown",
   "id": "a766da41",
   "metadata": {},
   "source": [
    "**Rekurencyjna**"
   ]
  },
  {
   "cell_type": "code",
   "execution_count": 3,
   "id": "d00be7c3",
   "metadata": {},
   "outputs": [],
   "source": [
    "def fibonacci1(number):\n",
    "    \"\"\"Calculates n-th Fibonacci number (recursively)\n",
    "    \n",
    "    Args:\n",
    "        number(int): natural number (including zero)\n",
    "    \n",
    "    Returns:\n",
    "        n-th Fibonacci number\n",
    "    \"\"\"\n",
    "    \n",
    "    if number in {0, 1}:\n",
    "        return number\n",
    "    \n",
    "    return fibonacci1(number-2) + fibonacci1(number-1)"
   ]
  },
  {
   "cell_type": "code",
   "execution_count": 4,
   "id": "e608148a",
   "metadata": {},
   "outputs": [
    {
     "data": {
      "text/plain": [
       "[0, 1, 1, 2, 3, 5, 8, 13, 21, 34, 55, 89, 144, 233, 377]"
      ]
     },
     "execution_count": 4,
     "metadata": {},
     "output_type": "execute_result"
    }
   ],
   "source": [
    "[fibonacci1(n) for n in range(15)]"
   ]
  },
  {
   "cell_type": "markdown",
   "id": "e299da51",
   "metadata": {},
   "source": [
    "**Iteracyjna**"
   ]
  },
  {
   "cell_type": "code",
   "execution_count": 9,
   "id": "029acf6d",
   "metadata": {},
   "outputs": [],
   "source": [
    "def fibonacci2(number):\n",
    "    \"\"\"Calculates n-th Fibonacci number (iteratively)\n",
    "    \n",
    "    Args:\n",
    "        number(int): natural number (including zero)\n",
    "    \n",
    "    Returns:\n",
    "        n-th Fibonacci number\n",
    "    \"\"\"\n",
    "    \n",
    "    if number in {0, 1}:\n",
    "        return number \n",
    "    \n",
    "    results = [0, 1]\n",
    "\n",
    "    for _ in range(2, number+1):\n",
    "        results.append(results[-1]+results[-2])  \n",
    "\n",
    "    return results[-1]\n"
   ]
  },
  {
   "cell_type": "code",
   "execution_count": 8,
   "id": "3f3526ea",
   "metadata": {},
   "outputs": [
    {
     "data": {
      "text/plain": [
       "[0, 1, 1, 2, 3, 5, 8, 13, 21, 34, 55, 89, 144, 233, 377]"
      ]
     },
     "execution_count": 8,
     "metadata": {},
     "output_type": "execute_result"
    }
   ],
   "source": [
    "[fibonacci2(n) for n in range(15)]"
   ]
  },
  {
   "cell_type": "markdown",
   "id": "9e1a329c",
   "metadata": {},
   "source": [
    "**Analityczna**"
   ]
  },
  {
   "cell_type": "code",
   "execution_count": 15,
   "id": "4992303d",
   "metadata": {},
   "outputs": [],
   "source": [
    "def fibonacci3(number):\n",
    "    phi = (1 + 5**0.5) / 2\n",
    "    psi = 1 - phi\n",
    "    \n",
    "    return int((phi**number - psi**number) / 5**0.5)"
   ]
  },
  {
   "cell_type": "code",
   "execution_count": 16,
   "id": "69809e9c",
   "metadata": {},
   "outputs": [
    {
     "data": {
      "text/plain": [
       "[0, 1, 1, 2, 3, 5, 8, 13, 21, 34, 55, 89, 144, 233, 377]"
      ]
     },
     "execution_count": 16,
     "metadata": {},
     "output_type": "execute_result"
    }
   ],
   "source": [
    "[fibonacci3(n) for n in range(15)]"
   ]
  },
  {
   "cell_type": "code",
   "execution_count": 17,
   "id": "22875a89",
   "metadata": {},
   "outputs": [
    {
     "name": "stdout",
     "output_type": "stream",
     "text": [
      "1000 loops, best of 3: 744 µs per loop\n"
     ]
    }
   ],
   "source": [
    "%timeit fibonacci1(15)"
   ]
  },
  {
   "cell_type": "code",
   "execution_count": 18,
   "id": "40916899",
   "metadata": {},
   "outputs": [
    {
     "name": "stdout",
     "output_type": "stream",
     "text": [
      "100000 loops, best of 3: 7.43 µs per loop\n"
     ]
    }
   ],
   "source": [
    "%timeit fibonacci2(15)"
   ]
  },
  {
   "cell_type": "code",
   "execution_count": 19,
   "id": "0a53791e",
   "metadata": {},
   "outputs": [
    {
     "name": "stdout",
     "output_type": "stream",
     "text": [
      "The slowest run took 4.19 times longer than the fastest. This could mean that an intermediate result is being cached.\n",
      "1000000 loops, best of 3: 1.36 µs per loop\n"
     ]
    }
   ],
   "source": [
    "%timeit fibonacci3(15)"
   ]
  },
  {
   "cell_type": "markdown",
   "id": "6eac14d5",
   "metadata": {},
   "source": [
    "# Zadanie 15"
   ]
  },
  {
   "cell_type": "code",
   "execution_count": 30,
   "id": "dde7ece0",
   "metadata": {},
   "outputs": [],
   "source": [
    "def print_docstring(function):\n",
    "    print(function.__doc__)"
   ]
  },
  {
   "cell_type": "code",
   "execution_count": 31,
   "id": "00286440",
   "metadata": {},
   "outputs": [
    {
     "name": "stdout",
     "output_type": "stream",
     "text": [
      "Calculates factorial (iteratively)\n",
      "    \n",
      "    Args:\n",
      "        number(int): natural number (including zero)\n",
      "    \n",
      "    Returns:\n",
      "        Value of factorial for the first parameter\n",
      "    \n"
     ]
    }
   ],
   "source": [
    "print_docstring(factorial1)"
   ]
  },
  {
   "cell_type": "code",
   "execution_count": 32,
   "id": "ef35c42f",
   "metadata": {},
   "outputs": [
    {
     "name": "stdout",
     "output_type": "stream",
     "text": [
      "print(value, ..., sep=' ', end='\\n', file=sys.stdout, flush=False)\n",
      "\n",
      "Prints the values to a stream, or to sys.stdout by default.\n",
      "Optional keyword arguments:\n",
      "file:  a file-like object (stream); defaults to the current sys.stdout.\n",
      "sep:   string inserted between values, default a space.\n",
      "end:   string appended after the last value, default a newline.\n",
      "flush: whether to forcibly flush the stream.\n"
     ]
    }
   ],
   "source": [
    "print_docstring(print)"
   ]
  },
  {
   "cell_type": "code",
   "execution_count": null,
   "id": "e9eeb0ff",
   "metadata": {},
   "outputs": [],
   "source": []
  }
 ],
 "metadata": {
  "kernelspec": {
   "display_name": "Python 3",
   "language": "python",
   "name": "python3"
  },
  "language_info": {
   "codemirror_mode": {
    "name": "ipython",
    "version": 3
   },
   "file_extension": ".py",
   "mimetype": "text/x-python",
   "name": "python",
   "nbconvert_exporter": "python",
   "pygments_lexer": "ipython3",
   "version": "3.6.9"
  }
 },
 "nbformat": 4,
 "nbformat_minor": 5
}
