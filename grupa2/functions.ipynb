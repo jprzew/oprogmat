{
 "cells": [
  {
   "cell_type": "markdown",
   "id": "7eb02afe",
   "metadata": {},
   "source": [
    "# Zadanie 13"
   ]
  },
  {
   "cell_type": "markdown",
   "id": "98ace814",
   "metadata": {},
   "source": [
    "**Iteracyjnie**"
   ]
  },
  {
   "cell_type": "code",
   "execution_count": 20,
   "id": "77418a1f",
   "metadata": {},
   "outputs": [],
   "source": [
    "def factorial1(number):\n",
    "    \"\"\"Calculates factorial (iteratively)\n",
    "    \n",
    "    Args:\n",
    "        number(int): natural number (including zero)\n",
    "    \n",
    "    Returns:\n",
    "        Value of factorial for the first parameter\n",
    "    \"\"\"\n",
    "    \n",
    "    result = 1\n",
    "    for k in range(1, number+1):\n",
    "        result = result * k\n",
    "        \n",
    "    return result\n"
   ]
  },
  {
   "cell_type": "code",
   "execution_count": 21,
   "id": "7077c7bc",
   "metadata": {},
   "outputs": [
    {
     "data": {
      "text/plain": [
       "[1, 1, 2, 6, 24, 120, 720, 5040, 40320, 362880]"
      ]
     },
     "execution_count": 21,
     "metadata": {},
     "output_type": "execute_result"
    }
   ],
   "source": [
    "[factorial1(n) for n in range(10)]"
   ]
  },
  {
   "cell_type": "markdown",
   "id": "4be79fe4",
   "metadata": {},
   "source": [
    "**Rekurencyjna**"
   ]
  },
  {
   "cell_type": "code",
   "execution_count": 22,
   "id": "1e87cd34",
   "metadata": {},
   "outputs": [],
   "source": [
    "def factorial2(number):\n",
    "    \"\"\"Calculates factorial (recursively)\n",
    "    \n",
    "    Args:\n",
    "        number(int): natural number (including zero)\n",
    "    \n",
    "    Returns:\n",
    "        Value of factorial for the first parameter\n",
    "    \"\"\"\n",
    "    if number == 0:\n",
    "        return 1\n",
    "    \n",
    "    return factorial2(number-1) * number"
   ]
  },
  {
   "cell_type": "code",
   "execution_count": 23,
   "id": "c97156a5",
   "metadata": {},
   "outputs": [
    {
     "data": {
      "text/plain": [
       "[1, 1, 2, 6, 24, 120, 720, 5040, 40320, 362880]"
      ]
     },
     "execution_count": 23,
     "metadata": {},
     "output_type": "execute_result"
    }
   ],
   "source": [
    "[factorial2(n) for n in range(10)]"
   ]
  },
  {
   "cell_type": "code",
   "execution_count": 46,
   "id": "20c1fe77",
   "metadata": {},
   "outputs": [
    {
     "name": "stdout",
     "output_type": "stream",
     "text": [
      "print(value, ..., sep=' ', end='\\n', file=sys.stdout, flush=False)\n",
      "\n",
      "Prints the values to a stream, or to sys.stdout by default.\n",
      "Optional keyword arguments:\n",
      "file:  a file-like object (stream); defaults to the current sys.stdout.\n",
      "sep:   string inserted between values, default a space.\n",
      "end:   string appended after the last value, default a newline.\n",
      "flush: whether to forcibly flush the stream.\n"
     ]
    }
   ],
   "source": [
    "print(print.__doc__)"
   ]
  },
  {
   "cell_type": "code",
   "execution_count": 29,
   "id": "341d3798",
   "metadata": {},
   "outputs": [],
   "source": [
    "print?"
   ]
  },
  {
   "cell_type": "code",
   "execution_count": 48,
   "id": "df5dc6bc",
   "metadata": {},
   "outputs": [],
   "source": [
    "factorial1?"
   ]
  },
  {
   "cell_type": "code",
   "execution_count": 26,
   "id": "eb5046ef",
   "metadata": {},
   "outputs": [
    {
     "name": "stdout",
     "output_type": "stream",
     "text": [
      "100000 loops, best of 3: 3.17 µs per loop\n"
     ]
    }
   ],
   "source": [
    "%timeit factorial1(10)"
   ]
  },
  {
   "cell_type": "code",
   "execution_count": 27,
   "id": "77d8f276",
   "metadata": {},
   "outputs": [
    {
     "name": "stdout",
     "output_type": "stream",
     "text": [
      "100000 loops, best of 3: 4.42 µs per loop\n"
     ]
    }
   ],
   "source": [
    "%timeit factorial2(10)"
   ]
  },
  {
   "cell_type": "markdown",
   "id": "4476760e",
   "metadata": {},
   "source": [
    "# Zadanie 14"
   ]
  },
  {
   "cell_type": "markdown",
   "id": "a766da41",
   "metadata": {},
   "source": [
    "**Rekurencyjna**"
   ]
  },
  {
   "cell_type": "code",
   "execution_count": 3,
   "id": "d00be7c3",
   "metadata": {},
   "outputs": [],
   "source": [
    "def fibonacci1(number):\n",
    "    \"\"\"Calculates n-th Fibonacci number (recursively)\n",
    "    \n",
    "    Args:\n",
    "        number(int): natural number (including zero)\n",
    "    \n",
    "    Returns:\n",
    "        n-th Fibonacci number\n",
    "    \"\"\"\n",
    "    \n",
    "    if number in {0, 1}:\n",
    "        return number\n",
    "    \n",
    "    return fibonacci1(number-2) + fibonacci1(number-1)"
   ]
  },
  {
   "cell_type": "code",
   "execution_count": 4,
   "id": "e608148a",
   "metadata": {},
   "outputs": [
    {
     "data": {
      "text/plain": [
       "[0, 1, 1, 2, 3, 5, 8, 13, 21, 34, 55, 89, 144, 233, 377]"
      ]
     },
     "execution_count": 4,
     "metadata": {},
     "output_type": "execute_result"
    }
   ],
   "source": [
    "[fibonacci1(n) for n in range(15)]"
   ]
  },
  {
   "cell_type": "markdown",
   "id": "e299da51",
   "metadata": {},
   "source": [
    "**Iteracyjna**"
   ]
  },
  {
   "cell_type": "code",
   "execution_count": 9,
   "id": "029acf6d",
   "metadata": {},
   "outputs": [],
   "source": [
    "def fibonacci2(number):\n",
    "    \"\"\"Calculates n-th Fibonacci number (iteratively)\n",
    "    \n",
    "    Args:\n",
    "        number(int): natural number (including zero)\n",
    "    \n",
    "    Returns:\n",
    "        n-th Fibonacci number\n",
    "    \"\"\"\n",
    "    \n",
    "    if number in {0, 1}:\n",
    "        return number \n",
    "    \n",
    "    results = [0, 1]\n",
    "\n",
    "    for _ in range(2, number+1):\n",
    "        results.append(results[-1]+results[-2])  \n",
    "\n",
    "    return results[-1]\n"
   ]
  },
  {
   "cell_type": "code",
   "execution_count": 8,
   "id": "3f3526ea",
   "metadata": {},
   "outputs": [
    {
     "data": {
      "text/plain": [
       "[0, 1, 1, 2, 3, 5, 8, 13, 21, 34, 55, 89, 144, 233, 377]"
      ]
     },
     "execution_count": 8,
     "metadata": {},
     "output_type": "execute_result"
    }
   ],
   "source": [
    "[fibonacci2(n) for n in range(15)]"
   ]
  },
  {
   "cell_type": "markdown",
   "id": "9e1a329c",
   "metadata": {},
   "source": [
    "**Analityczna**"
   ]
  },
  {
   "cell_type": "code",
   "execution_count": 15,
   "id": "4992303d",
   "metadata": {},
   "outputs": [],
   "source": [
    "def fibonacci3(number):\n",
    "    phi = (1 + 5**0.5) / 2\n",
    "    psi = 1 - phi\n",
    "    \n",
    "    return int((phi**number - psi**number) / 5**0.5)"
   ]
  },
  {
   "cell_type": "code",
   "execution_count": 16,
   "id": "69809e9c",
   "metadata": {},
   "outputs": [
    {
     "data": {
      "text/plain": [
       "[0, 1, 1, 2, 3, 5, 8, 13, 21, 34, 55, 89, 144, 233, 377]"
      ]
     },
     "execution_count": 16,
     "metadata": {},
     "output_type": "execute_result"
    }
   ],
   "source": [
    "[fibonacci3(n) for n in range(15)]"
   ]
  },
  {
   "cell_type": "code",
   "execution_count": 17,
   "id": "22875a89",
   "metadata": {},
   "outputs": [
    {
     "name": "stdout",
     "output_type": "stream",
     "text": [
      "1000 loops, best of 3: 744 µs per loop\n"
     ]
    }
   ],
   "source": [
    "%timeit fibonacci1(15)"
   ]
  },
  {
   "cell_type": "code",
   "execution_count": 18,
   "id": "40916899",
   "metadata": {},
   "outputs": [
    {
     "name": "stdout",
     "output_type": "stream",
     "text": [
      "100000 loops, best of 3: 7.43 µs per loop\n"
     ]
    }
   ],
   "source": [
    "%timeit fibonacci2(15)"
   ]
  },
  {
   "cell_type": "code",
   "execution_count": 19,
   "id": "0a53791e",
   "metadata": {},
   "outputs": [
    {
     "name": "stdout",
     "output_type": "stream",
     "text": [
      "The slowest run took 4.19 times longer than the fastest. This could mean that an intermediate result is being cached.\n",
      "1000000 loops, best of 3: 1.36 µs per loop\n"
     ]
    }
   ],
   "source": [
    "%timeit fibonacci3(15)"
   ]
  },
  {
   "cell_type": "markdown",
   "id": "6eac14d5",
   "metadata": {},
   "source": [
    "# Zadanie 15"
   ]
  },
  {
   "cell_type": "code",
   "execution_count": 30,
   "id": "dde7ece0",
   "metadata": {},
   "outputs": [],
   "source": [
    "def print_docstring(function):\n",
    "    print(function.__doc__)"
   ]
  },
  {
   "cell_type": "code",
   "execution_count": 31,
   "id": "00286440",
   "metadata": {},
   "outputs": [
    {
     "name": "stdout",
     "output_type": "stream",
     "text": [
      "Calculates factorial (iteratively)\n",
      "    \n",
      "    Args:\n",
      "        number(int): natural number (including zero)\n",
      "    \n",
      "    Returns:\n",
      "        Value of factorial for the first parameter\n",
      "    \n"
     ]
    }
   ],
   "source": [
    "print_docstring(factorial1)"
   ]
  },
  {
   "cell_type": "code",
   "execution_count": 32,
   "id": "ef35c42f",
   "metadata": {},
   "outputs": [
    {
     "name": "stdout",
     "output_type": "stream",
     "text": [
      "print(value, ..., sep=' ', end='\\n', file=sys.stdout, flush=False)\n",
      "\n",
      "Prints the values to a stream, or to sys.stdout by default.\n",
      "Optional keyword arguments:\n",
      "file:  a file-like object (stream); defaults to the current sys.stdout.\n",
      "sep:   string inserted between values, default a space.\n",
      "end:   string appended after the last value, default a newline.\n",
      "flush: whether to forcibly flush the stream.\n"
     ]
    }
   ],
   "source": [
    "print_docstring(print)"
   ]
  },
  {
   "cell_type": "markdown",
   "id": "f0f44c31",
   "metadata": {},
   "source": [
    "# Zadanie 17"
   ]
  },
  {
   "cell_type": "code",
   "execution_count": 25,
   "id": "c62a06b1",
   "metadata": {},
   "outputs": [],
   "source": [
    "def is_prime(number):\n",
    "    \"\"\"The function checks if the number is prime\n",
    "       Args:\n",
    "           number: int - natural number\n",
    "       Returns:\n",
    "           True if number is prime, otherwise False\n",
    "    \"\"\"\n",
    "    if number in {0, 1}:\n",
    "        return False\n",
    "    \n",
    "    for i in range(2, int(number**0.5)+1):\n",
    "        if number % i == 0:\n",
    "            return False\n",
    "    return True\n"
   ]
  },
  {
   "cell_type": "code",
   "execution_count": 31,
   "id": "01de046b",
   "metadata": {},
   "outputs": [],
   "source": [
    "number = 2\n",
    "result = is_prime(number)"
   ]
  },
  {
   "cell_type": "markdown",
   "id": "b493de37",
   "metadata": {},
   "source": [
    "# Zadanie 18"
   ]
  },
  {
   "cell_type": "code",
   "execution_count": 34,
   "id": "a9094a88",
   "metadata": {},
   "outputs": [],
   "source": [
    "def print_primes(lower, upper):\n",
    "    \n",
    "    print([number for number in range(lower, upper) if is_prime(number)])"
   ]
  },
  {
   "cell_type": "code",
   "execution_count": 35,
   "id": "bb58b1dc",
   "metadata": {},
   "outputs": [
    {
     "name": "stdout",
     "output_type": "stream",
     "text": [
      "[2, 3, 5, 7, 11, 13, 17, 19, 23, 29, 31, 37, 41, 43, 47, 53, 59, 61, 67, 71, 73, 79, 83, 89, 97]\n"
     ]
    }
   ],
   "source": [
    "print_primes(1, 100)"
   ]
  },
  {
   "cell_type": "markdown",
   "id": "bbef7d5a",
   "metadata": {},
   "source": [
    "# Zadanie 19"
   ]
  },
  {
   "cell_type": "code",
   "execution_count": 40,
   "id": "86351753",
   "metadata": {},
   "outputs": [],
   "source": [
    "def sum_of_numbers(number):\n",
    "    \"\"\"Return sum of all odd numbers from 1 to number\n",
    "    \n",
    "    Args:\n",
    "        number: int - natural number\n",
    "    \n",
    "    Returns:\n",
    "         sum of all odd numbers from 1 to number \n",
    "    \n",
    "    \"\"\"\n",
    "    if number == 1:\n",
    "        return 1\n",
    "    elif number % 2 == 0:\n",
    "        return sum_of_numbers(number - 1)\n",
    "    else:\n",
    "        return number + sum_of_numbers(number - 2)\n"
   ]
  },
  {
   "cell_type": "code",
   "execution_count": 44,
   "id": "63e55ddb",
   "metadata": {},
   "outputs": [
    {
     "data": {
      "text/plain": [
       "2401"
      ]
     },
     "execution_count": 44,
     "metadata": {},
     "output_type": "execute_result"
    }
   ],
   "source": [
    "n = 98\n",
    "sum_of_numbers(n)"
   ]
  },
  {
   "cell_type": "code",
   "execution_count": 45,
   "id": "c5cec987",
   "metadata": {},
   "outputs": [
    {
     "data": {
      "text/plain": [
       "2401"
      ]
     },
     "execution_count": 45,
     "metadata": {},
     "output_type": "execute_result"
    }
   ],
   "source": [
    "sum([number for number in range(1, n+1) if number % 2 != 0])"
   ]
  },
  {
   "cell_type": "markdown",
   "id": "6ac573c6",
   "metadata": {},
   "source": [
    "# Zadanie 29"
   ]
  },
  {
   "cell_type": "code",
   "execution_count": 69,
   "id": "76572db4",
   "metadata": {},
   "outputs": [],
   "source": [
    "def eratosthenes_sieve(n):\n",
    "    \"\"\"Applies Eratosthenes sieve for numbers in [2, n]\"\"\"\n",
    "    \n",
    "    primes = set(range(2, n))\n",
    "    \n",
    "    divisor = 2\n",
    "    to_remove = {number for number in primes - {divisor}\n",
    "                     if number % divisor == 0}\n",
    "    while len(to_remove):\n",
    "        primes = primes - to_remove\n",
    "        divisor += 1  # Powinniśmy wziąć kolejną liczbę z listy primes\n",
    "        to_remove = {number for number in primes - {divisor}\n",
    "                     if number % divisor == 0}\n",
    "        \n",
    "        print(divisor)\n",
    "        print(to_remove)\n",
    "        print()\n",
    "   \n",
    "    return primes"
   ]
  },
  {
   "cell_type": "code",
   "execution_count": 70,
   "id": "f6c3dfc0",
   "metadata": {},
   "outputs": [
    {
     "name": "stdout",
     "output_type": "stream",
     "text": [
      "3\n",
      "{33, 99, 69, 39, 9, 75, 45, 15, 81, 51, 21, 87, 57, 27, 93, 63}\n",
      "\n",
      "4\n",
      "set()\n",
      "\n"
     ]
    },
    {
     "data": {
      "text/plain": [
       "{2,\n",
       " 3,\n",
       " 5,\n",
       " 7,\n",
       " 11,\n",
       " 13,\n",
       " 17,\n",
       " 19,\n",
       " 23,\n",
       " 25,\n",
       " 29,\n",
       " 31,\n",
       " 35,\n",
       " 37,\n",
       " 41,\n",
       " 43,\n",
       " 47,\n",
       " 49,\n",
       " 53,\n",
       " 55,\n",
       " 59,\n",
       " 61,\n",
       " 65,\n",
       " 67,\n",
       " 71,\n",
       " 73,\n",
       " 77,\n",
       " 79,\n",
       " 83,\n",
       " 85,\n",
       " 89,\n",
       " 91,\n",
       " 95,\n",
       " 97}"
      ]
     },
     "execution_count": 70,
     "metadata": {},
     "output_type": "execute_result"
    }
   ],
   "source": [
    "eratosthenes_sieve(100)"
   ]
  },
  {
   "cell_type": "code",
   "execution_count": 55,
   "id": "ab7aa2b0",
   "metadata": {},
   "outputs": [
    {
     "data": {
      "text/plain": [
       "{1, 2, 3, 4, 5}"
      ]
     },
     "execution_count": 55,
     "metadata": {},
     "output_type": "execute_result"
    }
   ],
   "source": [
    "{1, 2, 3} | {4, 5}"
   ]
  },
  {
   "cell_type": "code",
   "execution_count": 58,
   "id": "c1b34938",
   "metadata": {},
   "outputs": [
    {
     "data": {
      "text/plain": [
       "{5}"
      ]
     },
     "execution_count": 58,
     "metadata": {},
     "output_type": "execute_result"
    }
   ],
   "source": [
    "{1, 2, 3, 5} & {4, 5}"
   ]
  },
  {
   "cell_type": "code",
   "execution_count": 59,
   "id": "682e971e",
   "metadata": {},
   "outputs": [
    {
     "data": {
      "text/plain": [
       "{1, 2, 3}"
      ]
     },
     "execution_count": 59,
     "metadata": {},
     "output_type": "execute_result"
    }
   ],
   "source": [
    "{1, 2, 3, 5}.difference({4, 5})"
   ]
  },
  {
   "cell_type": "code",
   "execution_count": 60,
   "id": "8a671ecd",
   "metadata": {},
   "outputs": [
    {
     "data": {
      "text/plain": [
       "{1, 2, 3}"
      ]
     },
     "execution_count": 60,
     "metadata": {},
     "output_type": "execute_result"
    }
   ],
   "source": [
    "{1, 2, 3, 5} - {4, 5}"
   ]
  },
  {
   "cell_type": "code",
   "execution_count": null,
   "id": "cf0bfb2a",
   "metadata": {},
   "outputs": [],
   "source": []
  }
 ],
 "metadata": {
  "kernelspec": {
   "display_name": "Python 3",
   "language": "python",
   "name": "python3"
  },
  "language_info": {
   "codemirror_mode": {
    "name": "ipython",
    "version": 3
   },
   "file_extension": ".py",
   "mimetype": "text/x-python",
   "name": "python",
   "nbconvert_exporter": "python",
   "pygments_lexer": "ipython3",
   "version": "3.6.9"
  }
 },
 "nbformat": 4,
 "nbformat_minor": 5
}
