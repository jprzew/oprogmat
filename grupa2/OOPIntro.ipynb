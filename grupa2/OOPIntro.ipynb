{
 "cells": [
  {
   "cell_type": "markdown",
   "id": "29c48b26",
   "metadata": {},
   "source": [
    "# Wstęp do programowania zorientowanego obiektowo"
   ]
  },
  {
   "cell_type": "markdown",
   "id": "c41dc5ee",
   "metadata": {},
   "source": [
    "Napiszemy program symulujący rozwój populacji. "
   ]
  },
  {
   "cell_type": "code",
   "execution_count": 1,
   "id": "873a85c3",
   "metadata": {},
   "outputs": [],
   "source": [
    "import random\n",
    "import matplotlib.pyplot as plt"
   ]
  },
  {
   "cell_type": "code",
   "execution_count": 30,
   "id": "a24c852e",
   "metadata": {},
   "outputs": [],
   "source": [
    "class Creature:\n",
    "    alive = True\n",
    "    \n",
    "    def __init__(self, p_death=0.1, p_reproduce=0.1):\n",
    "            self.p_death = p_death\n",
    "            self.p_reproduce = p_reproduce\n",
    "    \n",
    "    def natural_selection(self):\n",
    "        if random.random() < self.p_death:\n",
    "            self.alive = False\n",
    "            \n",
    "    def reproduce(self):\n",
    "        if (random.random() < self.p_reproduce) and self.alive:\n",
    "            return Creature(self.p_death + random.normalvariate(0, 0.01),\n",
    "                            self.p_reproduce)\n",
    "        "
   ]
  },
  {
   "cell_type": "code",
   "execution_count": 31,
   "id": "b0379a8d",
   "metadata": {},
   "outputs": [],
   "source": [
    "def make_population(n=1000, p_death=0.1, p_reproduce=0.1):\n",
    "    return {Creature(p_death, p_reproduce) for _ in range(n)}\n",
    "\n",
    "def count_alive(population):\n",
    "    return len({creature for creature in population if creature.alive})\n",
    "\n",
    "def natural_selection(population):\n",
    "    {creature.natural_selection() for creature in population}\n",
    "    \n",
    "def reproduce(population):\n",
    "    return {creature.reproduce() for creature in population} - {None}"
   ]
  },
  {
   "cell_type": "code",
   "execution_count": 33,
   "id": "0bea8861",
   "metadata": {},
   "outputs": [
    {
     "data": {
      "text/plain": [
       "(array([  0.,   0.,   0.,   0.,   0., 100.,   0.,   0.,   0.,   0.]),\n",
       " array([-0.4, -0.3, -0.2, -0.1,  0. ,  0.1,  0.2,  0.3,  0.4,  0.5,  0.6]),\n",
       " <BarContainer object of 10 artists>)"
      ]
     },
     "execution_count": 33,
     "metadata": {},
     "output_type": "execute_result"
    },
    {
     "data": {
      "image/png": "[encoded data removed]",
      "text/plain": [
       "<Figure size 432x288 with 1 Axes>"
      ]
     },
     "metadata": {
      "needs_background": "light"
     },
     "output_type": "display_data"
    }
   ],
   "source": [
    "population = make_population(100)\n",
    "plt.hist([creature.p_death for creature in population])"
   ]
  },
  {
   "cell_type": "code",
   "execution_count": 34,
   "id": "044d5b85",
   "metadata": {},
   "outputs": [],
   "source": [
    "alive = [count_alive(population)]\n",
    "for _ in range(100):\n",
    "    newborns = reproduce(population)\n",
    "    natural_selection(population)\n",
    "    population = population | newborns\n",
    "    alive.append(count_alive(population))\n",
    "    "
   ]
  },
  {
   "cell_type": "code",
   "execution_count": 35,
   "id": "d90dd487",
   "metadata": {
    "scrolled": false
   },
   "outputs": [
    {
     "data": {
      "text/plain": [
       "[<matplotlib.lines.Line2D at 0x7f8b2d8d22b0>]"
      ]
     },
     "execution_count": 35,
     "metadata": {},
     "output_type": "execute_result"
    },
    {
     "data": {
      "image/png": "[encoded data removed]",
      "text/plain": [
       "<Figure size 432x288 with 1 Axes>"
      ]
     },
     "metadata": {
      "needs_background": "light"
     },
     "output_type": "display_data"
    }
   ],
   "source": [
    "plt.plot(alive)"
   ]
  },
  {
   "cell_type": "code",
   "execution_count": 37,
   "id": "1aebaa18",
   "metadata": {},
   "outputs": [
    {
     "data": {
      "text/plain": [
       "(array([ 4., 10., 22., 42., 60., 43., 21.,  8.,  7.,  6.]),\n",
       " array([0.00111985, 0.01466897, 0.02821808, 0.04176719, 0.0553163 ,\n",
       "        0.06886541, 0.08241452, 0.09596363, 0.10951274, 0.12306186,\n",
       "        0.13661097]),\n",
       " <BarContainer object of 10 artists>)"
      ]
     },
     "execution_count": 37,
     "metadata": {},
     "output_type": "execute_result"
    },
    {
     "data": {
      "image/png": "[encoded data removed]",
      "text/plain": [
       "<Figure size 432x288 with 1 Axes>"
      ]
     },
     "metadata": {
      "needs_background": "light"
     },
     "output_type": "display_data"
    }
   ],
   "source": [
    "plt.hist([creature.p_death for creature in population if creature.alive])"
   ]
  },
  {
   "cell_type": "code",
   "execution_count": 29,
   "id": "e1f8bc00",
   "metadata": {},
   "outputs": [
    {
     "data": {
      "text/plain": [
       "(array([ 1.,  2.,  9., 13., 16., 24., 12., 11.,  7.,  5.]),\n",
       " array([160.91348811, 164.15986225, 167.40623638, 170.65261052,\n",
       "        173.89898465, 177.14535879, 180.39173292, 183.63810706,\n",
       "        186.88448119, 190.13085533, 193.37722946]),\n",
       " <BarContainer object of 10 artists>)"
      ]
     },
     "execution_count": 29,
     "metadata": {},
     "output_type": "execute_result"
    },
    {
     "data": {
      "image/png": "[encoded data removed]",
      "text/plain": [
       "<Figure size 432x288 with 1 Axes>"
      ]
     },
     "metadata": {
      "needs_background": "light"
     },
     "output_type": "display_data"
    }
   ],
   "source": [
    "plt.hist([random.normalvariate(178, 6.5) for _ in range(100)])"
   ]
  },
  {
   "cell_type": "code",
   "execution_count": null,
   "id": "8184a64c",
   "metadata": {},
   "outputs": [],
   "source": []
  }
 ],
 "metadata": {
  "kernelspec": {
   "display_name": "Python 3",
   "language": "python",
   "name": "python3"
  },
  "language_info": {
   "codemirror_mode": {
    "name": "ipython",
    "version": 3
   },
   "file_extension": ".py",
   "mimetype": "text/x-python",
   "name": "python",
   "nbconvert_exporter": "python",
   "pygments_lexer": "ipython3",
   "version": "3.6.9"
  }
 },
 "nbformat": 4,
 "nbformat_minor": 5
}
