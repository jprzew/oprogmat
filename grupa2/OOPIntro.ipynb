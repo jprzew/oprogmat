{
 "cells": [
  {
   "cell_type": "markdown",
   "id": "29c48b26",
   "metadata": {},
   "source": [
    "# Wstęp do programowania zorientowanego obiektowo"
   ]
  },
  {
   "cell_type": "markdown",
   "id": "c41dc5ee",
   "metadata": {},
   "source": [
    "Napiszemy program symulujący rozwój populacji. "
   ]
  },
  {
   "cell_type": "code",
   "execution_count": 103,
   "id": "873a85c3",
   "metadata": {},
   "outputs": [],
   "source": [
    "import random\n",
    "import matplotlib.pyplot as plt"
   ]
  },
  {
   "cell_type": "code",
   "execution_count": 104,
   "id": "a24c852e",
   "metadata": {},
   "outputs": [],
   "source": [
    "class Creature:\n",
    "    alive = True\n",
    "    p_death = 0.1\n",
    "    \n",
    "    def natural_selection(self):\n",
    "        if random.random() < self.p_death:\n",
    "            self.alive = False\n",
    "        "
   ]
  },
  {
   "cell_type": "code",
   "execution_count": 105,
   "id": "b0379a8d",
   "metadata": {},
   "outputs": [],
   "source": [
    "def make_population(n=1000):\n",
    "    return {Creature() for _ in range(n)}\n",
    "\n",
    "def count_alive(population):\n",
    "    return len({creature for creature in population if creature.alive})\n",
    "\n",
    "def natural_selection(population):\n",
    "    {creature.natural_selection() for creature in population}"
   ]
  },
  {
   "cell_type": "code",
   "execution_count": 106,
   "id": "0bea8861",
   "metadata": {},
   "outputs": [],
   "source": [
    "population = make_population()"
   ]
  },
  {
   "cell_type": "code",
   "execution_count": 107,
   "id": "044d5b85",
   "metadata": {},
   "outputs": [],
   "source": [
    "alive = [count_alive(population)]\n",
    "for _ in range(30):\n",
    "    natural_selection(population)\n",
    "    alive.append(count_alive(population))\n",
    "    "
   ]
  },
  {
   "cell_type": "code",
   "execution_count": 108,
   "id": "d90dd487",
   "metadata": {
    "scrolled": false
   },
   "outputs": [
    {
     "data": {
      "text/plain": [
       "[<matplotlib.lines.Line2D at 0x7facbf0d5f28>]"
      ]
     },
     "execution_count": 108,
     "metadata": {},
     "output_type": "execute_result"
    },
    {
     "data": {
      "image/png": "[encoded data removed]",
      "text/plain": [
       "<Figure size 432x288 with 1 Axes>"
      ]
     },
     "metadata": {
      "needs_background": "light"
     },
     "output_type": "display_data"
    }
   ],
   "source": [
    "plt.plot(alive)"
   ]
  },
  {
   "cell_type": "code",
   "execution_count": null,
   "id": "e1f8bc00",
   "metadata": {},
   "outputs": [],
   "source": []
  },
  {
   "cell_type": "code",
   "execution_count": null,
   "id": "8184a64c",
   "metadata": {},
   "outputs": [],
   "source": []
  }
 ],
 "metadata": {
  "kernelspec": {
   "display_name": "Python 3",
   "language": "python",
   "name": "python3"
  },
  "language_info": {
   "codemirror_mode": {
    "name": "ipython",
    "version": 3
   },
   "file_extension": ".py",
   "mimetype": "text/x-python",
   "name": "python",
   "nbconvert_exporter": "python",
   "pygments_lexer": "ipython3",
   "version": "3.6.9"
  }
 },
 "nbformat": 4,
 "nbformat_minor": 5
}
