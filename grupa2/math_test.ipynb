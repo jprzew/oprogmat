{
 "cells": [
  {
   "cell_type": "code",
   "execution_count": 1,
   "id": "14097406",
   "metadata": {},
   "outputs": [],
   "source": [
    "from mymath.linalg import Vect"
   ]
  },
  {
   "cell_type": "code",
   "execution_count": 2,
   "id": "c88a1514",
   "metadata": {},
   "outputs": [],
   "source": [
    "v1 = Vect([1, 0, 0, 5])"
   ]
  },
  {
   "cell_type": "code",
   "execution_count": 3,
   "id": "990935d6",
   "metadata": {},
   "outputs": [
    {
     "data": {
      "text/plain": [
       "5.0990195135927845"
      ]
     },
     "execution_count": 3,
     "metadata": {},
     "output_type": "execute_result"
    }
   ],
   "source": [
    "v1.norm()"
   ]
  },
  {
   "cell_type": "code",
   "execution_count": 4,
   "id": "008af9de",
   "metadata": {},
   "outputs": [],
   "source": [
    "v2 = Vect([1, -1, -1])"
   ]
  },
  {
   "cell_type": "code",
   "execution_count": 5,
   "id": "8e4309f4",
   "metadata": {},
   "outputs": [
    {
     "data": {
      "text/plain": [
       "1.7320508075688772"
      ]
     },
     "execution_count": 5,
     "metadata": {},
     "output_type": "execute_result"
    }
   ],
   "source": [
    "v2.norm()"
   ]
  },
  {
   "cell_type": "code",
   "execution_count": 6,
   "id": "69f49117",
   "metadata": {},
   "outputs": [
    {
     "data": {
      "text/plain": [
       "Vector: [-1, 0, 0, -5]"
      ]
     },
     "execution_count": 6,
     "metadata": {},
     "output_type": "execute_result"
    }
   ],
   "source": [
    "v1 * (-1)"
   ]
  },
  {
   "cell_type": "markdown",
   "id": "708c7567",
   "metadata": {},
   "source": [
    "## Ostatni problem do rozwiązania"
   ]
  },
  {
   "cell_type": "code",
   "execution_count": 7,
   "id": "6c7a744d",
   "metadata": {},
   "outputs": [],
   "source": [
    "v1.items = [1, 2, 3, 1, 2, 3, 4, 5]"
   ]
  },
  {
   "cell_type": "code",
   "execution_count": 8,
   "id": "5e10a41d",
   "metadata": {},
   "outputs": [
    {
     "data": {
      "text/plain": [
       "8"
      ]
     },
     "execution_count": 8,
     "metadata": {},
     "output_type": "execute_result"
    }
   ],
   "source": [
    "v1.n"
   ]
  },
  {
   "cell_type": "code",
   "execution_count": 9,
   "id": "92357103",
   "metadata": {},
   "outputs": [],
   "source": [
    "v1.n = 2"
   ]
  },
  {
   "cell_type": "code",
   "execution_count": 10,
   "id": "bad47af4",
   "metadata": {},
   "outputs": [
    {
     "data": {
      "text/plain": [
       "[1, 2]"
      ]
     },
     "execution_count": 10,
     "metadata": {},
     "output_type": "execute_result"
    }
   ],
   "source": [
    "v1.items"
   ]
  },
  {
   "cell_type": "code",
   "execution_count": 11,
   "id": "5268a162",
   "metadata": {},
   "outputs": [],
   "source": [
    "v1.n = 10"
   ]
  },
  {
   "cell_type": "code",
   "execution_count": 12,
   "id": "306ac071",
   "metadata": {},
   "outputs": [
    {
     "data": {
      "text/plain": [
       "Vector: [1, 2, 0, 0, 0, 0, 0, 0, 0, 0]"
      ]
     },
     "execution_count": 12,
     "metadata": {},
     "output_type": "execute_result"
    }
   ],
   "source": [
    "v1"
   ]
  },
  {
   "cell_type": "code",
   "execution_count": 13,
   "id": "2e1730d7",
   "metadata": {},
   "outputs": [],
   "source": [
    "v1.n = 3"
   ]
  },
  {
   "cell_type": "code",
   "execution_count": 14,
   "id": "c27ae6b5",
   "metadata": {},
   "outputs": [
    {
     "data": {
      "text/plain": [
       "Vector: [1, 2, 0]"
      ]
     },
     "execution_count": 14,
     "metadata": {},
     "output_type": "execute_result"
    }
   ],
   "source": [
    "v1"
   ]
  },
  {
   "cell_type": "code",
   "execution_count": 15,
   "id": "21c8b157",
   "metadata": {},
   "outputs": [
    {
     "data": {
      "text/plain": [
       "3"
      ]
     },
     "execution_count": 15,
     "metadata": {},
     "output_type": "execute_result"
    }
   ],
   "source": [
    "v1.n"
   ]
  },
  {
   "cell_type": "code",
   "execution_count": null,
   "id": "2ef35f46",
   "metadata": {},
   "outputs": [],
   "source": []
  }
 ],
 "metadata": {
  "kernelspec": {
   "display_name": "Python 3",
   "language": "python",
   "name": "python3"
  },
  "language_info": {
   "codemirror_mode": {
    "name": "ipython",
    "version": 3
   },
   "file_extension": ".py",
   "mimetype": "text/x-python",
   "name": "python",
   "nbconvert_exporter": "python",
   "pygments_lexer": "ipython3",
   "version": "3.6.9"
  }
 },
 "nbformat": 4,
 "nbformat_minor": 5
}
