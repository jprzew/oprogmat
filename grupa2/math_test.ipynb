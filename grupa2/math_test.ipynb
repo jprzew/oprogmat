{
 "cells": [
  {
   "cell_type": "code",
   "execution_count": 1,
   "id": "14097406",
   "metadata": {},
   "outputs": [],
   "source": [
    "from mymath.linalg import Vect"
   ]
  },
  {
   "cell_type": "code",
   "execution_count": 2,
   "id": "c88a1514",
   "metadata": {},
   "outputs": [],
   "source": [
    "v1 = Vect([1, 0, 0, 5])"
   ]
  },
  {
   "cell_type": "code",
   "execution_count": 3,
   "id": "990935d6",
   "metadata": {},
   "outputs": [
    {
     "data": {
      "text/plain": [
       "5.0990195135927845"
      ]
     },
     "execution_count": 3,
     "metadata": {},
     "output_type": "execute_result"
    }
   ],
   "source": [
    "v1.norm()"
   ]
  },
  {
   "cell_type": "code",
   "execution_count": 4,
   "id": "008af9de",
   "metadata": {},
   "outputs": [],
   "source": [
    "v2 = Vect([1, -1, -1])"
   ]
  },
  {
   "cell_type": "code",
   "execution_count": 5,
   "id": "8e4309f4",
   "metadata": {},
   "outputs": [
    {
     "data": {
      "text/plain": [
       "1.7320508075688772"
      ]
     },
     "execution_count": 5,
     "metadata": {},
     "output_type": "execute_result"
    }
   ],
   "source": [
    "v2.norm()"
   ]
  },
  {
   "cell_type": "code",
   "execution_count": 6,
   "id": "fdd04505",
   "metadata": {},
   "outputs": [
    {
     "ename": "ValueError",
     "evalue": "Vectors should have the same dimension.",
     "output_type": "error",
     "traceback": [
      "\u001b[0;31m---------------------------------------------------------------------------\u001b[0m",
      "\u001b[0;31mValueError\u001b[0m                                Traceback (most recent call last)",
      "\u001b[0;32m<ipython-input-6-594fed69b602>\u001b[0m in \u001b[0;36m<module>\u001b[0;34m()\u001b[0m\n\u001b[0;32m----> 1\u001b[0;31m \u001b[0mv\u001b[0m \u001b[0;34m=\u001b[0m \u001b[0mv1\u001b[0m \u001b[0;34m+\u001b[0m \u001b[0mv2\u001b[0m\u001b[0;34m\u001b[0m\u001b[0;34m\u001b[0m\u001b[0m\n\u001b[0m",
      "\u001b[0;32m/home/jprzew/Studenci/OprogMat/oprogmat/grupa2/mymath/linalg.py\u001b[0m in \u001b[0;36m__add__\u001b[0;34m(self, other)\u001b[0m\n\u001b[1;32m     15\u001b[0m \u001b[0;34m\u001b[0m\u001b[0m\n\u001b[1;32m     16\u001b[0m         \u001b[0;32mif\u001b[0m \u001b[0mself\u001b[0m\u001b[0;34m.\u001b[0m\u001b[0mn\u001b[0m \u001b[0;34m!=\u001b[0m \u001b[0mother\u001b[0m\u001b[0;34m.\u001b[0m\u001b[0mn\u001b[0m\u001b[0;34m:\u001b[0m\u001b[0;34m\u001b[0m\u001b[0;34m\u001b[0m\u001b[0m\n\u001b[0;32m---> 17\u001b[0;31m             \u001b[0;32mraise\u001b[0m \u001b[0mValueError\u001b[0m\u001b[0;34m(\u001b[0m\u001b[0;34m'Vectors should have the same dimension.'\u001b[0m\u001b[0;34m)\u001b[0m\u001b[0;34m\u001b[0m\u001b[0;34m\u001b[0m\u001b[0m\n\u001b[0m\u001b[1;32m     18\u001b[0m \u001b[0;34m\u001b[0m\u001b[0m\n\u001b[1;32m     19\u001b[0m         \u001b[0mitems\u001b[0m \u001b[0;34m=\u001b[0m \u001b[0;34m[\u001b[0m\u001b[0melement1\u001b[0m \u001b[0;34m+\u001b[0m \u001b[0melement2\u001b[0m \u001b[0;32mfor\u001b[0m \u001b[0melement1\u001b[0m\u001b[0;34m,\u001b[0m \u001b[0melement2\u001b[0m \u001b[0;32min\u001b[0m \u001b[0mzip\u001b[0m\u001b[0;34m(\u001b[0m\u001b[0mself\u001b[0m\u001b[0;34m.\u001b[0m\u001b[0mitems\u001b[0m\u001b[0;34m,\u001b[0m \u001b[0mother\u001b[0m\u001b[0;34m.\u001b[0m\u001b[0mitems\u001b[0m\u001b[0;34m)\u001b[0m\u001b[0;34m]\u001b[0m\u001b[0;34m\u001b[0m\u001b[0;34m\u001b[0m\u001b[0m\n",
      "\u001b[0;31mValueError\u001b[0m: Vectors should have the same dimension."
     ]
    }
   ],
   "source": [
    "v = v1 + v2 "
   ]
  },
  {
   "cell_type": "code",
   "execution_count": 11,
   "id": "69f49117",
   "metadata": {},
   "outputs": [
    {
     "data": {
      "text/plain": [
       "Vector: [-1, 0, 0, -5]"
      ]
     },
     "execution_count": 11,
     "metadata": {},
     "output_type": "execute_result"
    }
   ],
   "source": [
    "v1 * (-1)"
   ]
  },
  {
   "cell_type": "code",
   "execution_count": 12,
   "id": "d400f3d5",
   "metadata": {},
   "outputs": [
    {
     "data": {
      "text/plain": [
       "Vector: [0, 0, 0, 0]"
      ]
     },
     "execution_count": 12,
     "metadata": {},
     "output_type": "execute_result"
    }
   ],
   "source": [
    "v1 * False"
   ]
  },
  {
   "cell_type": "code",
   "execution_count": null,
   "id": "78681b39",
   "metadata": {},
   "outputs": [],
   "source": []
  }
 ],
 "metadata": {
  "kernelspec": {
   "display_name": "Python 3",
   "language": "python",
   "name": "python3"
  },
  "language_info": {
   "codemirror_mode": {
    "name": "ipython",
    "version": 3
   },
   "file_extension": ".py",
   "mimetype": "text/x-python",
   "name": "python",
   "nbconvert_exporter": "python",
   "pygments_lexer": "ipython3",
   "version": "3.6.9"
  }
 },
 "nbformat": 4,
 "nbformat_minor": 5
}
