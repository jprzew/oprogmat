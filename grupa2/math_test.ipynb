{
 "cells": [
  {
   "cell_type": "code",
   "execution_count": 1,
   "id": "14097406",
   "metadata": {},
   "outputs": [],
   "source": [
    "from mymath.linalg import Vect"
   ]
  },
  {
   "cell_type": "code",
   "execution_count": 2,
   "id": "c88a1514",
   "metadata": {},
   "outputs": [],
   "source": [
    "v1 = Vect([1, -1, 7])"
   ]
  },
  {
   "cell_type": "code",
   "execution_count": 4,
   "id": "990935d6",
   "metadata": {},
   "outputs": [
    {
     "data": {
      "text/plain": [
       "3"
      ]
     },
     "execution_count": 4,
     "metadata": {},
     "output_type": "execute_result"
    }
   ],
   "source": [
    "v1.n"
   ]
  },
  {
   "cell_type": "code",
   "execution_count": 5,
   "id": "008af9de",
   "metadata": {},
   "outputs": [],
   "source": [
    "v2 = Vect([1, 1, 1])"
   ]
  },
  {
   "cell_type": "code",
   "execution_count": 6,
   "id": "8e4309f4",
   "metadata": {},
   "outputs": [
    {
     "data": {
      "text/plain": [
       "[1, 1, 1]"
      ]
     },
     "execution_count": 6,
     "metadata": {},
     "output_type": "execute_result"
    }
   ],
   "source": [
    "v2.items"
   ]
  },
  {
   "cell_type": "code",
   "execution_count": 8,
   "id": "84946918",
   "metadata": {},
   "outputs": [
    {
     "data": {
      "text/plain": [
       "<mymath.linalg.Vect at 0x7fb78c648358>"
      ]
     },
     "execution_count": 8,
     "metadata": {},
     "output_type": "execute_result"
    }
   ],
   "source": [
    "v1"
   ]
  },
  {
   "cell_type": "code",
   "execution_count": null,
   "id": "fdd04505",
   "metadata": {},
   "outputs": [],
   "source": []
  }
 ],
 "metadata": {
  "kernelspec": {
   "display_name": "Python 3",
   "language": "python",
   "name": "python3"
  },
  "language_info": {
   "codemirror_mode": {
    "name": "ipython",
    "version": 3
   },
   "file_extension": ".py",
   "mimetype": "text/x-python",
   "name": "python",
   "nbconvert_exporter": "python",
   "pygments_lexer": "ipython3",
   "version": "3.6.9"
  }
 },
 "nbformat": 4,
 "nbformat_minor": 5
}
