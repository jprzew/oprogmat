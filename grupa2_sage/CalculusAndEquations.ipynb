{
 "cells": [
  {
   "cell_type": "markdown",
   "metadata": {},
   "source": [
    "# Zadanie 1"
   ]
  },
  {
   "cell_type": "code",
   "execution_count": 3,
   "metadata": {},
   "outputs": [
    {
     "data": {
      "text/plain": [
       "[x == -2, x == -1]"
      ]
     },
     "execution_count": 3,
     "metadata": {},
     "output_type": "execute_result"
    }
   ],
   "source": [
    "solve(x^2 + 3*x + 2 == 0, x)"
   ]
  },
  {
   "cell_type": "code",
   "execution_count": 7,
   "metadata": {},
   "outputs": [
    {
     "data": {
      "text/plain": [
       "[y == -2, y == -1]"
      ]
     },
     "execution_count": 7,
     "metadata": {},
     "output_type": "execute_result"
    }
   ],
   "source": [
    "y = var('y')\n",
    "solve(y^2 + 3*y + 2 == 0, y)"
   ]
  },
  {
   "cell_type": "code",
   "execution_count": 9,
   "metadata": {},
   "outputs": [
    {
     "data": {
      "text/plain": [
       "[z == -2, z == -1]"
      ]
     },
     "execution_count": 9,
     "metadata": {},
     "output_type": "execute_result"
    }
   ],
   "source": [
    "var('z')\n",
    "solve(z^2 + 3*z + 2 == 0, z)"
   ]
  },
  {
   "cell_type": "code",
   "execution_count": 15,
   "metadata": {},
   "outputs": [
    {
     "data": {
      "text/html": [
       "<html><script type=\"math/tex; mode=display\">\\newcommand{\\Bold}[1]{\\mathbf{#1}}\\left[x = -\\frac{1}{2} \\, \\sqrt{21} - \\frac{9}{2}, x = \\frac{1}{2} \\, \\sqrt{21} - \\frac{9}{2}\\right]</script></html>"
      ],
      "text/latex": [
       "\\begin{math}\n",
       "\\newcommand{\\Bold}[1]{\\mathbf{#1}}\\left[x = -\\frac{1}{2} \\, \\sqrt{21} - \\frac{9}{2}, x = \\frac{1}{2} \\, \\sqrt{21} - \\frac{9}{2}\\right]\n",
       "\\end{math}"
      ],
      "text/plain": [
       "[x == -1/2*sqrt(21) - 9/2, x == 1/2*sqrt(21) - 9/2]"
      ]
     },
     "metadata": {},
     "output_type": "display_data"
    }
   ],
   "source": [
    "show(solve([x^2 + 9*x + 15], x))"
   ]
  },
  {
   "cell_type": "markdown",
   "metadata": {},
   "source": [
    "# Zadanie 1.2"
   ]
  },
  {
   "cell_type": "code",
   "execution_count": 19,
   "metadata": {},
   "outputs": [],
   "source": [
    "a, b, c = var('a, b, c')\n",
    "solutions = solve(a*x^2 + b*x + c == 0, x)"
   ]
  },
  {
   "cell_type": "code",
   "execution_count": 30,
   "metadata": {},
   "outputs": [
    {
     "data": {
      "text/plain": [
       "[x == -1, x == 1]"
      ]
     },
     "execution_count": 30,
     "metadata": {},
     "output_type": "execute_result"
    }
   ],
   "source": [
    "[solution.substitute(a = 1, b = 0, c = -1)\n",
    " for solution in solutions]"
   ]
  },
  {
   "cell_type": "markdown",
   "metadata": {},
   "source": [
    "# Zadanie 1.3"
   ]
  },
  {
   "cell_type": "code",
   "execution_count": 36,
   "metadata": {},
   "outputs": [],
   "source": [
    "theta = var('theta', latex_name=r'\\theta')"
   ]
  },
  {
   "cell_type": "code",
   "execution_count": 40,
   "metadata": {},
   "outputs": [
    {
     "data": {
      "text/html": [
       "<html><script type=\"math/tex; mode=display\">\\newcommand{\\Bold}[1]{\\mathbf{#1}}\\left[{\\theta} = \\frac{1}{6} \\, \\pi\\right]</script></html>"
      ],
      "text/latex": [
       "\\begin{math}\n",
       "\\newcommand{\\Bold}[1]{\\mathbf{#1}}\\left[{\\theta} = \\frac{1}{6} \\, \\pi\\right]\n",
       "\\end{math}"
      ],
      "text/plain": [
       "[theta == 1/6*pi]"
      ]
     },
     "metadata": {},
     "output_type": "display_data"
    }
   ],
   "source": [
    "show(solve([sin(theta) == 1/2], theta))"
   ]
  },
  {
   "cell_type": "markdown",
   "metadata": {},
   "source": [
    "# Zadanie 1.4"
   ]
  },
  {
   "cell_type": "code",
   "execution_count": 41,
   "metadata": {},
   "outputs": [
    {
     "data": {
      "text/plain": [
       "[[x == 5, b == 1]]"
      ]
     },
     "execution_count": 41,
     "metadata": {},
     "output_type": "execute_result"
    }
   ],
   "source": [
    "var('b','x')\n",
    "solve([x + b == 6, x - b == 4], x, b)"
   ]
  },
  {
   "cell_type": "markdown",
   "metadata": {},
   "source": [
    "# Zadanie 1.5"
   ]
  },
  {
   "cell_type": "code",
   "execution_count": 42,
   "metadata": {},
   "outputs": [
    {
     "data": {
      "text/plain": [
       "[[a == 4, b == -3, c == 5]]"
      ]
     },
     "execution_count": 42,
     "metadata": {},
     "output_type": "execute_result"
    }
   ],
   "source": [
    "var('a', 'b', 'c')\n",
    "solve([9*a + 3*b + c == 32,\n",
    "       4*a + 2*b + c == 15,\n",
    "       a + b + c == 6],\n",
    "      a, b, c)"
   ]
  },
  {
   "cell_type": "markdown",
   "metadata": {},
   "source": [
    "# Zadanie 1.6"
   ]
  },
  {
   "cell_type": "code",
   "execution_count": 44,
   "metadata": {},
   "outputs": [
    {
     "data": {
      "text/html": [
       "<html><script type=\"math/tex; mode=display\">\\newcommand{\\Bold}[1]{\\mathbf{#1}}\\left[\\left[x = -\\frac{4}{7} \\, \\sqrt{7}, y = -\\frac{3}{7} \\, \\sqrt{7}\\right], \\left[x = -\\frac{4}{7} \\, \\sqrt{7}, y = \\frac{3}{7} \\, \\sqrt{7}\\right], \\left[x = \\frac{4}{7} \\, \\sqrt{7}, y = -\\frac{3}{7} \\, \\sqrt{7}\\right], \\left[x = \\frac{4}{7} \\, \\sqrt{7}, y = \\frac{3}{7} \\, \\sqrt{7}\\right]\\right]</script></html>"
      ],
      "text/latex": [
       "\\begin{math}\n",
       "\\newcommand{\\Bold}[1]{\\mathbf{#1}}\\left[\\left[x = -\\frac{4}{7} \\, \\sqrt{7}, y = -\\frac{3}{7} \\, \\sqrt{7}\\right], \\left[x = -\\frac{4}{7} \\, \\sqrt{7}, y = \\frac{3}{7} \\, \\sqrt{7}\\right], \\left[x = \\frac{4}{7} \\, \\sqrt{7}, y = -\\frac{3}{7} \\, \\sqrt{7}\\right], \\left[x = \\frac{4}{7} \\, \\sqrt{7}, y = \\frac{3}{7} \\, \\sqrt{7}\\right]\\right]\n",
       "\\end{math}"
      ],
      "text/plain": [
       "[[x == -4/7*sqrt(7), y == -3/7*sqrt(7)], [x == -4/7*sqrt(7), y == 3/7*sqrt(7)], [x == 4/7*sqrt(7), y == -3/7*sqrt(7)], [x == 4/7*sqrt(7), y == 3/7*sqrt(7)]]"
      ]
     },
     "metadata": {},
     "output_type": "display_data"
    }
   ],
   "source": [
    "x, y = var('x, y')\n",
    "show(solve([x^2/4 + y^2/3 == 1, x^2 - y^2 == 1], x, y))"
   ]
  },
  {
   "cell_type": "markdown",
   "metadata": {},
   "source": [
    "# Zadanie 1.7"
   ]
  },
  {
   "cell_type": "code",
   "execution_count": 45,
   "metadata": {},
   "outputs": [
    {
     "data": {
      "text/plain": [
       "[0 == x^5 + x^4 + x^3 - x^2 + x - 1]"
      ]
     },
     "execution_count": 45,
     "metadata": {},
     "output_type": "execute_result"
    }
   ],
   "source": [
    "s = solve([x^5 + x^4 + x^3 - x^2 + x - 1 == 0], x)\n",
    "s"
   ]
  },
  {
   "cell_type": "code",
   "execution_count": 47,
   "metadata": {},
   "outputs": [],
   "source": [
    "polynomial = x^5 + x^4 + x^3 - x^2 + x - 1"
   ]
  },
  {
   "cell_type": "code",
   "execution_count": 48,
   "metadata": {},
   "outputs": [
    {
     "data": {
      "text/plain": [
       "0.7104342557869125"
      ]
     },
     "execution_count": 48,
     "metadata": {},
     "output_type": "execute_result"
    }
   ],
   "source": [
    "polynomial.find_root(0,2)"
   ]
  },
  {
   "cell_type": "code",
   "execution_count": 54,
   "metadata": {},
   "outputs": [
    {
     "data": {
      "image/png": "[encoded data removed]",
      "text/plain": [
       "Graphics object consisting of 1 graphics primitive"
      ]
     },
     "execution_count": 54,
     "metadata": {},
     "output_type": "execute_result"
    }
   ],
   "source": [
    "plot(polynomial, (x, -50, 50))"
   ]
  },
  {
   "cell_type": "code",
   "execution_count": 59,
   "metadata": {},
   "outputs": [],
   "source": [
    "roots = solve(diff(x^5 + x^4 + x^3 - x^2 + x - 1, x) == 0, x)"
   ]
  },
  {
   "cell_type": "code",
   "execution_count": 66,
   "metadata": {
    "scrolled": true
   },
   "outputs": [
    {
     "data": {
      "text/plain": [
       "[-0.841409891460363, 0.841409891460363, -0.313435815089050, 0.313435815089050]"
      ]
     },
     "execution_count": 66,
     "metadata": {},
     "output_type": "execute_result"
    }
   ],
   "source": [
    "[root.right_hand_side().imag().n() for root in roots]"
   ]
  },
  {
   "cell_type": "markdown",
   "metadata": {},
   "source": [
    "# Zadanie 2.1"
   ]
  },
  {
   "cell_type": "code",
   "execution_count": 67,
   "metadata": {},
   "outputs": [],
   "source": [
    "f(x) = sin(x^2)"
   ]
  },
  {
   "cell_type": "code",
   "execution_count": 69,
   "metadata": {},
   "outputs": [
    {
     "data": {
      "text/html": [
       "<html><script type=\"math/tex; mode=display\">\\newcommand{\\Bold}[1]{\\mathbf{#1}}x \\ {\\mapsto}\\ 2 \\, x \\cos\\left(x^{2}\\right)</script></html>"
      ],
      "text/latex": [
       "\\begin{math}\n",
       "\\newcommand{\\Bold}[1]{\\mathbf{#1}}x \\ {\\mapsto}\\ 2 \\, x \\cos\\left(x^{2}\\right)\n",
       "\\end{math}"
      ],
      "text/plain": [
       "x |--> 2*x*cos(x^2)"
      ]
     },
     "metadata": {},
     "output_type": "display_data"
    }
   ],
   "source": [
    "show(diff(f, x))"
   ]
  },
  {
   "cell_type": "markdown",
   "metadata": {},
   "source": [
    "# Zadanie 2.2"
   ]
  },
  {
   "cell_type": "code",
   "execution_count": 80,
   "metadata": {},
   "outputs": [],
   "source": [
    "f(x) = e^(-x^2)"
   ]
  },
  {
   "cell_type": "code",
   "execution_count": 82,
   "metadata": {},
   "outputs": [
    {
     "data": {
      "image/png": "[encoded data removed]",
      "text/plain": [
       "Graphics object consisting of 1 graphics primitive"
      ]
     },
     "execution_count": 82,
     "metadata": {},
     "output_type": "execute_result"
    }
   ],
   "source": [
    "plot(f, (x, -3, 3))"
   ]
  },
  {
   "cell_type": "code",
   "execution_count": 86,
   "metadata": {},
   "outputs": [
    {
     "data": {
      "text/plain": [
       "[x |--> -2*x*e^(-x^2),\n",
       " x |--> 4*x^2*e^(-x^2) - 2*e^(-x^2),\n",
       " x |--> -8*x^3*e^(-x^2) + 12*x*e^(-x^2),\n",
       " x |--> 16*x^4*e^(-x^2) - 48*x^2*e^(-x^2) + 12*e^(-x^2),\n",
       " x |--> -32*x^5*e^(-x^2) + 160*x^3*e^(-x^2) - 120*x*e^(-x^2),\n",
       " x |--> 64*x^6*e^(-x^2) - 480*x^4*e^(-x^2) + 720*x^2*e^(-x^2) - 120*e^(-x^2),\n",
       " x |--> -128*x^7*e^(-x^2) + 1344*x^5*e^(-x^2) - 3360*x^3*e^(-x^2) + 1680*x*e^(-x^2),\n",
       " x |--> 256*x^8*e^(-x^2) - 3584*x^6*e^(-x^2) + 13440*x^4*e^(-x^2) - 13440*x^2*e^(-x^2) + 1680*e^(-x^2),\n",
       " x |--> -512*x^9*e^(-x^2) + 9216*x^7*e^(-x^2) - 48384*x^5*e^(-x^2) + 80640*x^3*e^(-x^2) - 30240*x*e^(-x^2),\n",
       " x |--> 1024*x^10*e^(-x^2) - 23040*x^8*e^(-x^2) + 161280*x^6*e^(-x^2) - 403200*x^4*e^(-x^2) + 302400*x^2*e^(-x^2) - 30240*e^(-x^2)]"
      ]
     },
     "execution_count": 86,
     "metadata": {},
     "output_type": "execute_result"
    }
   ],
   "source": [
    "[diff(f, x, r) for r in range(1, 11)]"
   ]
  },
  {
   "cell_type": "markdown",
   "metadata": {},
   "source": [
    "# Zadanie 2.3"
   ]
  },
  {
   "cell_type": "code",
   "execution_count": 90,
   "metadata": {},
   "outputs": [
    {
     "data": {
      "text/plain": [
       "(x^3 - x + 1)*e^x + 10*(3*x^2 - 1)*e^x + 270*x*e^x + 720*e^x == 0"
      ]
     },
     "execution_count": 90,
     "metadata": {},
     "output_type": "execute_result"
    }
   ],
   "source": [
    "equation = diff((x^3 - x + 1) * e^x, x, 10) == 0\n",
    "equation"
   ]
  },
  {
   "cell_type": "code",
   "execution_count": 92,
   "metadata": {},
   "outputs": [
    {
     "data": {
      "text/html": [
       "<html><script type=\"math/tex; mode=display\">\\newcommand{\\Bold}[1]{\\mathbf{#1}}\\left[x = -\\frac{1}{2} \\, {\\left(\\frac{1}{18} i \\, \\sqrt{107257} \\sqrt{3} - \\frac{21}{2}\\right)}^{\\frac{1}{3}} {\\left(i \\, \\sqrt{3} + 1\\right)} - \\frac{31 \\, {\\left(-i \\, \\sqrt{3} + 1\\right)}}{6 \\, {\\left(\\frac{1}{18} i \\, \\sqrt{107257} \\sqrt{3} - \\frac{21}{2}\\right)}^{\\frac{1}{3}}} - 10, x = -\\frac{1}{2} \\, {\\left(\\frac{1}{18} i \\, \\sqrt{107257} \\sqrt{3} - \\frac{21}{2}\\right)}^{\\frac{1}{3}} {\\left(-i \\, \\sqrt{3} + 1\\right)} - \\frac{31 \\, {\\left(i \\, \\sqrt{3} + 1\\right)}}{6 \\, {\\left(\\frac{1}{18} i \\, \\sqrt{107257} \\sqrt{3} - \\frac{21}{2}\\right)}^{\\frac{1}{3}}} - 10, x = {\\left(\\frac{1}{18} i \\, \\sqrt{107257} \\sqrt{3} - \\frac{21}{2}\\right)}^{\\frac{1}{3}} + \\frac{31}{3 \\, {\\left(\\frac{1}{18} i \\, \\sqrt{107257} \\sqrt{3} - \\frac{21}{2}\\right)}^{\\frac{1}{3}}} - 10\\right]</script></html>"
      ],
      "text/latex": [
       "\\begin{math}\n",
       "\\newcommand{\\Bold}[1]{\\mathbf{#1}}\\left[x = -\\frac{1}{2} \\, {\\left(\\frac{1}{18} i \\, \\sqrt{107257} \\sqrt{3} - \\frac{21}{2}\\right)}^{\\frac{1}{3}} {\\left(i \\, \\sqrt{3} + 1\\right)} - \\frac{31 \\, {\\left(-i \\, \\sqrt{3} + 1\\right)}}{6 \\, {\\left(\\frac{1}{18} i \\, \\sqrt{107257} \\sqrt{3} - \\frac{21}{2}\\right)}^{\\frac{1}{3}}} - 10, x = -\\frac{1}{2} \\, {\\left(\\frac{1}{18} i \\, \\sqrt{107257} \\sqrt{3} - \\frac{21}{2}\\right)}^{\\frac{1}{3}} {\\left(-i \\, \\sqrt{3} + 1\\right)} - \\frac{31 \\, {\\left(i \\, \\sqrt{3} + 1\\right)}}{6 \\, {\\left(\\frac{1}{18} i \\, \\sqrt{107257} \\sqrt{3} - \\frac{21}{2}\\right)}^{\\frac{1}{3}}} - 10, x = {\\left(\\frac{1}{18} i \\, \\sqrt{107257} \\sqrt{3} - \\frac{21}{2}\\right)}^{\\frac{1}{3}} + \\frac{31}{3 \\, {\\left(\\frac{1}{18} i \\, \\sqrt{107257} \\sqrt{3} - \\frac{21}{2}\\right)}^{\\frac{1}{3}}} - 10\\right]\n",
       "\\end{math}"
      ],
      "text/plain": [
       "[x == -1/2*(1/18*I*sqrt(107257)*sqrt(3) - 21/2)^(1/3)*(I*sqrt(3) + 1) - 31/6*(-I*sqrt(3) + 1)/(1/18*I*sqrt(107257)*sqrt(3) - 21/2)^(1/3) - 10, x == -1/2*(1/18*I*sqrt(107257)*sqrt(3) - 21/2)^(1/3)*(-I*sqrt(3) + 1) - 31/6*(I*sqrt(3) + 1)/(1/18*I*sqrt(107257)*sqrt(3) - 21/2)^(1/3) - 10, x == (1/18*I*sqrt(107257)*sqrt(3) - 21/2)^(1/3) + 31/3/(1/18*I*sqrt(107257)*sqrt(3) - 21/2)^(1/3) - 10]"
      ]
     },
     "metadata": {},
     "output_type": "display_data"
    }
   ],
   "source": [
    "show(solve(equation, x))"
   ]
  },
  {
   "cell_type": "code",
   "execution_count": 93,
   "metadata": {},
   "outputs": [
    {
     "data": {
      "text/plain": [
       "[8.88178419700125e-16, 0.000000000000000, -4.44089209850063e-16]"
      ]
     },
     "execution_count": 93,
     "metadata": {},
     "output_type": "execute_result"
    }
   ],
   "source": [
    "[solution.right_hand_side().imag().n()\n",
    " for solution in solve(equation, x)]"
   ]
  },
  {
   "cell_type": "code",
   "execution_count": null,
   "metadata": {},
   "outputs": [],
   "source": []
  }
 ],
 "metadata": {
  "kernelspec": {
   "display_name": "SageMath 9.2",
   "language": "sage",
   "name": "sagemath"
  },
  "language_info": {
   "codemirror_mode": {
    "name": "ipython",
    "version": 3
   },
   "file_extension": ".py",
   "mimetype": "text/x-python",
   "name": "python",
   "nbconvert_exporter": "python",
   "pygments_lexer": "ipython3",
   "version": "3.8.6"
  }
 },
 "nbformat": 4,
 "nbformat_minor": 4
}
