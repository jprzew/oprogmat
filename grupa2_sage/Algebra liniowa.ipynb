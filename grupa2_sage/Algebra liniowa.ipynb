{
 "cells": [
  {
   "cell_type": "code",
   "execution_count": 1,
   "metadata": {},
   "outputs": [],
   "source": [
    "v = vector([2, 0])\n",
    "A = matrix([[1, 2], [3, 4]])"
   ]
  },
  {
   "cell_type": "code",
   "execution_count": 5,
   "metadata": {},
   "outputs": [
    {
     "data": {
      "text/html": [
       "<html><script type=\"math/tex; mode=display\">\\newcommand{\\Bold}[1]{\\mathbf{#1}}\\left(\\begin{array}{rr}\n",
       "1 & 2 \\\\\n",
       "3 & 4\n",
       "\\end{array}\\right)</script></html>"
      ],
      "text/latex": [
       "\\begin{math}\n",
       "\\newcommand{\\Bold}[1]{\\mathbf{#1}}\\left(\\begin{array}{rr}\n",
       "1 & 2 \\\\\n",
       "3 & 4\n",
       "\\end{array}\\right)\n",
       "\\end{math}"
      ],
      "text/plain": [
       "[1 2]\n",
       "[3 4]"
      ]
     },
     "metadata": {},
     "output_type": "display_data"
    },
    {
     "data": {
      "text/html": [
       "<html><script type=\"math/tex; mode=display\">\\newcommand{\\Bold}[1]{\\mathbf{#1}}\\left(2,\\,0\\right)</script></html>"
      ],
      "text/latex": [
       "\\begin{math}\n",
       "\\newcommand{\\Bold}[1]{\\mathbf{#1}}\\left(2,\\,0\\right)\n",
       "\\end{math}"
      ],
      "text/plain": [
       "(2, 0)"
      ]
     },
     "metadata": {},
     "output_type": "display_data"
    }
   ],
   "source": [
    "show(A); show(v)"
   ]
  },
  {
   "cell_type": "code",
   "execution_count": 2,
   "metadata": {},
   "outputs": [
    {
     "data": {
      "text/plain": [
       "(2, 6)"
      ]
     },
     "execution_count": 2,
     "metadata": {},
     "output_type": "execute_result"
    }
   ],
   "source": [
    "A * v"
   ]
  },
  {
   "cell_type": "code",
   "execution_count": 6,
   "metadata": {},
   "outputs": [
    {
     "data": {
      "text/plain": [
       "(2, 4)"
      ]
     },
     "execution_count": 6,
     "metadata": {},
     "output_type": "execute_result"
    }
   ],
   "source": [
    "v * A"
   ]
  },
  {
   "cell_type": "markdown",
   "metadata": {},
   "source": [
    "# Zadanie 0.2"
   ]
  },
  {
   "cell_type": "code",
   "execution_count": 7,
   "metadata": {},
   "outputs": [
    {
     "data": {
      "text/html": [
       "<html><script type=\"math/tex; mode=display\">\\newcommand{\\Bold}[1]{\\mathbf{#1}}\\left(\\begin{array}{rrrr}\n",
       "1 & -1 & 0 & 7 \\\\\n",
       "1 & 1 & -3 & 1 \\\\\n",
       "-1 & -3 & 3 & 2 \\\\\n",
       "-4 & 0 & 1 & -1\n",
       "\\end{array}\\right)</script></html>"
      ],
      "text/latex": [
       "\\begin{math}\n",
       "\\newcommand{\\Bold}[1]{\\mathbf{#1}}\\left(\\begin{array}{rrrr}\n",
       "1 & -1 & 0 & 7 \\\\\n",
       "1 & 1 & -3 & 1 \\\\\n",
       "-1 & -3 & 3 & 2 \\\\\n",
       "-4 & 0 & 1 & -1\n",
       "\\end{array}\\right)\n",
       "\\end{math}"
      ],
      "text/plain": [
       "[ 1 -1  0  7]\n",
       "[ 1  1 -3  1]\n",
       "[-1 -3  3  2]\n",
       "[-4  0  1 -1]"
      ]
     },
     "metadata": {},
     "output_type": "display_data"
    }
   ],
   "source": [
    "A = matrix([[1, -1, 0, 7], [1, 1, -3, 1], [-1, -3, 3, 2], [-4, 0, 1, -1]])\n",
    "show(A)"
   ]
  },
  {
   "cell_type": "code",
   "execution_count": 8,
   "metadata": {},
   "outputs": [
    {
     "data": {
      "text/html": [
       "<html><script type=\"math/tex; mode=display\">\\newcommand{\\Bold}[1]{\\mathbf{#1}}\\left(\\begin{array}{rrrr}\n",
       "-\\frac{1}{120} & -\\frac{2}{15} & -\\frac{1}{24} & -\\frac{11}{40} \\\\\n",
       "\\frac{11}{40} & -\\frac{3}{5} & -\\frac{5}{8} & \\frac{3}{40} \\\\\n",
       "\\frac{3}{20} & -\\frac{3}{5} & -\\frac{1}{4} & -\\frac{1}{20} \\\\\n",
       "\\frac{11}{60} & -\\frac{1}{15} & -\\frac{1}{12} & \\frac{1}{20}\n",
       "\\end{array}\\right)</script></html>"
      ],
      "text/latex": [
       "\\begin{math}\n",
       "\\newcommand{\\Bold}[1]{\\mathbf{#1}}\\left(\\begin{array}{rrrr}\n",
       "-\\frac{1}{120} & -\\frac{2}{15} & -\\frac{1}{24} & -\\frac{11}{40} \\\\\n",
       "\\frac{11}{40} & -\\frac{3}{5} & -\\frac{5}{8} & \\frac{3}{40} \\\\\n",
       "\\frac{3}{20} & -\\frac{3}{5} & -\\frac{1}{4} & -\\frac{1}{20} \\\\\n",
       "\\frac{11}{60} & -\\frac{1}{15} & -\\frac{1}{12} & \\frac{1}{20}\n",
       "\\end{array}\\right)\n",
       "\\end{math}"
      ],
      "text/plain": [
       "[-1/120  -2/15  -1/24 -11/40]\n",
       "[ 11/40   -3/5   -5/8   3/40]\n",
       "[  3/20   -3/5   -1/4  -1/20]\n",
       "[ 11/60  -1/15  -1/12   1/20]"
      ]
     },
     "metadata": {},
     "output_type": "display_data"
    }
   ],
   "source": [
    "X = A.solve_right(matrix.identity(4))\n",
    "show(X)"
   ]
  },
  {
   "cell_type": "code",
   "execution_count": 10,
   "metadata": {},
   "outputs": [
    {
     "data": {
      "text/html": [
       "<html><script type=\"math/tex; mode=display\">\\newcommand{\\Bold}[1]{\\mathbf{#1}}\\left(\\begin{array}{rrrr}\n",
       "1 & 0 & 0 & 0 \\\\\n",
       "0 & 1 & 0 & 0 \\\\\n",
       "0 & 0 & 1 & 0 \\\\\n",
       "0 & 0 & 0 & 1\n",
       "\\end{array}\\right)</script></html>"
      ],
      "text/latex": [
       "\\begin{math}\n",
       "\\newcommand{\\Bold}[1]{\\mathbf{#1}}\\left(\\begin{array}{rrrr}\n",
       "1 & 0 & 0 & 0 \\\\\n",
       "0 & 1 & 0 & 0 \\\\\n",
       "0 & 0 & 1 & 0 \\\\\n",
       "0 & 0 & 0 & 1\n",
       "\\end{array}\\right)\n",
       "\\end{math}"
      ],
      "text/plain": [
       "[1 0 0 0]\n",
       "[0 1 0 0]\n",
       "[0 0 1 0]\n",
       "[0 0 0 1]"
      ]
     },
     "metadata": {},
     "output_type": "display_data"
    }
   ],
   "source": [
    "show(A * X)"
   ]
  },
  {
   "cell_type": "code",
   "execution_count": 11,
   "metadata": {},
   "outputs": [],
   "source": [
    "A = matrix([[1, 1], [1, -2]])"
   ]
  },
  {
   "cell_type": "code",
   "execution_count": 12,
   "metadata": {},
   "outputs": [
    {
     "data": {
      "text/plain": [
       "(14/3, -2/3)"
      ]
     },
     "execution_count": 12,
     "metadata": {},
     "output_type": "execute_result"
    }
   ],
   "source": [
    "A.solve_right(vector([4, 6]))"
   ]
  },
  {
   "cell_type": "markdown",
   "metadata": {},
   "source": [
    "# Zadanie 4"
   ]
  },
  {
   "cell_type": "code",
   "execution_count": 13,
   "metadata": {},
   "outputs": [
    {
     "data": {
      "text/html": [
       "<html><script type=\"math/tex; mode=display\">\\newcommand{\\Bold}[1]{\\mathbf{#1}}\\left(\\begin{array}{rrrr}\n",
       "1 & -1 & 0 & 7 \\\\\n",
       "1 & 1 & -3 & 1 \\\\\n",
       "-1 & -3 & 3 & 2 \\\\\n",
       "-4 & 0 & 1 & -1\n",
       "\\end{array}\\right)</script></html>"
      ],
      "text/latex": [
       "\\begin{math}\n",
       "\\newcommand{\\Bold}[1]{\\mathbf{#1}}\\left(\\begin{array}{rrrr}\n",
       "1 & -1 & 0 & 7 \\\\\n",
       "1 & 1 & -3 & 1 \\\\\n",
       "-1 & -3 & 3 & 2 \\\\\n",
       "-4 & 0 & 1 & -1\n",
       "\\end{array}\\right)\n",
       "\\end{math}"
      ],
      "text/plain": [
       "[ 1 -1  0  7]\n",
       "[ 1  1 -3  1]\n",
       "[-1 -3  3  2]\n",
       "[-4  0  1 -1]"
      ]
     },
     "metadata": {},
     "output_type": "display_data"
    }
   ],
   "source": [
    "A = matrix([[1, -1, 0, 7], [1, 1, -3, 1], [-1, -3, 3, 2], [-4, 0, 1, -1]])\n",
    "show(A)"
   ]
  },
  {
   "cell_type": "code",
   "execution_count": 17,
   "metadata": {},
   "outputs": [
    {
     "data": {
      "text/html": [
       "<html><script type=\"math/tex; mode=display\">\\newcommand{\\Bold}[1]{\\mathbf{#1}}\\left(\\begin{array}{rrrr|rrrr}\n",
       "1 & -1 & 0 & 7 & 1 & 0 & 0 & 0 \\\\\n",
       "1 & 1 & -3 & 1 & 0 & 1 & 0 & 0 \\\\\n",
       "-1 & -3 & 3 & 2 & 0 & 0 & 1 & 0 \\\\\n",
       "-4 & 0 & 1 & -1 & 0 & 0 & 0 & 1\n",
       "\\end{array}\\right)</script></html>"
      ],
      "text/latex": [
       "\\begin{math}\n",
       "\\newcommand{\\Bold}[1]{\\mathbf{#1}}\\left(\\begin{array}{rrrr|rrrr}\n",
       "1 & -1 & 0 & 7 & 1 & 0 & 0 & 0 \\\\\n",
       "1 & 1 & -3 & 1 & 0 & 1 & 0 & 0 \\\\\n",
       "-1 & -3 & 3 & 2 & 0 & 0 & 1 & 0 \\\\\n",
       "-4 & 0 & 1 & -1 & 0 & 0 & 0 & 1\n",
       "\\end{array}\\right)\n",
       "\\end{math}"
      ],
      "text/plain": [
       "[ 1 -1  0  7| 1  0  0  0]\n",
       "[ 1  1 -3  1| 0  1  0  0]\n",
       "[-1 -3  3  2| 0  0  1  0]\n",
       "[-4  0  1 -1| 0  0  0  1]"
      ]
     },
     "metadata": {},
     "output_type": "display_data"
    }
   ],
   "source": [
    "Echelon = (block_matrix(QQ, [[A, matrix.identity(4)]]))\n",
    "show(Echelon)"
   ]
  },
  {
   "cell_type": "code",
   "execution_count": 18,
   "metadata": {},
   "outputs": [
    {
     "data": {
      "text/html": [
       "<html><script type=\"math/tex; mode=display\">\\newcommand{\\Bold}[1]{\\mathbf{#1}}\\left(\\begin{array}{rrrr|rrrr}\n",
       "1 & 0 & 0 & 0 & -\\frac{1}{120} & -\\frac{2}{15} & -\\frac{1}{24} & -\\frac{11}{40} \\\\\n",
       "0 & 1 & 0 & 0 & \\frac{11}{40} & -\\frac{3}{5} & -\\frac{5}{8} & \\frac{3}{40} \\\\\n",
       "0 & 0 & 1 & 0 & \\frac{3}{20} & -\\frac{3}{5} & -\\frac{1}{4} & -\\frac{1}{20} \\\\\n",
       "0 & 0 & 0 & 1 & \\frac{11}{60} & -\\frac{1}{15} & -\\frac{1}{12} & \\frac{1}{20}\n",
       "\\end{array}\\right)</script></html>"
      ],
      "text/latex": [
       "\\begin{math}\n",
       "\\newcommand{\\Bold}[1]{\\mathbf{#1}}\\left(\\begin{array}{rrrr|rrrr}\n",
       "1 & 0 & 0 & 0 & -\\frac{1}{120} & -\\frac{2}{15} & -\\frac{1}{24} & -\\frac{11}{40} \\\\\n",
       "0 & 1 & 0 & 0 & \\frac{11}{40} & -\\frac{3}{5} & -\\frac{5}{8} & \\frac{3}{40} \\\\\n",
       "0 & 0 & 1 & 0 & \\frac{3}{20} & -\\frac{3}{5} & -\\frac{1}{4} & -\\frac{1}{20} \\\\\n",
       "0 & 0 & 0 & 1 & \\frac{11}{60} & -\\frac{1}{15} & -\\frac{1}{12} & \\frac{1}{20}\n",
       "\\end{array}\\right)\n",
       "\\end{math}"
      ],
      "text/plain": [
       "[     1      0      0      0|-1/120  -2/15  -1/24 -11/40]\n",
       "[     0      1      0      0| 11/40   -3/5   -5/8   3/40]\n",
       "[     0      0      1      0|  3/20   -3/5   -1/4  -1/20]\n",
       "[     0      0      0      1| 11/60  -1/15  -1/12   1/20]"
      ]
     },
     "metadata": {},
     "output_type": "display_data"
    }
   ],
   "source": [
    "show(Echelon.echelon_form())"
   ]
  },
  {
   "cell_type": "code",
   "execution_count": null,
   "metadata": {},
   "outputs": [],
   "source": []
  }
 ],
 "metadata": {
  "kernelspec": {
   "display_name": "SageMath 9.2",
   "language": "sage",
   "name": "sagemath"
  },
  "language_info": {
   "codemirror_mode": {
    "name": "ipython",
    "version": 3
   },
   "file_extension": ".py",
   "mimetype": "text/x-python",
   "name": "python",
   "nbconvert_exporter": "python",
   "pygments_lexer": "ipython3",
   "version": "3.8.6"
  }
 },
 "nbformat": 4,
 "nbformat_minor": 4
}
