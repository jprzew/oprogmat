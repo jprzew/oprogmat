{
 "cells": [
  {
   "cell_type": "markdown",
   "id": "bcfa501d",
   "metadata": {},
   "source": [
    "# Wstęp do programowania zorientowanego obiektowo"
   ]
  },
  {
   "cell_type": "markdown",
   "id": "7f4050e8",
   "metadata": {},
   "source": [
    "Zamodelujemy dynamikę rozwoju populacji. \n",
    "\n",
    "Parametry\n",
    "1. Prawdobieństwo zgonu\n",
    "2. Prawdopodobieństwo rozmnożenia"
   ]
  },
  {
   "cell_type": "code",
   "execution_count": 76,
   "id": "cfe131ea",
   "metadata": {},
   "outputs": [],
   "source": [
    "import random\n",
    "import matplotlib.pyplot as plt"
   ]
  },
  {
   "cell_type": "code",
   "execution_count": 137,
   "id": "5a528d0f",
   "metadata": {},
   "outputs": [],
   "source": [
    "class Creature:\n",
    "    alive = True\n",
    "\n",
    "    def __init__(self, p_death=0.1, p_reproduce=0.1):\n",
    "        self.p_death = p_death\n",
    "        self.p_reproduce = p_reproduce \n",
    "    \n",
    "    def natural_selection(self):\n",
    "        if random.random() < self.p_death: \n",
    "            self.alive = False\n",
    "            \n",
    "    def reproduce(self):\n",
    "        if (random.random() < self.p_reproduce) and self.alive:\n",
    "            return Creature()  # POTOMKOWIE POWINNI DZIEDZICZYĆ CECHY!"
   ]
  },
  {
   "cell_type": "code",
   "execution_count": 142,
   "id": "cdb80093",
   "metadata": {},
   "outputs": [],
   "source": [
    "def count_alive(population):\n",
    "    \"\"\"Counts number of creatures in the population that are alive\"\"\"\n",
    "    return len({creature for creature in population if creature.alive})\n",
    "\n",
    "def make_population(n, p_death=0.1, p_reproduce=0.1):\n",
    "    \"\"\"Creates population\"\"\"\n",
    "    return {Creature(p_death, p_reproduce) for _ in range(n)}\n",
    "\n",
    "def natural_selection(population):\n",
    "    \"\"\"Applies natural selection process to the population\"\"\"\n",
    "    {creature.natural_selection() for creature in population}\n",
    "\n",
    "def reproduce(population):\n",
    "    \"\"\"Returns set of reproduced creatures for our population\"\"\"\n",
    "    return {creature.reproduce() for creature in population} - {None}"
   ]
  },
  {
   "cell_type": "code",
   "execution_count": 169,
   "id": "989eda09",
   "metadata": {},
   "outputs": [],
   "source": [
    "p_death = 0.1\n",
    "p_reproduce = 0.7\n",
    "\n",
    "population = make_population(100, p_death, p_reproduce)"
   ]
  },
  {
   "cell_type": "code",
   "execution_count": 161,
   "id": "53a67c16",
   "metadata": {},
   "outputs": [],
   "source": [
    "alive = [count_alive(population)]\n",
    "for _ in range(200):\n",
    "    new_creatures = reproduce(population)\n",
    "    natural_selection(population)\n",
    "\n",
    "    population = population | new_creatures\n",
    "\n",
    "    \n",
    "    alive.append(count_alive(population))"
   ]
  },
  {
   "cell_type": "code",
   "execution_count": 162,
   "id": "1ddf047f",
   "metadata": {},
   "outputs": [
    {
     "data": {
      "text/plain": [
       "[<matplotlib.lines.Line2D at 0x7f2cda8b9e48>]"
      ]
     },
     "execution_count": 162,
     "metadata": {},
     "output_type": "execute_result"
    },
    {
     "data": {
      "image/png": "[encoded data removed]",
      "text/plain": [
       "<Figure size 432x288 with 1 Axes>"
      ]
     },
     "metadata": {
      "needs_background": "light"
     },
     "output_type": "display_data"
    }
   ],
   "source": [
    "plt.plot(alive)"
   ]
  },
  {
   "cell_type": "code",
   "execution_count": 168,
   "id": "425d015c",
   "metadata": {},
   "outputs": [
    {
     "data": {
      "text/plain": [
       "0.1"
      ]
     },
     "execution_count": 168,
     "metadata": {},
     "output_type": "execute_result"
    }
   ],
   "source": []
  },
  {
   "cell_type": "code",
   "execution_count": null,
   "id": "21fc1082",
   "metadata": {},
   "outputs": [],
   "source": []
  }
 ],
 "metadata": {
  "kernelspec": {
   "display_name": "Python 3",
   "language": "python",
   "name": "python3"
  },
  "language_info": {
   "codemirror_mode": {
    "name": "ipython",
    "version": 3
   },
   "file_extension": ".py",
   "mimetype": "text/x-python",
   "name": "python",
   "nbconvert_exporter": "python",
   "pygments_lexer": "ipython3",
   "version": "3.6.9"
  }
 },
 "nbformat": 4,
 "nbformat_minor": 5
}
