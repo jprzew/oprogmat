{
 "cells": [
  {
   "cell_type": "markdown",
   "id": "30ddf7dd",
   "metadata": {},
   "source": [
    "# Zadanie 13"
   ]
  },
  {
   "cell_type": "code",
   "execution_count": 3,
   "id": "5cc96e6d",
   "metadata": {},
   "outputs": [],
   "source": [
    "def factorial1(n):\n",
    "    \"\"\"Calculates factorial (iteratively)\n",
    "\n",
    "    Args:\n",
    "        n: int -- natural number\n",
    "    \n",
    "    Returns:\n",
    "        factorial of the given number\n",
    "    \"\"\"\n",
    "    result = 1\n",
    "    for i in range(1, n+1):\n",
    "        result = result * i\n",
    "        \n",
    "    return result\n"
   ]
  },
  {
   "cell_type": "code",
   "execution_count": 60,
   "id": "27322b58",
   "metadata": {},
   "outputs": [
    {
     "data": {
      "text/plain": [
       "[1, 1, 2, 6, 24, 120, 720, 5040, 40320, 362880]"
      ]
     },
     "execution_count": 60,
     "metadata": {},
     "output_type": "execute_result"
    }
   ],
   "source": [
    "[factorial1(k) for k in range(10)]"
   ]
  },
  {
   "cell_type": "code",
   "execution_count": 1,
   "id": "26d5bc83",
   "metadata": {},
   "outputs": [
    {
     "name": "stdout",
     "output_type": "stream",
     "text": [
      "print(value, ..., sep=' ', end='\\n', file=sys.stdout, flush=False)\n",
      "\n",
      "Prints the values to a stream, or to sys.stdout by default.\n",
      "Optional keyword arguments:\n",
      "file:  a file-like object (stream); defaults to the current sys.stdout.\n",
      "sep:   string inserted between values, default a space.\n",
      "end:   string appended after the last value, default a newline.\n",
      "flush: whether to forcibly flush the stream.\n"
     ]
    }
   ],
   "source": [
    "print(print.__doc__)"
   ]
  },
  {
   "cell_type": "code",
   "execution_count": 2,
   "id": "0f0108ca",
   "metadata": {},
   "outputs": [],
   "source": [
    "print?"
   ]
  },
  {
   "cell_type": "markdown",
   "id": "321678f8",
   "metadata": {},
   "source": [
    "**Rekurencyjnie**"
   ]
  },
  {
   "cell_type": "code",
   "execution_count": 5,
   "id": "7a561179",
   "metadata": {},
   "outputs": [],
   "source": [
    "def factorial2(n):\n",
    "    \"\"\"Calculates factorial (recursively)\n",
    "\n",
    "    Args:\n",
    "        n: int -- natural number\n",
    "    \n",
    "    Returns:\n",
    "        factorial of the given number\n",
    "    \"\"\"\n",
    "    \n",
    "    if n == 0:\n",
    "        return 1\n",
    "    \n",
    "    return factorial2(n-1) * n"
   ]
  },
  {
   "cell_type": "code",
   "execution_count": 6,
   "id": "d707509f",
   "metadata": {},
   "outputs": [
    {
     "data": {
      "text/plain": [
       "[1, 1, 2, 6, 24, 120, 720, 5040, 40320, 362880]"
      ]
     },
     "execution_count": 6,
     "metadata": {},
     "output_type": "execute_result"
    }
   ],
   "source": [
    "[factorial2(k) for k in range(10)]"
   ]
  },
  {
   "cell_type": "markdown",
   "id": "c6710d98",
   "metadata": {},
   "source": [
    "# Zadanie 14"
   ]
  },
  {
   "cell_type": "markdown",
   "id": "350a9b0a",
   "metadata": {},
   "source": [
    "**Rekurencyjnie**"
   ]
  },
  {
   "cell_type": "code",
   "execution_count": 11,
   "id": "d61ec151",
   "metadata": {},
   "outputs": [],
   "source": [
    "def fibonacci1(n):\n",
    "    \"\"\"Calculates n-th Fibonacci number (recursively)\n",
    "\n",
    "    Args:\n",
    "        n: int -- natural number\n",
    "    \n",
    "    Returns:\n",
    "        n-th Fibonacci number\n",
    "    \"\"\"\n",
    "    if n in {0, 1}:\n",
    "        return n\n",
    "\n",
    "    return fibonacci1(n-2) + fibonacci1(n-1)\n"
   ]
  },
  {
   "cell_type": "code",
   "execution_count": 10,
   "id": "c96c3145",
   "metadata": {},
   "outputs": [
    {
     "data": {
      "text/plain": [
       "[0, 1, 1, 2, 3, 5, 8, 13, 21, 34, 55, 89, 144, 233, 377]"
      ]
     },
     "execution_count": 10,
     "metadata": {},
     "output_type": "execute_result"
    }
   ],
   "source": [
    "[fibonacci1(k) for k in range(15)]"
   ]
  },
  {
   "cell_type": "markdown",
   "id": "5e176efc",
   "metadata": {},
   "source": [
    "**Iteracyjnie**"
   ]
  },
  {
   "cell_type": "code",
   "execution_count": 27,
   "id": "cb3bd4c4",
   "metadata": {},
   "outputs": [],
   "source": [
    "def fibonacci2(n):\n",
    "    \"\"\"Calculates n-th Fibonacci number (iteratively)\n",
    "\n",
    "    Args:\n",
    "        n: int -- natural number\n",
    "    \n",
    "    Returns:\n",
    "        n-th Fibonacci number\n",
    "    \"\"\"\n",
    "    if n in {0, 1}:\n",
    "        return n\n",
    "\n",
    "    recent = 1\n",
    "    previous = 0\n",
    "    for _ in range(2, n+1): \n",
    "        new = recent + previous\n",
    "        previous, recent = recent, new\n",
    "\n",
    "    return new\n"
   ]
  },
  {
   "cell_type": "code",
   "execution_count": 26,
   "id": "f5ee6481",
   "metadata": {},
   "outputs": [
    {
     "data": {
      "text/plain": [
       "[0, 1, 1, 2, 3, 5, 8, 13, 21, 34, 55, 89, 144, 233, 377]"
      ]
     },
     "execution_count": 26,
     "metadata": {},
     "output_type": "execute_result"
    }
   ],
   "source": [
    "[fibonacci2(k) for k in range(15)]"
   ]
  },
  {
   "cell_type": "markdown",
   "id": "fafa6043",
   "metadata": {},
   "source": [
    "**Analitycznie**"
   ]
  },
  {
   "cell_type": "code",
   "execution_count": 38,
   "id": "a539f0b3",
   "metadata": {},
   "outputs": [],
   "source": [
    "def fibonacci3(n):\n",
    "    \"\"\"Calculates n-th Fibonacci number (analitically)\n",
    "\n",
    "    Args:\n",
    "        n: int -- natural number\n",
    "    \n",
    "    Returns:\n",
    "        n-th Fibonacci number\n",
    "    \"\"\"\n",
    "    \n",
    "    phi = (1 + 5**0.5) / 2\n",
    "    psi = 1 - phi\n",
    "    \n",
    "    return int((phi**n - psi**n) / (5**0.5))\n"
   ]
  },
  {
   "cell_type": "code",
   "execution_count": 39,
   "id": "5c0ef3fe",
   "metadata": {},
   "outputs": [
    {
     "data": {
      "text/plain": [
       "[0, 1, 1, 2, 3, 5, 8, 13, 21, 34, 55, 89, 144, 233, 377]"
      ]
     },
     "execution_count": 39,
     "metadata": {},
     "output_type": "execute_result"
    }
   ],
   "source": [
    "[fibonacci3(k) for k in range(15)]"
   ]
  },
  {
   "cell_type": "markdown",
   "id": "a1a41db3",
   "metadata": {},
   "source": [
    "## Zadanie 15"
   ]
  },
  {
   "cell_type": "code",
   "execution_count": 40,
   "id": "e0cb2405",
   "metadata": {},
   "outputs": [],
   "source": [
    "def print_docstring(function):\n",
    "    print(function.__doc__)\n",
    "    "
   ]
  },
  {
   "cell_type": "code",
   "execution_count": 41,
   "id": "22673798",
   "metadata": {},
   "outputs": [
    {
     "name": "stdout",
     "output_type": "stream",
     "text": [
      "max(iterable, *[, default=obj, key=func]) -> value\n",
      "max(arg1, arg2, *args, *[, key=func]) -> value\n",
      "\n",
      "With a single iterable argument, return its biggest item. The\n",
      "default keyword-only argument specifies an object to return if\n",
      "the provided iterable is empty.\n",
      "With two or more arguments, return the largest argument.\n"
     ]
    }
   ],
   "source": [
    "print_docstring(max)"
   ]
  },
  {
   "cell_type": "code",
   "execution_count": 42,
   "id": "5d7543dc",
   "metadata": {},
   "outputs": [
    {
     "name": "stdout",
     "output_type": "stream",
     "text": [
      "Calculates n-th Fibonacci number (recursively)\n",
      "\n",
      "    Args:\n",
      "        n: int -- natural number\n",
      "    \n",
      "    Returns:\n",
      "        n-th Fibonacci number\n",
      "    \n"
     ]
    }
   ],
   "source": [
    "print_docstring(fibonacci1)"
   ]
  },
  {
   "cell_type": "code",
   "execution_count": null,
   "id": "39e10fa3",
   "metadata": {},
   "outputs": [],
   "source": []
  }
 ],
 "metadata": {
  "kernelspec": {
   "display_name": "Python 3",
   "language": "python",
   "name": "python3"
  },
  "language_info": {
   "codemirror_mode": {
    "name": "ipython",
    "version": 3
   },
   "file_extension": ".py",
   "mimetype": "text/x-python",
   "name": "python",
   "nbconvert_exporter": "python",
   "pygments_lexer": "ipython3",
   "version": "3.6.9"
  }
 },
 "nbformat": 4,
 "nbformat_minor": 5
}
