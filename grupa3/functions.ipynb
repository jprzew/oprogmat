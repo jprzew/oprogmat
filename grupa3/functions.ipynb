{
 "cells": [
  {
   "cell_type": "markdown",
   "id": "30ddf7dd",
   "metadata": {},
   "source": [
    "# Zadanie 13"
   ]
  },
  {
   "cell_type": "code",
   "execution_count": 59,
   "id": "5cc96e6d",
   "metadata": {},
   "outputs": [],
   "source": [
    "def factorial1(n):\n",
    "    \"\"\"Calculates factorial (iteratively)\n",
    "\n",
    "    Keyword arguments:\n",
    "    n: int -- natural number\n",
    "    \"\"\"\n",
    "    result = 1\n",
    "    for i in range(1, n+1):\n",
    "        result = result * i\n",
    "        \n",
    "    return result\n"
   ]
  },
  {
   "cell_type": "code",
   "execution_count": 60,
   "id": "27322b58",
   "metadata": {},
   "outputs": [
    {
     "data": {
      "text/plain": [
       "[1, 1, 2, 6, 24, 120, 720, 5040, 40320, 362880]"
      ]
     },
     "execution_count": 60,
     "metadata": {},
     "output_type": "execute_result"
    }
   ],
   "source": [
    "[factorial1(k) for k in range(10)]"
   ]
  },
  {
   "cell_type": "code",
   "execution_count": 62,
   "id": "26d5bc83",
   "metadata": {},
   "outputs": [
    {
     "name": "stdout",
     "output_type": "stream",
     "text": [
      "print(value, ..., sep=' ', end='\\n', file=sys.stdout, flush=False)\n",
      "\n",
      "Prints the values to a stream, or to sys.stdout by default.\n",
      "Optional keyword arguments:\n",
      "file:  a file-like object (stream); defaults to the current sys.stdout.\n",
      "sep:   string inserted between values, default a space.\n",
      "end:   string appended after the last value, default a newline.\n",
      "flush: whether to forcibly flush the stream.\n"
     ]
    }
   ],
   "source": [
    "print(print.__doc__)"
   ]
  },
  {
   "cell_type": "code",
   "execution_count": null,
   "id": "0f0108ca",
   "metadata": {},
   "outputs": [],
   "source": []
  }
 ],
 "metadata": {
  "kernelspec": {
   "display_name": "Python 3",
   "language": "python",
   "name": "python3"
  },
  "language_info": {
   "codemirror_mode": {
    "name": "ipython",
    "version": 3
   },
   "file_extension": ".py",
   "mimetype": "text/x-python",
   "name": "python",
   "nbconvert_exporter": "python",
   "pygments_lexer": "ipython3",
   "version": "3.6.9"
  }
 },
 "nbformat": 4,
 "nbformat_minor": 5
}
