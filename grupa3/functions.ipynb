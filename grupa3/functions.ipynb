{
 "cells": [
  {
   "cell_type": "markdown",
   "id": "30ddf7dd",
   "metadata": {},
   "source": [
    "# Zadanie 13"
   ]
  },
  {
   "cell_type": "code",
   "execution_count": 3,
   "id": "5cc96e6d",
   "metadata": {},
   "outputs": [],
   "source": [
    "def factorial1(n):\n",
    "    \"\"\"Calculates factorial (iteratively)\n",
    "\n",
    "    Args:\n",
    "        n: int -- natural number\n",
    "    \n",
    "    Returns:\n",
    "        factorial of the given number\n",
    "    \"\"\"\n",
    "    result = 1\n",
    "    for i in range(1, n+1):\n",
    "        result = result * i\n",
    "        \n",
    "    return result\n"
   ]
  },
  {
   "cell_type": "code",
   "execution_count": 60,
   "id": "27322b58",
   "metadata": {},
   "outputs": [
    {
     "data": {
      "text/plain": [
       "[1, 1, 2, 6, 24, 120, 720, 5040, 40320, 362880]"
      ]
     },
     "execution_count": 60,
     "metadata": {},
     "output_type": "execute_result"
    }
   ],
   "source": [
    "[factorial1(k) for k in range(10)]"
   ]
  },
  {
   "cell_type": "code",
   "execution_count": 1,
   "id": "26d5bc83",
   "metadata": {},
   "outputs": [
    {
     "name": "stdout",
     "output_type": "stream",
     "text": [
      "print(value, ..., sep=' ', end='\\n', file=sys.stdout, flush=False)\n",
      "\n",
      "Prints the values to a stream, or to sys.stdout by default.\n",
      "Optional keyword arguments:\n",
      "file:  a file-like object (stream); defaults to the current sys.stdout.\n",
      "sep:   string inserted between values, default a space.\n",
      "end:   string appended after the last value, default a newline.\n",
      "flush: whether to forcibly flush the stream.\n"
     ]
    }
   ],
   "source": [
    "print(print.__doc__)"
   ]
  },
  {
   "cell_type": "code",
   "execution_count": 2,
   "id": "0f0108ca",
   "metadata": {},
   "outputs": [],
   "source": [
    "print?"
   ]
  },
  {
   "cell_type": "markdown",
   "id": "321678f8",
   "metadata": {},
   "source": [
    "**Rekurencyjnie**"
   ]
  },
  {
   "cell_type": "code",
   "execution_count": 5,
   "id": "7a561179",
   "metadata": {},
   "outputs": [],
   "source": [
    "def factorial2(n):\n",
    "    \"\"\"Calculates factorial (recursively)\n",
    "\n",
    "    Args:\n",
    "        n: int -- natural number\n",
    "    \n",
    "    Returns:\n",
    "        factorial of the given number\n",
    "    \"\"\"\n",
    "    \n",
    "    if n == 0:\n",
    "        return 1\n",
    "    \n",
    "    return factorial2(n-1) * n"
   ]
  },
  {
   "cell_type": "code",
   "execution_count": 6,
   "id": "d707509f",
   "metadata": {},
   "outputs": [
    {
     "data": {
      "text/plain": [
       "[1, 1, 2, 6, 24, 120, 720, 5040, 40320, 362880]"
      ]
     },
     "execution_count": 6,
     "metadata": {},
     "output_type": "execute_result"
    }
   ],
   "source": [
    "[factorial2(k) for k in range(10)]"
   ]
  },
  {
   "cell_type": "markdown",
   "id": "c6710d98",
   "metadata": {},
   "source": [
    "# Zadanie 14"
   ]
  },
  {
   "cell_type": "markdown",
   "id": "350a9b0a",
   "metadata": {},
   "source": [
    "**Rekurencyjnie**"
   ]
  },
  {
   "cell_type": "code",
   "execution_count": 24,
   "id": "d61ec151",
   "metadata": {},
   "outputs": [],
   "source": [
    "def fibonacci1(n):\n",
    "    \"\"\"Calculates n-th Fibonacci number (recursively)\n",
    "\n",
    "    Args:\n",
    "        n: int -- natural number\n",
    "    \n",
    "    Returns:\n",
    "        n-th Fibonacci number\n",
    "    \"\"\"\n",
    "    if n in {0, 1}:\n",
    "        return n\n",
    "\n",
    "    return fibonacci1(n-2) + fibonacci1(n-1)\n"
   ]
  },
  {
   "cell_type": "code",
   "execution_count": 25,
   "id": "c96c3145",
   "metadata": {},
   "outputs": [
    {
     "data": {
      "text/plain": [
       "[0, 1, 1, 2, 3, 5, 8, 13, 21, 34, 55, 89, 144, 233, 377]"
      ]
     },
     "execution_count": 25,
     "metadata": {},
     "output_type": "execute_result"
    }
   ],
   "source": [
    "[fibonacci1(k) for k in range(15)]"
   ]
  },
  {
   "cell_type": "markdown",
   "id": "5e176efc",
   "metadata": {},
   "source": [
    "**Iteracyjnie**"
   ]
  },
  {
   "cell_type": "code",
   "execution_count": 26,
   "id": "cb3bd4c4",
   "metadata": {},
   "outputs": [],
   "source": [
    "def fibonacci2(n):\n",
    "    \"\"\"Calculates n-th Fibonacci number (iteratively)\n",
    "\n",
    "    Args:\n",
    "        n: int -- natural number\n",
    "    \n",
    "    Returns:\n",
    "        n-th Fibonacci number\n",
    "    \"\"\"\n",
    "    if n in {0, 1}:\n",
    "        return n\n",
    "\n",
    "    recent = 1\n",
    "    previous = 0\n",
    "    for _ in range(2, n+1): \n",
    "        new = recent + previous\n",
    "        previous, recent = recent, new\n",
    "\n",
    "    return new\n"
   ]
  },
  {
   "cell_type": "code",
   "execution_count": 27,
   "id": "f5ee6481",
   "metadata": {},
   "outputs": [
    {
     "data": {
      "text/plain": [
       "[0, 1, 1, 2, 3, 5, 8, 13, 21, 34, 55, 89, 144, 233, 377]"
      ]
     },
     "execution_count": 27,
     "metadata": {},
     "output_type": "execute_result"
    }
   ],
   "source": [
    "[fibonacci2(k) for k in range(15)]"
   ]
  },
  {
   "cell_type": "markdown",
   "id": "fafa6043",
   "metadata": {},
   "source": [
    "**Analitycznie**"
   ]
  },
  {
   "cell_type": "code",
   "execution_count": 28,
   "id": "a539f0b3",
   "metadata": {},
   "outputs": [],
   "source": [
    "def fibonacci3(n):\n",
    "    \"\"\"Calculates n-th Fibonacci number (analitically)\n",
    "\n",
    "    Args:\n",
    "        n: int -- natural number\n",
    "    \n",
    "    Returns:\n",
    "        n-th Fibonacci number\n",
    "    \"\"\"\n",
    "    \n",
    "    phi = (1 + 5**0.5) / 2\n",
    "    psi = 1 - phi\n",
    "    \n",
    "    return int((phi**n - psi**n) / (5**0.5))\n"
   ]
  },
  {
   "cell_type": "code",
   "execution_count": 29,
   "id": "5c0ef3fe",
   "metadata": {},
   "outputs": [
    {
     "data": {
      "text/plain": [
       "[0, 1, 1, 2, 3, 5, 8, 13, 21, 34, 55, 89, 144, 233, 377]"
      ]
     },
     "execution_count": 29,
     "metadata": {},
     "output_type": "execute_result"
    }
   ],
   "source": [
    "[fibonacci3(k) for k in range(15)]"
   ]
  },
  {
   "cell_type": "markdown",
   "id": "46cfc0cc",
   "metadata": {},
   "source": [
    "Najszybsza"
   ]
  },
  {
   "cell_type": "code",
   "execution_count": 32,
   "id": "e18796cf",
   "metadata": {},
   "outputs": [
    {
     "name": "stdout",
     "output_type": "stream",
     "text": [
      "The slowest run took 5.29 times longer than the fastest. This could mean that an intermediate result is being cached.\n",
      "1000000 loops, best of 3: 1.25 µs per loop\n"
     ]
    }
   ],
   "source": [
    "%timeit fibonacci3(20)  # analityczna"
   ]
  },
  {
   "cell_type": "markdown",
   "id": "e90a8f78",
   "metadata": {},
   "source": [
    "Wolniejsza"
   ]
  },
  {
   "cell_type": "code",
   "execution_count": 35,
   "id": "63d534fb",
   "metadata": {},
   "outputs": [
    {
     "name": "stdout",
     "output_type": "stream",
     "text": [
      "100000 loops, best of 3: 5.09 µs per loop\n"
     ]
    }
   ],
   "source": [
    "%timeit fibonacci2(20) # iteracyjna"
   ]
  },
  {
   "cell_type": "markdown",
   "id": "edcde978",
   "metadata": {},
   "source": [
    "Najwolniejsza"
   ]
  },
  {
   "cell_type": "code",
   "execution_count": 36,
   "id": "02c9781f",
   "metadata": {},
   "outputs": [
    {
     "name": "stdout",
     "output_type": "stream",
     "text": [
      "100 loops, best of 3: 7.59 ms per loop\n"
     ]
    }
   ],
   "source": [
    "%timeit fibonacci1(20) # rekurencyjna"
   ]
  },
  {
   "cell_type": "markdown",
   "id": "a1a41db3",
   "metadata": {},
   "source": [
    "## Zadanie 15"
   ]
  },
  {
   "cell_type": "code",
   "execution_count": 40,
   "id": "e0cb2405",
   "metadata": {},
   "outputs": [],
   "source": [
    "def print_docstring(function):\n",
    "    print(function.__doc__)\n",
    "    "
   ]
  },
  {
   "cell_type": "code",
   "execution_count": 41,
   "id": "22673798",
   "metadata": {},
   "outputs": [
    {
     "name": "stdout",
     "output_type": "stream",
     "text": [
      "max(iterable, *[, default=obj, key=func]) -> value\n",
      "max(arg1, arg2, *args, *[, key=func]) -> value\n",
      "\n",
      "With a single iterable argument, return its biggest item. The\n",
      "default keyword-only argument specifies an object to return if\n",
      "the provided iterable is empty.\n",
      "With two or more arguments, return the largest argument.\n"
     ]
    }
   ],
   "source": [
    "print_docstring(max)"
   ]
  },
  {
   "cell_type": "code",
   "execution_count": 42,
   "id": "5d7543dc",
   "metadata": {},
   "outputs": [
    {
     "name": "stdout",
     "output_type": "stream",
     "text": [
      "Calculates n-th Fibonacci number (recursively)\n",
      "\n",
      "    Args:\n",
      "        n: int -- natural number\n",
      "    \n",
      "    Returns:\n",
      "        n-th Fibonacci number\n",
      "    \n"
     ]
    }
   ],
   "source": [
    "print_docstring(fibonacci1)"
   ]
  },
  {
   "cell_type": "markdown",
   "id": "66e52afc",
   "metadata": {},
   "source": [
    "# Zadanie 17"
   ]
  },
  {
   "cell_type": "code",
   "execution_count": 46,
   "id": "9ba00392",
   "metadata": {},
   "outputs": [],
   "source": [
    "def is_prime(num):\n",
    "    \"\"\"Checks if number is prime\n",
    "    \n",
    "    Keyword arguments:\n",
    "        num: int (natural num)\n",
    "        \n",
    "    Returns:\n",
    "        True if num is prime\n",
    "        False if num is not prime\n",
    "    \"\"\"\n",
    "    if num < 2:\n",
    "        return False\n",
    "    \n",
    "    for i in range(2, int((num**(0.5)))+1):\n",
    "        if num%i == 0:\n",
    "            return False\n",
    "    \n",
    "    return True\n"
   ]
  },
  {
   "cell_type": "code",
   "execution_count": 47,
   "id": "a2e53c71",
   "metadata": {
    "scrolled": true
   },
   "outputs": [
    {
     "data": {
      "text/plain": [
       "{1: False,\n",
       " 2: True,\n",
       " 3: True,\n",
       " 4: False,\n",
       " 5: True,\n",
       " 6: False,\n",
       " 7: True,\n",
       " 8: False,\n",
       " 9: False,\n",
       " 10: False,\n",
       " 11: True,\n",
       " 12: False,\n",
       " 13: True,\n",
       " 14: False,\n",
       " 15: False,\n",
       " 16: False,\n",
       " 17: True,\n",
       " 18: False,\n",
       " 19: True,\n",
       " 20: False,\n",
       " 21: False,\n",
       " 22: False,\n",
       " 23: True,\n",
       " 24: False,\n",
       " 25: False,\n",
       " 26: False,\n",
       " 27: False,\n",
       " 28: False,\n",
       " 29: True,\n",
       " 30: False,\n",
       " 31: True,\n",
       " 32: False,\n",
       " 33: False,\n",
       " 34: False,\n",
       " 35: False,\n",
       " 36: False,\n",
       " 37: True,\n",
       " 38: False,\n",
       " 39: False,\n",
       " 40: False,\n",
       " 41: True,\n",
       " 42: False,\n",
       " 43: True,\n",
       " 44: False,\n",
       " 45: False,\n",
       " 46: False,\n",
       " 47: True,\n",
       " 48: False,\n",
       " 49: False,\n",
       " 50: False,\n",
       " 51: False,\n",
       " 52: False,\n",
       " 53: True,\n",
       " 54: False,\n",
       " 55: False,\n",
       " 56: False,\n",
       " 57: False,\n",
       " 58: False,\n",
       " 59: True,\n",
       " 60: False,\n",
       " 61: True,\n",
       " 62: False,\n",
       " 63: False,\n",
       " 64: False,\n",
       " 65: False,\n",
       " 66: False,\n",
       " 67: True,\n",
       " 68: False,\n",
       " 69: False,\n",
       " 70: False,\n",
       " 71: True,\n",
       " 72: False,\n",
       " 73: True,\n",
       " 74: False,\n",
       " 75: False,\n",
       " 76: False,\n",
       " 77: False,\n",
       " 78: False,\n",
       " 79: True,\n",
       " 80: False,\n",
       " 81: False,\n",
       " 82: False,\n",
       " 83: True,\n",
       " 84: False,\n",
       " 85: False,\n",
       " 86: False,\n",
       " 87: False,\n",
       " 88: False,\n",
       " 89: True,\n",
       " 90: False,\n",
       " 91: False,\n",
       " 92: False,\n",
       " 93: False,\n",
       " 94: False,\n",
       " 95: False,\n",
       " 96: False,\n",
       " 97: True,\n",
       " 98: False,\n",
       " 99: False}"
      ]
     },
     "execution_count": 47,
     "metadata": {},
     "output_type": "execute_result"
    }
   ],
   "source": [
    "{n: is_prime(n) for n in range(1, 100)}"
   ]
  },
  {
   "cell_type": "markdown",
   "id": "7c5880aa",
   "metadata": {},
   "source": [
    "# Zadanie 18"
   ]
  },
  {
   "cell_type": "code",
   "execution_count": 44,
   "id": "b09729c6",
   "metadata": {},
   "outputs": [],
   "source": [
    "def primes(lower, upper):\n",
    "    \"\"\"Returns primes in a given interval\n",
    "    \n",
    "    Args:\n",
    "        lower: int lower boundary of the interval\n",
    "        upper: int upper boundary of the interval\n",
    "        \n",
    "    Returns:\n",
    "        List of primes in a given interval\n",
    "    \"\"\"\n",
    "    \n",
    "    return [k for k in range(lower, upper) if is_prime(k)]"
   ]
  },
  {
   "cell_type": "code",
   "execution_count": 16,
   "id": "c0b638f4",
   "metadata": {
    "scrolled": true
   },
   "outputs": [
    {
     "data": {
      "text/plain": [
       "[2,\n",
       " 3,\n",
       " 5,\n",
       " 7,\n",
       " 11,\n",
       " 13,\n",
       " 17,\n",
       " 19,\n",
       " 23,\n",
       " 29,\n",
       " 31,\n",
       " 37,\n",
       " 41,\n",
       " 43,\n",
       " 47,\n",
       " 53,\n",
       " 59,\n",
       " 61,\n",
       " 67,\n",
       " 71,\n",
       " 73,\n",
       " 79,\n",
       " 83,\n",
       " 89,\n",
       " 97]"
      ]
     },
     "execution_count": 16,
     "metadata": {},
     "output_type": "execute_result"
    }
   ],
   "source": [
    "primes(2, 100)"
   ]
  },
  {
   "cell_type": "markdown",
   "id": "f4bf5c2b",
   "metadata": {},
   "source": [
    "# Zadanie 19"
   ]
  },
  {
   "cell_type": "code",
   "execution_count": 22,
   "id": "e7d1b7e4",
   "metadata": {},
   "outputs": [],
   "source": [
    "def sum_odd_numbers(n):\n",
    "    if n == 1:\n",
    "        return 1\n",
    "    if n == 0:\n",
    "        return 0\n",
    "    if n % 2 == 0:  # n is even\n",
    "        return (n-1) + sum_odd_numbers(n-2) # n-1 is odd  \n",
    "    \n",
    "    return n + sum_odd_numbers(n-2)  # n is odd\n"
   ]
  },
  {
   "cell_type": "code",
   "execution_count": 21,
   "id": "82a05970",
   "metadata": {},
   "outputs": [
    {
     "data": {
      "text/plain": [
       "{0: 0, 1: 1, 2: 1, 3: 4, 4: 4, 5: 9, 6: 9, 7: 16, 8: 16, 9: 25}"
      ]
     },
     "execution_count": 21,
     "metadata": {},
     "output_type": "execute_result"
    }
   ],
   "source": [
    "{n: sum_odd_numbers(n) for n in range(10)}"
   ]
  },
  {
   "cell_type": "markdown",
   "id": "700117f8",
   "metadata": {},
   "source": [
    "# Zadanie 29"
   ]
  },
  {
   "cell_type": "code",
   "execution_count": 53,
   "id": "07bb9940",
   "metadata": {},
   "outputs": [],
   "source": [
    "def eratosthenes_sieve(n):\n",
    "    \"\"\"Applies Eratosthenes sieve to find primes in [2, n]\n",
    "    \n",
    "    Args:\n",
    "        n: int - natural number\n",
    "        \n",
    "    Returns: \n",
    "        primes in the interval [2, n]\n",
    "    \n",
    "    \"\"\"\n",
    "    \n",
    "    primes = set(range(2, n+1))\n",
    " \n",
    "    divisor = 2\n",
    "    while True:\n",
    "        # we remove numbers > divisor and divisible by divisor \n",
    "        to_remove = {i for i in primes\n",
    "                     if (i % divisor == 0) and (i != divisor)}\n",
    "        primes = primes - to_remove\n",
    "        \n",
    "        # we set divisor to be the next element in the set 'primes'\n",
    "        divisor = min({element for element in primes if element > divisor})\n",
    "        \n",
    "        if not len(to_remove):\n",
    "            break\n",
    "   \n",
    "    return primes\n"
   ]
  },
  {
   "cell_type": "code",
   "execution_count": 51,
   "id": "59b40dc0",
   "metadata": {},
   "outputs": [
    {
     "name": "stdout",
     "output_type": "stream",
     "text": [
      "10 loops, best of 3: 27.1 ms per loop\n"
     ]
    }
   ],
   "source": [
    "%timeit eratosthenes_sieve(10000)"
   ]
  },
  {
   "cell_type": "code",
   "execution_count": 52,
   "id": "b364c38c",
   "metadata": {},
   "outputs": [
    {
     "name": "stdout",
     "output_type": "stream",
     "text": [
      "10 loops, best of 3: 38.3 ms per loop\n"
     ]
    }
   ],
   "source": [
    "%timeit primes(2, 10000)"
   ]
  },
  {
   "cell_type": "code",
   "execution_count": null,
   "id": "949bb6a7",
   "metadata": {},
   "outputs": [],
   "source": []
  }
 ],
 "metadata": {
  "kernelspec": {
   "display_name": "Python 3",
   "language": "python",
   "name": "python3"
  },
  "language_info": {
   "codemirror_mode": {
    "name": "ipython",
    "version": 3
   },
   "file_extension": ".py",
   "mimetype": "text/x-python",
   "name": "python",
   "nbconvert_exporter": "python",
   "pygments_lexer": "ipython3",
   "version": "3.6.9"
  }
 },
 "nbformat": 4,
 "nbformat_minor": 5
}
