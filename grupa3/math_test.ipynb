{
 "cells": [
  {
   "cell_type": "code",
   "execution_count": 1,
   "id": "24900c44",
   "metadata": {},
   "outputs": [],
   "source": [
    "from mymath.linalg import Vect"
   ]
  },
  {
   "cell_type": "code",
   "execution_count": 2,
   "id": "5fb185a8",
   "metadata": {},
   "outputs": [
    {
     "data": {
      "text/plain": [
       "Vector([1, 2, 3, 7])"
      ]
     },
     "execution_count": 2,
     "metadata": {},
     "output_type": "execute_result"
    }
   ],
   "source": [
    "v1 = Vect([1, 2, 3, 7])\n",
    "v1"
   ]
  },
  {
   "cell_type": "code",
   "execution_count": 3,
   "id": "b32008ed",
   "metadata": {},
   "outputs": [
    {
     "data": {
      "text/plain": [
       "Vector([1, -2, 0])"
      ]
     },
     "execution_count": 3,
     "metadata": {},
     "output_type": "execute_result"
    }
   ],
   "source": [
    "v2 = Vect([1, -2, 0])\n",
    "v2"
   ]
  },
  {
   "cell_type": "code",
   "execution_count": 4,
   "id": "b408d2ee",
   "metadata": {},
   "outputs": [
    {
     "ename": "ValueError",
     "evalue": "Vectors with different dimensions cannot be added.",
     "output_type": "error",
     "traceback": [
      "\u001b[0;31m---------------------------------------------------------------------------\u001b[0m",
      "\u001b[0;31mValueError\u001b[0m                                Traceback (most recent call last)",
      "\u001b[0;32m<ipython-input-4-d699e34733c1>\u001b[0m in \u001b[0;36m<module>\u001b[0;34m()\u001b[0m\n\u001b[0;32m----> 1\u001b[0;31m \u001b[0mv3\u001b[0m \u001b[0;34m=\u001b[0m \u001b[0mv1\u001b[0m \u001b[0;34m+\u001b[0m \u001b[0mv2\u001b[0m  \u001b[0;31m# self = v1, other = v2\u001b[0m\u001b[0;34m\u001b[0m\u001b[0;34m\u001b[0m\u001b[0m\n\u001b[0m\u001b[1;32m      2\u001b[0m \u001b[0mv3\u001b[0m\u001b[0;34m\u001b[0m\u001b[0;34m\u001b[0m\u001b[0m\n",
      "\u001b[0;32m/home/jprzew/Studenci/OprogMat/oprogmat/grupa3/mymath/linalg.py\u001b[0m in \u001b[0;36m__add__\u001b[0;34m(self, other)\u001b[0m\n\u001b[1;32m     23\u001b[0m \u001b[0;34m\u001b[0m\u001b[0m\n\u001b[1;32m     24\u001b[0m         \u001b[0;32mif\u001b[0m \u001b[0mself\u001b[0m\u001b[0;34m.\u001b[0m\u001b[0mn\u001b[0m \u001b[0;34m!=\u001b[0m \u001b[0mother\u001b[0m\u001b[0;34m.\u001b[0m\u001b[0mn\u001b[0m\u001b[0;34m:\u001b[0m\u001b[0;34m\u001b[0m\u001b[0;34m\u001b[0m\u001b[0m\n\u001b[0;32m---> 25\u001b[0;31m             \u001b[0;32mraise\u001b[0m \u001b[0mValueError\u001b[0m\u001b[0;34m(\u001b[0m\u001b[0;34m'Vectors with different dimensions cannot be added.'\u001b[0m\u001b[0;34m)\u001b[0m\u001b[0;34m\u001b[0m\u001b[0;34m\u001b[0m\u001b[0m\n\u001b[0m\u001b[1;32m     26\u001b[0m \u001b[0;34m\u001b[0m\u001b[0m\n\u001b[1;32m     27\u001b[0m         coordinates = [element1 + element2 for element1, element2\n",
      "\u001b[0;31mValueError\u001b[0m: Vectors with different dimensions cannot be added."
     ]
    }
   ],
   "source": [
    "v3 = v1 + v2  # self = v1, other = v2\n",
    "v3"
   ]
  },
  {
   "cell_type": "code",
   "execution_count": null,
   "id": "4d6059d7",
   "metadata": {},
   "outputs": [],
   "source": [
    "v1 + Vect([1, 2, 3, 4])"
   ]
  },
  {
   "cell_type": "markdown",
   "id": "3a65502f",
   "metadata": {},
   "source": [
    "Norma wektora $(x_1, x_2, ..., x_n)$ jest wyrażona wzorem\n",
    "$$\\sqrt{x_1^2 + x_2^2 + ... + x_n^2} $$"
   ]
  },
  {
   "cell_type": "code",
   "execution_count": null,
   "id": "48248c59",
   "metadata": {},
   "outputs": [],
   "source": [
    "Vect([1, 0, 0]).norm()"
   ]
  },
  {
   "cell_type": "code",
   "execution_count": null,
   "id": "de70f3f8",
   "metadata": {},
   "outputs": [],
   "source": [
    "Vect([1, -1, -1]).norm()"
   ]
  },
  {
   "cell_type": "code",
   "execution_count": null,
   "id": "98c96fe1",
   "metadata": {},
   "outputs": [],
   "source": [
    "3 ** 0.5"
   ]
  },
  {
   "cell_type": "code",
   "execution_count": null,
   "id": "8090bc65",
   "metadata": {},
   "outputs": [],
   "source": [
    "Vect([3, -1, -1]) * (-1)"
   ]
  },
  {
   "cell_type": "code",
   "execution_count": null,
   "id": "cb6a3416",
   "metadata": {},
   "outputs": [],
   "source": [
    "(-1) * Vect([3, -1, -1])"
   ]
  },
  {
   "cell_type": "markdown",
   "id": "e0b783c7",
   "metadata": {},
   "source": [
    "**Problem**"
   ]
  },
  {
   "cell_type": "code",
   "execution_count": 5,
   "id": "e162d822",
   "metadata": {},
   "outputs": [
    {
     "data": {
      "text/plain": [
       "2"
      ]
     },
     "execution_count": 5,
     "metadata": {},
     "output_type": "execute_result"
    }
   ],
   "source": [
    "v1 = Vect([2, 3])\n",
    "v1.n"
   ]
  },
  {
   "cell_type": "code",
   "execution_count": 6,
   "id": "68905bec",
   "metadata": {},
   "outputs": [
    {
     "data": {
      "text/plain": [
       "3"
      ]
     },
     "execution_count": 6,
     "metadata": {},
     "output_type": "execute_result"
    }
   ],
   "source": [
    "v1.items = [1, 2, 3]\n",
    "v1.n"
   ]
  },
  {
   "cell_type": "code",
   "execution_count": 7,
   "id": "a4c9473f",
   "metadata": {},
   "outputs": [],
   "source": [
    "v1.n = 10"
   ]
  },
  {
   "cell_type": "code",
   "execution_count": 8,
   "id": "769a0f0b",
   "metadata": {},
   "outputs": [
    {
     "data": {
      "text/plain": [
       "[1, 2, 3, 0, 0, 0, 0, 0, 0, 0]"
      ]
     },
     "execution_count": 8,
     "metadata": {},
     "output_type": "execute_result"
    }
   ],
   "source": [
    "v1.items"
   ]
  },
  {
   "cell_type": "code",
   "execution_count": 9,
   "id": "1a597705",
   "metadata": {},
   "outputs": [
    {
     "data": {
      "text/plain": [
       "10"
      ]
     },
     "execution_count": 9,
     "metadata": {},
     "output_type": "execute_result"
    }
   ],
   "source": [
    "v1.n"
   ]
  },
  {
   "cell_type": "code",
   "execution_count": 12,
   "id": "57438a1f",
   "metadata": {},
   "outputs": [
    {
     "data": {
      "text/plain": [
       "10"
      ]
     },
     "execution_count": 12,
     "metadata": {},
     "output_type": "execute_result"
    }
   ],
   "source": [
    "v1.n"
   ]
  },
  {
   "cell_type": "code",
   "execution_count": null,
   "id": "25ab6d56",
   "metadata": {},
   "outputs": [],
   "source": []
  }
 ],
 "metadata": {
  "kernelspec": {
   "display_name": "Python 3",
   "language": "python",
   "name": "python3"
  },
  "language_info": {
   "codemirror_mode": {
    "name": "ipython",
    "version": 3
   },
   "file_extension": ".py",
   "mimetype": "text/x-python",
   "name": "python",
   "nbconvert_exporter": "python",
   "pygments_lexer": "ipython3",
   "version": "3.6.9"
  }
 },
 "nbformat": 4,
 "nbformat_minor": 5
}
