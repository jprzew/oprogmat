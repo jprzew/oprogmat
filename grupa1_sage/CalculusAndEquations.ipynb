{
 "cells": [
  {
   "cell_type": "markdown",
   "metadata": {},
   "source": [
    "# Zadanie 2.1"
   ]
  },
  {
   "cell_type": "code",
   "execution_count": 1,
   "metadata": {},
   "outputs": [],
   "source": [
    "f(x) = sin(x^2)"
   ]
  },
  {
   "cell_type": "code",
   "execution_count": 3,
   "metadata": {},
   "outputs": [
    {
     "data": {
      "text/html": [
       "<html><script type=\"math/tex; mode=display\">\\newcommand{\\Bold}[1]{\\mathbf{#1}}x \\ {\\mapsto}\\ 2 \\, x \\cos\\left(x^{2}\\right)</script></html>"
      ],
      "text/latex": [
       "\\begin{math}\n",
       "\\newcommand{\\Bold}[1]{\\mathbf{#1}}x \\ {\\mapsto}\\ 2 \\, x \\cos\\left(x^{2}\\right)\n",
       "\\end{math}"
      ],
      "text/plain": [
       "x |--> 2*x*cos(x^2)"
      ]
     },
     "metadata": {},
     "output_type": "display_data"
    }
   ],
   "source": [
    "show(diff(f, x))"
   ]
  },
  {
   "cell_type": "code",
   "execution_count": 4,
   "metadata": {},
   "outputs": [
    {
     "data": {
      "text/plain": [
       "e^x"
      ]
     },
     "execution_count": 4,
     "metadata": {},
     "output_type": "execute_result"
    }
   ],
   "source": [
    "diff(e^x, x)"
   ]
  },
  {
   "cell_type": "code",
   "execution_count": 5,
   "metadata": {},
   "outputs": [
    {
     "data": {
      "text/plain": [
       "e^x"
      ]
     },
     "execution_count": 5,
     "metadata": {},
     "output_type": "execute_result"
    }
   ],
   "source": [
    "diff(exp(x), x)"
   ]
  },
  {
   "cell_type": "markdown",
   "metadata": {},
   "source": [
    "# Zadanie 2.2"
   ]
  },
  {
   "cell_type": "code",
   "execution_count": 8,
   "metadata": {},
   "outputs": [],
   "source": [
    "f(x) = exp(-x^2)"
   ]
  },
  {
   "cell_type": "code",
   "execution_count": 10,
   "metadata": {},
   "outputs": [
    {
     "data": {
      "image/png": "[encoded data removed]",
      "text/plain": [
       "Graphics object consisting of 1 graphics primitive"
      ]
     },
     "execution_count": 10,
     "metadata": {},
     "output_type": "execute_result"
    }
   ],
   "source": [
    "plot(f, x, -4, 4)"
   ]
  },
  {
   "cell_type": "code",
   "execution_count": 12,
   "metadata": {},
   "outputs": [
    {
     "data": {
      "text/html": [
       "<html><script type=\"math/tex; mode=display\">\\newcommand{\\Bold}[1]{\\mathbf{#1}}x \\ {\\mapsto}\\ -2 \\, x e^{\\left(-x^{2}\\right)}</script></html>"
      ],
      "text/latex": [
       "\\begin{math}\n",
       "\\newcommand{\\Bold}[1]{\\mathbf{#1}}x \\ {\\mapsto}\\ -2 \\, x e^{\\left(-x^{2}\\right)}\n",
       "\\end{math}"
      ],
      "text/plain": [
       "x |--> -2*x*e^(-x^2)"
      ]
     },
     "metadata": {},
     "output_type": "display_data"
    }
   ],
   "source": [
    "show(diff(f, x))"
   ]
  },
  {
   "cell_type": "code",
   "execution_count": 14,
   "metadata": {},
   "outputs": [
    {
     "data": {
      "text/plain": [
       "x |--> 4*x^2*e^(-x^2) - 2*e^(-x^2)"
      ]
     },
     "execution_count": 14,
     "metadata": {},
     "output_type": "execute_result"
    }
   ],
   "source": [
    "diff(f, x, 2)"
   ]
  },
  {
   "cell_type": "code",
   "execution_count": 16,
   "metadata": {},
   "outputs": [
    {
     "data": {
      "text/plain": [
       "[x |--> -2*x*e^(-x^2),\n",
       " x |--> 4*x^2*e^(-x^2) - 2*e^(-x^2),\n",
       " x |--> -8*x^3*e^(-x^2) + 12*x*e^(-x^2),\n",
       " x |--> 16*x^4*e^(-x^2) - 48*x^2*e^(-x^2) + 12*e^(-x^2),\n",
       " x |--> -32*x^5*e^(-x^2) + 160*x^3*e^(-x^2) - 120*x*e^(-x^2),\n",
       " x |--> 64*x^6*e^(-x^2) - 480*x^4*e^(-x^2) + 720*x^2*e^(-x^2) - 120*e^(-x^2),\n",
       " x |--> -128*x^7*e^(-x^2) + 1344*x^5*e^(-x^2) - 3360*x^3*e^(-x^2) + 1680*x*e^(-x^2),\n",
       " x |--> 256*x^8*e^(-x^2) - 3584*x^6*e^(-x^2) + 13440*x^4*e^(-x^2) - 13440*x^2*e^(-x^2) + 1680*e^(-x^2),\n",
       " x |--> -512*x^9*e^(-x^2) + 9216*x^7*e^(-x^2) - 48384*x^5*e^(-x^2) + 80640*x^3*e^(-x^2) - 30240*x*e^(-x^2),\n",
       " x |--> 1024*x^10*e^(-x^2) - 23040*x^8*e^(-x^2) + 161280*x^6*e^(-x^2) - 403200*x^4*e^(-x^2) + 302400*x^2*e^(-x^2) - 30240*e^(-x^2)]"
      ]
     },
     "execution_count": 16,
     "metadata": {},
     "output_type": "execute_result"
    }
   ],
   "source": [
    "[diff(f, x, k) for k in range(1, 11)]"
   ]
  },
  {
   "cell_type": "markdown",
   "metadata": {},
   "source": [
    "# Zadanie 2.3"
   ]
  },
  {
   "cell_type": "code",
   "execution_count": 19,
   "metadata": {},
   "outputs": [
    {
     "data": {
      "text/plain": [
       "(x^3 - x + 1)*e^x + 10*(3*x^2 - 1)*e^x + 270*x*e^x + 720*e^x == 0"
      ]
     },
     "execution_count": 19,
     "metadata": {},
     "output_type": "execute_result"
    }
   ],
   "source": [
    "diff((x^3 - x + 1) * exp(x), x, 10) == 0"
   ]
  },
  {
   "cell_type": "code",
   "execution_count": 21,
   "metadata": {},
   "outputs": [],
   "source": [
    "solutions = solve(diff((x^3 - x + 1) * exp(x), x, 10) == 0, x)"
   ]
  },
  {
   "cell_type": "code",
   "execution_count": 22,
   "metadata": {},
   "outputs": [
    {
     "data": {
      "text/html": [
       "<html><script type=\"math/tex; mode=display\">\\newcommand{\\Bold}[1]{\\mathbf{#1}}\\left[x = -\\frac{1}{2} \\, {\\left(\\frac{1}{18} i \\, \\sqrt{107257} \\sqrt{3} - \\frac{21}{2}\\right)}^{\\frac{1}{3}} {\\left(i \\, \\sqrt{3} + 1\\right)} - \\frac{31 \\, {\\left(-i \\, \\sqrt{3} + 1\\right)}}{6 \\, {\\left(\\frac{1}{18} i \\, \\sqrt{107257} \\sqrt{3} - \\frac{21}{2}\\right)}^{\\frac{1}{3}}} - 10, x = -\\frac{1}{2} \\, {\\left(\\frac{1}{18} i \\, \\sqrt{107257} \\sqrt{3} - \\frac{21}{2}\\right)}^{\\frac{1}{3}} {\\left(-i \\, \\sqrt{3} + 1\\right)} - \\frac{31 \\, {\\left(i \\, \\sqrt{3} + 1\\right)}}{6 \\, {\\left(\\frac{1}{18} i \\, \\sqrt{107257} \\sqrt{3} - \\frac{21}{2}\\right)}^{\\frac{1}{3}}} - 10, x = {\\left(\\frac{1}{18} i \\, \\sqrt{107257} \\sqrt{3} - \\frac{21}{2}\\right)}^{\\frac{1}{3}} + \\frac{31}{3 \\, {\\left(\\frac{1}{18} i \\, \\sqrt{107257} \\sqrt{3} - \\frac{21}{2}\\right)}^{\\frac{1}{3}}} - 10\\right]</script></html>"
      ],
      "text/latex": [
       "\\begin{math}\n",
       "\\newcommand{\\Bold}[1]{\\mathbf{#1}}\\left[x = -\\frac{1}{2} \\, {\\left(\\frac{1}{18} i \\, \\sqrt{107257} \\sqrt{3} - \\frac{21}{2}\\right)}^{\\frac{1}{3}} {\\left(i \\, \\sqrt{3} + 1\\right)} - \\frac{31 \\, {\\left(-i \\, \\sqrt{3} + 1\\right)}}{6 \\, {\\left(\\frac{1}{18} i \\, \\sqrt{107257} \\sqrt{3} - \\frac{21}{2}\\right)}^{\\frac{1}{3}}} - 10, x = -\\frac{1}{2} \\, {\\left(\\frac{1}{18} i \\, \\sqrt{107257} \\sqrt{3} - \\frac{21}{2}\\right)}^{\\frac{1}{3}} {\\left(-i \\, \\sqrt{3} + 1\\right)} - \\frac{31 \\, {\\left(i \\, \\sqrt{3} + 1\\right)}}{6 \\, {\\left(\\frac{1}{18} i \\, \\sqrt{107257} \\sqrt{3} - \\frac{21}{2}\\right)}^{\\frac{1}{3}}} - 10, x = {\\left(\\frac{1}{18} i \\, \\sqrt{107257} \\sqrt{3} - \\frac{21}{2}\\right)}^{\\frac{1}{3}} + \\frac{31}{3 \\, {\\left(\\frac{1}{18} i \\, \\sqrt{107257} \\sqrt{3} - \\frac{21}{2}\\right)}^{\\frac{1}{3}}} - 10\\right]\n",
       "\\end{math}"
      ],
      "text/plain": [
       "[x == -1/2*(1/18*I*sqrt(107257)*sqrt(3) - 21/2)^(1/3)*(I*sqrt(3) + 1) - 31/6*(-I*sqrt(3) + 1)/(1/18*I*sqrt(107257)*sqrt(3) - 21/2)^(1/3) - 10, x == -1/2*(1/18*I*sqrt(107257)*sqrt(3) - 21/2)^(1/3)*(-I*sqrt(3) + 1) - 31/6*(I*sqrt(3) + 1)/(1/18*I*sqrt(107257)*sqrt(3) - 21/2)^(1/3) - 10, x == (1/18*I*sqrt(107257)*sqrt(3) - 21/2)^(1/3) + 31/3/(1/18*I*sqrt(107257)*sqrt(3) - 21/2)^(1/3) - 10]"
      ]
     },
     "metadata": {},
     "output_type": "display_data"
    }
   ],
   "source": [
    "show(solutions)"
   ]
  },
  {
   "cell_type": "code",
   "execution_count": 24,
   "metadata": {},
   "outputs": [
    {
     "data": {
      "text/plain": [
       "[-9.31207908443618 + 1.33226762955019e-15*I,\n",
       " -15.8797597325432 - 4.44089209850063e-16*I,\n",
       " -4.80816118302064 - 4.44089209850063e-16*I]"
      ]
     },
     "execution_count": 24,
     "metadata": {},
     "output_type": "execute_result"
    }
   ],
   "source": [
    "[solution.right_hand_side().n() for solution in solutions]"
   ]
  },
  {
   "cell_type": "markdown",
   "metadata": {},
   "source": [
    "# Zadanie 2.4"
   ]
  },
  {
   "cell_type": "code",
   "execution_count": 38,
   "metadata": {},
   "outputs": [
    {
     "data": {
      "text/plain": [
       "[1/2*x^2, 1/3*x^3, 1/4*x^4, 1/5*x^5, 1/6*x^6]"
      ]
     },
     "execution_count": 38,
     "metadata": {},
     "output_type": "execute_result"
    }
   ],
   "source": [
    "[integral(x^k, x) for k in range(1, 6)]"
   ]
  },
  {
   "cell_type": "markdown",
   "metadata": {},
   "source": [
    "$$\\int x^n dx = \\frac{1}{n+1} x^{n+1} + C$$"
   ]
  },
  {
   "cell_type": "markdown",
   "metadata": {},
   "source": [
    "# Zadanie 2.5"
   ]
  },
  {
   "cell_type": "markdown",
   "metadata": {},
   "source": [
    "$$\\int x^a dx = \\frac{1}{a+1} x^{a+1} + C,\\quad a \\neq -1$$"
   ]
  },
  {
   "cell_type": "markdown",
   "metadata": {},
   "source": [
    "$$\\int \\sqrt{x} dx = \\frac{2}{3} x^{3/2} + C$$"
   ]
  },
  {
   "cell_type": "code",
   "execution_count": 45,
   "metadata": {},
   "outputs": [
    {
     "data": {
      "text/html": [
       "<html><script type=\"math/tex; mode=display\">\\newcommand{\\Bold}[1]{\\mathbf{#1}}\\frac{2}{3} \\, x^{\\frac{3}{2}}</script></html>"
      ],
      "text/latex": [
       "\\begin{math}\n",
       "\\newcommand{\\Bold}[1]{\\mathbf{#1}}\\frac{2}{3} \\, x^{\\frac{3}{2}}\n",
       "\\end{math}"
      ],
      "text/plain": [
       "2/3*x^(3/2)"
      ]
     },
     "metadata": {},
     "output_type": "display_data"
    }
   ],
   "source": [
    "show(integral(sqrt(x), x))"
   ]
  },
  {
   "cell_type": "markdown",
   "metadata": {},
   "source": [
    "$$\\int \\frac{1}{x} dx = \\int x^{-1} dx = \\log|x| + C$$"
   ]
  },
  {
   "cell_type": "markdown",
   "metadata": {},
   "source": [
    "Sprawdzamy czy ten wzór w ogóle jest prawdziwy?"
   ]
  },
  {
   "cell_type": "code",
   "execution_count": 52,
   "metadata": {},
   "outputs": [
    {
     "data": {
      "text/plain": [
       "x^a"
      ]
     },
     "execution_count": 52,
     "metadata": {},
     "output_type": "execute_result"
    }
   ],
   "source": [
    "a = var('a')\n",
    "diff(1/(a+1) * x^(a+1), x)"
   ]
  },
  {
   "cell_type": "code",
   "execution_count": 54,
   "metadata": {},
   "outputs": [
    {
     "data": {
      "text/plain": [
       "x^(a + 1)/(a + 1)"
      ]
     },
     "execution_count": 54,
     "metadata": {},
     "output_type": "execute_result"
    }
   ],
   "source": [
    "assume(a != -1)\n",
    "integral(x^a, x)"
   ]
  },
  {
   "cell_type": "markdown",
   "metadata": {},
   "source": [
    "# Zadanie 2.6"
   ]
  },
  {
   "cell_type": "code",
   "execution_count": 55,
   "metadata": {},
   "outputs": [
    {
     "data": {
      "text/plain": [
       "1"
      ]
     },
     "execution_count": 55,
     "metadata": {},
     "output_type": "execute_result"
    }
   ],
   "source": [
    "integral(sin(x), x, 0, pi/2)"
   ]
  },
  {
   "cell_type": "code",
   "execution_count": null,
   "metadata": {},
   "outputs": [],
   "source": []
  }
 ],
 "metadata": {
  "kernelspec": {
   "display_name": "SageMath 9.2",
   "language": "sage",
   "name": "sagemath"
  },
  "language_info": {
   "codemirror_mode": {
    "name": "ipython",
    "version": 3
   },
   "file_extension": ".py",
   "mimetype": "text/x-python",
   "name": "python",
   "nbconvert_exporter": "python",
   "pygments_lexer": "ipython3",
   "version": "3.8.6"
  }
 },
 "nbformat": 4,
 "nbformat_minor": 4
}
